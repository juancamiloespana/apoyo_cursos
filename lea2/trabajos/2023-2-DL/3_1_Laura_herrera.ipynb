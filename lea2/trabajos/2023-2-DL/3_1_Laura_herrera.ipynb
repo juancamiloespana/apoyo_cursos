{
  "nbformat": 4,
  "nbformat_minor": 0,
  "metadata": {
    "colab": {
      "provenance": []
    },
    "kernelspec": {
      "name": "python3",
      "display_name": "Python 3"
    },
    "language_info": {
      "name": "python"
    }
  },
  "cells": [
    {
      "cell_type": "code",
      "source": [
        "###basicas\n",
        "import pandas as pd\n",
        "import numpy as np\n",
        "import seaborn as sns\n",
        "import matplotlib.pyplot as plt\n",
        "\n",
        "##### datos y modelos sklearn\n",
        "from sklearn import datasets\n",
        "from sklearn.model_selection import train_test_split\n",
        "from sklearn.preprocessing import StandardScaler\n",
        "\n",
        "####### redes neuronales\n",
        "\n",
        "import tensorflow as tf\n",
        "from tensorflow import keras\n",
        "!pip install keras_tuner\n",
        "import keras_tuner as kt"
      ],
      "metadata": {
        "colab": {
          "base_uri": "https://localhost:8080/"
        },
        "id": "npdRP4lxQivC",
        "outputId": "827ce9cf-1072-4475-ed68-31de12b6aed8"
      },
      "execution_count": 1,
      "outputs": [
        {
          "output_type": "stream",
          "name": "stdout",
          "text": [
            "Collecting keras_tuner\n",
            "  Downloading keras_tuner-1.4.6-py3-none-any.whl (128 kB)\n",
            "\u001b[2K     \u001b[90m━━━━━━━━━━━━━━━━━━━━━━━━━━━━━━━━━━━━━━━━\u001b[0m \u001b[32m128.9/128.9 kB\u001b[0m \u001b[31m1.6 MB/s\u001b[0m eta \u001b[36m0:00:00\u001b[0m\n",
            "\u001b[?25hRequirement already satisfied: keras in /usr/local/lib/python3.10/dist-packages (from keras_tuner) (2.14.0)\n",
            "Requirement already satisfied: packaging in /usr/local/lib/python3.10/dist-packages (from keras_tuner) (23.2)\n",
            "Requirement already satisfied: requests in /usr/local/lib/python3.10/dist-packages (from keras_tuner) (2.31.0)\n",
            "Collecting kt-legacy (from keras_tuner)\n",
            "  Downloading kt_legacy-1.0.5-py3-none-any.whl (9.6 kB)\n",
            "Requirement already satisfied: charset-normalizer<4,>=2 in /usr/local/lib/python3.10/dist-packages (from requests->keras_tuner) (3.3.2)\n",
            "Requirement already satisfied: idna<4,>=2.5 in /usr/local/lib/python3.10/dist-packages (from requests->keras_tuner) (3.4)\n",
            "Requirement already satisfied: urllib3<3,>=1.21.1 in /usr/local/lib/python3.10/dist-packages (from requests->keras_tuner) (2.0.7)\n",
            "Requirement already satisfied: certifi>=2017.4.17 in /usr/local/lib/python3.10/dist-packages (from requests->keras_tuner) (2023.7.22)\n",
            "Installing collected packages: kt-legacy, keras_tuner\n",
            "Successfully installed keras_tuner-1.4.6 kt-legacy-1.0.5\n"
          ]
        }
      ]
    },
    {
      "cell_type": "code",
      "source": [
        "#cargar base de datos\n",
        "url=\"https://raw.githubusercontent.com/juancamiloespana/LEA2/master/_data/credit_card_clients.csv\"\n",
        "\n",
        "credit_card=pd.read_csv(url)"
      ],
      "metadata": {
        "id": "gbMa2ob3Qm1-"
      },
      "execution_count": 2,
      "outputs": []
    },
    {
      "cell_type": "code",
      "source": [
        "#analizar base de datos\n",
        "credit_card.info()"
      ],
      "metadata": {
        "colab": {
          "base_uri": "https://localhost:8080/"
        },
        "id": "idKJoswFQuX5",
        "outputId": "953d9492-c0e0-4b3e-ef5a-5ae9370d641a"
      },
      "execution_count": 20,
      "outputs": [
        {
          "output_type": "stream",
          "name": "stdout",
          "text": [
            "<class 'pandas.core.frame.DataFrame'>\n",
            "Int64Index: 8636 entries, 0 to 8949\n",
            "Data columns (total 18 columns):\n",
            " #   Column                            Non-Null Count  Dtype  \n",
            "---  ------                            --------------  -----  \n",
            " 0   CUST_ID                           8636 non-null   object \n",
            " 1   BALANCE                           8636 non-null   float64\n",
            " 2   BALANCE_FREQUENCY                 8636 non-null   float64\n",
            " 3   PURCHASES                         8636 non-null   float64\n",
            " 4   ONEOFF_PURCHASES                  8636 non-null   float64\n",
            " 5   INSTALLMENTS_PURCHASES            8636 non-null   float64\n",
            " 6   CASH_ADVANCE                      8636 non-null   float64\n",
            " 7   PURCHASES_FREQUENCY               8636 non-null   float64\n",
            " 8   ONEOFF_PURCHASES_FREQUENCY        8636 non-null   float64\n",
            " 9   PURCHASES_INSTALLMENTS_FREQUENCY  8636 non-null   float64\n",
            " 10  CASH_ADVANCE_FREQUENCY            8636 non-null   float64\n",
            " 11  CASH_ADVANCE_TRX                  8636 non-null   int64  \n",
            " 12  PURCHASES_TRX                     8636 non-null   int64  \n",
            " 13  CREDIT_LIMIT                      8636 non-null   float64\n",
            " 14  PAYMENTS                          8636 non-null   float64\n",
            " 15  MINIMUM_PAYMENTS                  8636 non-null   float64\n",
            " 16  PRC_FULL_PAYMENT                  8636 non-null   float64\n",
            " 17  TENURE                            8636 non-null   int64  \n",
            "dtypes: float64(14), int64(3), object(1)\n",
            "memory usage: 1.3+ MB\n"
          ]
        }
      ]
    },
    {
      "cell_type": "code",
      "source": [
        "# Identificar nulos\n",
        "credit_card.isnull().sum()"
      ],
      "metadata": {
        "colab": {
          "base_uri": "https://localhost:8080/"
        },
        "id": "RepMjpdRtBiQ",
        "outputId": "81a08643-df3f-4853-db43-20c643c13c07"
      },
      "execution_count": 4,
      "outputs": [
        {
          "output_type": "execute_result",
          "data": {
            "text/plain": [
              "CUST_ID                               0\n",
              "BALANCE                               0\n",
              "BALANCE_FREQUENCY                     0\n",
              "PURCHASES                             0\n",
              "ONEOFF_PURCHASES                      0\n",
              "INSTALLMENTS_PURCHASES                0\n",
              "CASH_ADVANCE                          0\n",
              "PURCHASES_FREQUENCY                   0\n",
              "ONEOFF_PURCHASES_FREQUENCY            0\n",
              "PURCHASES_INSTALLMENTS_FREQUENCY      0\n",
              "CASH_ADVANCE_FREQUENCY                0\n",
              "CASH_ADVANCE_TRX                      0\n",
              "PURCHASES_TRX                         0\n",
              "CREDIT_LIMIT                          1\n",
              "PAYMENTS                              0\n",
              "MINIMUM_PAYMENTS                    313\n",
              "PRC_FULL_PAYMENT                      0\n",
              "TENURE                                0\n",
              "dtype: int64"
            ]
          },
          "metadata": {},
          "execution_count": 4
        }
      ]
    },
    {
      "cell_type": "markdown",
      "source": [
        "se identificaron 313 valores nulos en la variable MINIMUM_PAYMENTS y 1 nulo en la variable CREDIT_LIMIT"
      ],
      "metadata": {
        "id": "xYVV5PbKtQ9A"
      }
    },
    {
      "cell_type": "code",
      "source": [
        "# tratamiento de nulos\n",
        "credit_card= credit_card.dropna()"
      ],
      "metadata": {
        "id": "uyvIjKsxtYYa"
      },
      "execution_count": 5,
      "outputs": []
    },
    {
      "cell_type": "markdown",
      "source": [
        "Se decide eliminar los nulos dado que representan solo el 4% de los datos y es necesario hacer este tratamiento para ejecutar la red neuronal"
      ],
      "metadata": {
        "id": "ndNv0Wwb9AN0"
      }
    },
    {
      "cell_type": "code",
      "source": [
        "# verificar nuevamente los nulos\n",
        "credit_card.isnull().sum()"
      ],
      "metadata": {
        "colab": {
          "base_uri": "https://localhost:8080/"
        },
        "id": "-WeCDDJgttbi",
        "outputId": "f159039e-2095-4fe0-d38e-9dced495f882"
      },
      "execution_count": 6,
      "outputs": [
        {
          "output_type": "execute_result",
          "data": {
            "text/plain": [
              "CUST_ID                             0\n",
              "BALANCE                             0\n",
              "BALANCE_FREQUENCY                   0\n",
              "PURCHASES                           0\n",
              "ONEOFF_PURCHASES                    0\n",
              "INSTALLMENTS_PURCHASES              0\n",
              "CASH_ADVANCE                        0\n",
              "PURCHASES_FREQUENCY                 0\n",
              "ONEOFF_PURCHASES_FREQUENCY          0\n",
              "PURCHASES_INSTALLMENTS_FREQUENCY    0\n",
              "CASH_ADVANCE_FREQUENCY              0\n",
              "CASH_ADVANCE_TRX                    0\n",
              "PURCHASES_TRX                       0\n",
              "CREDIT_LIMIT                        0\n",
              "PAYMENTS                            0\n",
              "MINIMUM_PAYMENTS                    0\n",
              "PRC_FULL_PAYMENT                    0\n",
              "TENURE                              0\n",
              "dtype: int64"
            ]
          },
          "metadata": {},
          "execution_count": 6
        }
      ]
    },
    {
      "cell_type": "markdown",
      "source": [
        "Se vuelven a revisar los nulos para comprobar que el tratamiento funcionó correctamente"
      ],
      "metadata": {
        "id": "MMTjonJ1t3NW"
      }
    },
    {
      "cell_type": "code",
      "source": [
        "# eliminar la variable CUST_ID\n",
        "credit_card2 = credit_card.drop('CUST_ID', axis=1)\n",
        "credit_card2.info()"
      ],
      "metadata": {
        "colab": {
          "base_uri": "https://localhost:8080/"
        },
        "id": "mUwQ3O8hRBhP",
        "outputId": "d392cd11-9a54-47d5-abe8-832b3a36d0d6"
      },
      "execution_count": 7,
      "outputs": [
        {
          "output_type": "stream",
          "name": "stdout",
          "text": [
            "<class 'pandas.core.frame.DataFrame'>\n",
            "Int64Index: 8636 entries, 0 to 8949\n",
            "Data columns (total 17 columns):\n",
            " #   Column                            Non-Null Count  Dtype  \n",
            "---  ------                            --------------  -----  \n",
            " 0   BALANCE                           8636 non-null   float64\n",
            " 1   BALANCE_FREQUENCY                 8636 non-null   float64\n",
            " 2   PURCHASES                         8636 non-null   float64\n",
            " 3   ONEOFF_PURCHASES                  8636 non-null   float64\n",
            " 4   INSTALLMENTS_PURCHASES            8636 non-null   float64\n",
            " 5   CASH_ADVANCE                      8636 non-null   float64\n",
            " 6   PURCHASES_FREQUENCY               8636 non-null   float64\n",
            " 7   ONEOFF_PURCHASES_FREQUENCY        8636 non-null   float64\n",
            " 8   PURCHASES_INSTALLMENTS_FREQUENCY  8636 non-null   float64\n",
            " 9   CASH_ADVANCE_FREQUENCY            8636 non-null   float64\n",
            " 10  CASH_ADVANCE_TRX                  8636 non-null   int64  \n",
            " 11  PURCHASES_TRX                     8636 non-null   int64  \n",
            " 12  CREDIT_LIMIT                      8636 non-null   float64\n",
            " 13  PAYMENTS                          8636 non-null   float64\n",
            " 14  MINIMUM_PAYMENTS                  8636 non-null   float64\n",
            " 15  PRC_FULL_PAYMENT                  8636 non-null   float64\n",
            " 16  TENURE                            8636 non-null   int64  \n",
            "dtypes: float64(14), int64(3)\n",
            "memory usage: 1.2 MB\n"
          ]
        }
      ]
    },
    {
      "cell_type": "markdown",
      "source": [
        "Se decide eliminar la variable 'CUST_ID' dado que es un identificador de los usuarios, por lo que pueden afectar el modelo más adelante."
      ],
      "metadata": {
        "id": "J5AGssEc9oXH"
      }
    },
    {
      "cell_type": "code",
      "source": [
        "###separar variable respuesta y variables explicativas\n",
        "\n",
        "y_credit_card =credit_card2['PURCHASES']\n",
        "X_credit_card =credit_card2[credit_card2.columns.difference(['PURCHASES'])]"
      ],
      "metadata": {
        "id": "JCv9LIBgROYB"
      },
      "execution_count": 9,
      "outputs": []
    },
    {
      "cell_type": "code",
      "source": [
        "# valor minimo de la variable respuesta\n",
        "y_credit_card.min()"
      ],
      "metadata": {
        "colab": {
          "base_uri": "https://localhost:8080/"
        },
        "id": "ld6tdSYbrzxb",
        "outputId": "2e587757-8362-47cf-f703-3248ef9910a3"
      },
      "execution_count": 10,
      "outputs": [
        {
          "output_type": "execute_result",
          "data": {
            "text/plain": [
              "0.0"
            ]
          },
          "metadata": {},
          "execution_count": 10
        }
      ]
    },
    {
      "cell_type": "markdown",
      "source": [
        "Se identifica que la variable respuesta no toma valores negativos, esto será importante tenerlo en cuenta para definir la función de activación"
      ],
      "metadata": {
        "id": "ekdg7vLXsBBT"
      }
    },
    {
      "cell_type": "code",
      "source": [
        "# escalar los datos\n",
        "sc=StandardScaler().fit(X_credit_card)\n",
        "\n",
        "#### exportar el escalador\n",
        "\n",
        "import joblib\n",
        "\n",
        "joblib.dump(sc, \"/content/drive/MyDrive/Colab Notebooks/sc.joblib\") ### exporta objeto\n",
        "\n",
        "X_sc=sc.transform(X_credit_card)  ## escalado cob base en variales escladas\n",
        "\n",
        "## separar entrenamiento evaluación\n",
        "\n",
        "X_tr, X_te, y_tr, y_te= train_test_split(X_sc, y_credit_card, test_size=0.2)\n",
        "\n",
        "#analizar las dimensiones\n",
        "X_tr.shape"
      ],
      "metadata": {
        "colab": {
          "base_uri": "https://localhost:8080/"
        },
        "id": "OvpxRO8mlGua",
        "outputId": "024fabc8-ec1e-4cdd-cf1f-16dba20cef35"
      },
      "execution_count": 11,
      "outputs": [
        {
          "output_type": "execute_result",
          "data": {
            "text/plain": [
              "(6908, 16)"
            ]
          },
          "metadata": {},
          "execution_count": 11
        }
      ]
    },
    {
      "cell_type": "code",
      "source": [
        "##### definir arquitectura de la red neuronal\n",
        "\n",
        "ann1= keras.models.Sequential([\n",
        "\n",
        "    keras.layers.Dense(64, input_shape=(16,),activation='relu'),\n",
        "\n",
        "    keras.layers.Dense(32, activation='tanh'),\n",
        "\n",
        "    keras.layers.Dense(1, activation='relu')\n",
        "\n",
        "])"
      ],
      "metadata": {
        "id": "rwTbkJWSmDla"
      },
      "execution_count": 12,
      "outputs": []
    },
    {
      "cell_type": "markdown",
      "source": [
        "Se decide utilizar la funcion de activacion \"relu\" porque es un problema de regresión y la variable respuesta no toma valores negativos.\n",
        "\n",
        "Se comienza con una red neuronal sencilla"
      ],
      "metadata": {
        "id": "nUsQaWmQnVI5"
      }
    },
    {
      "cell_type": "code",
      "source": [
        "# hiperparámetros de optimización\n",
        "# definir funcion de perdida y metrica de desempeño\n",
        "loss= keras.losses.MeanSquaredError()\n",
        "opt= keras.optimizers.Adam(learning_rate=0.01)\n",
        "\n",
        "# y la métrica\n",
        "\n",
        "m= keras.metrics.RootMeanSquaredError(name = \"RMSE\")"
      ],
      "metadata": {
        "id": "NRQWhDEHnxRo"
      },
      "execution_count": 13,
      "outputs": []
    },
    {
      "cell_type": "markdown",
      "source": [
        "Se define el MSE como función de pérdida ya que es una elección común para problemas de regresión y penaliza más fuertemente las diferencias más grandes.\n",
        "\n",
        "Se define la métrica RMSE dado que es un ejercicio de regresión y consideramos que es una métrica que permite dar una fácil interpretación del desempeño del modelo y no sucede el problema que ocurría con el MAPE por los valores iguales a cero.\n"
      ],
      "metadata": {
        "id": "wcKAOUsu-yQD"
      }
    },
    {
      "cell_type": "code",
      "source": [
        "y_credit_card.mean()"
      ],
      "metadata": {
        "colab": {
          "base_uri": "https://localhost:8080/"
        },
        "id": "D07-aY2FuxwP",
        "outputId": "b35155d0-999e-4bd6-8302-d78396e39d07"
      },
      "execution_count": 14,
      "outputs": [
        {
          "output_type": "execute_result",
          "data": {
            "text/plain": [
              "1025.4338744789254"
            ]
          },
          "metadata": {},
          "execution_count": 14
        }
      ]
    },
    {
      "cell_type": "markdown",
      "source": [
        "Se realiza el promedio de la variable respuesta para verificar que tan bueno es el desempeño del modelo aplicado."
      ],
      "metadata": {
        "id": "tChhoCgE_7n8"
      }
    },
    {
      "cell_type": "code",
      "source": [
        "# definir optimización y ajuste (entrenamiento)\n",
        "\n",
        "ann1.compile(optimizer=opt, loss=loss, metrics=m)\n",
        "ann1.fit(X_tr, y_tr, epochs=10, validation_data=(X_te, y_te))"
      ],
      "metadata": {
        "colab": {
          "base_uri": "https://localhost:8080/"
        },
        "id": "dxBwSS9IofJU",
        "outputId": "7814bc32-4a29-4541-c876-8ea5c7c0941d"
      },
      "execution_count": 15,
      "outputs": [
        {
          "output_type": "stream",
          "name": "stdout",
          "text": [
            "Epoch 1/10\n",
            "216/216 [==============================] - 2s 5ms/step - loss: 5773441.5000 - RMSE: 2402.7986 - val_loss: 5176004.5000 - val_RMSE: 2275.0835\n",
            "Epoch 2/10\n",
            "216/216 [==============================] - 1s 4ms/step - loss: 5648131.5000 - RMSE: 2376.5798 - val_loss: 5062505.0000 - val_RMSE: 2250.0012\n",
            "Epoch 3/10\n",
            "216/216 [==============================] - 1s 4ms/step - loss: 5537440.5000 - RMSE: 2353.1768 - val_loss: 4961399.0000 - val_RMSE: 2227.4199\n",
            "Epoch 4/10\n",
            "216/216 [==============================] - 1s 4ms/step - loss: 5431811.5000 - RMSE: 2330.6248 - val_loss: 4852821.5000 - val_RMSE: 2202.9121\n",
            "Epoch 5/10\n",
            "216/216 [==============================] - 1s 3ms/step - loss: 5322137.5000 - RMSE: 2306.9758 - val_loss: 4752870.0000 - val_RMSE: 2180.1079\n",
            "Epoch 6/10\n",
            "216/216 [==============================] - 1s 3ms/step - loss: 5221953.5000 - RMSE: 2285.1594 - val_loss: 4660901.5000 - val_RMSE: 2158.9121\n",
            "Epoch 7/10\n",
            "216/216 [==============================] - 1s 4ms/step - loss: 5128164.0000 - RMSE: 2264.5449 - val_loss: 4571056.5000 - val_RMSE: 2138.0029\n",
            "Epoch 8/10\n",
            "216/216 [==============================] - 1s 4ms/step - loss: 5038798.0000 - RMSE: 2244.7268 - val_loss: 4488202.0000 - val_RMSE: 2118.5376\n",
            "Epoch 9/10\n",
            "216/216 [==============================] - 1s 4ms/step - loss: 4954326.0000 - RMSE: 2225.8315 - val_loss: 4408831.5000 - val_RMSE: 2099.7217\n",
            "Epoch 10/10\n",
            "216/216 [==============================] - 1s 3ms/step - loss: 4873925.5000 - RMSE: 2207.6968 - val_loss: 4332772.5000 - val_RMSE: 2081.5312\n"
          ]
        },
        {
          "output_type": "execute_result",
          "data": {
            "text/plain": [
              "<keras.src.callbacks.History at 0x785c9c225090>"
            ]
          },
          "metadata": {},
          "execution_count": 15
        }
      ]
    },
    {
      "cell_type": "markdown",
      "source": [
        "Diagnostico : UNDERFITTING ya que el RMSE tiene un valor demasiado alto, dado que el promedio de la variable respuesta da 1025.43 y el RMSE divido este valor da como resultado 2,15 es decir más del 200% de error."
      ],
      "metadata": {
        "id": "HPsxVHjwwzqY"
      }
    },
    {
      "cell_type": "code",
      "source": [
        "##### definir la nueva arquitectura de la red neuronal para complejizar el modelo\n",
        "loss= keras.losses.MeanSquaredError()\n",
        "opt= keras.optimizers.Adam(learning_rate=0.01)\n",
        "\n",
        "# y la métrica\n",
        "m= keras.metrics.RootMeanSquaredError(name = \"RMSE\")\n",
        "\n",
        "\n",
        "ann2= keras.models.Sequential([\n",
        "\n",
        "    keras.layers.Dense(256, input_shape=(16,),activation='relu'),\n",
        "    keras.layers.Dense(128, activation='relu'),\n",
        "    keras.layers.Dense(64, activation='tanh'),\n",
        "    keras.layers.Dense(32, activation='tanh'),\n",
        "\n",
        "    keras.layers.Dense(1, activation='relu')\n",
        "\n",
        "])\n",
        "\n",
        "# definir optimización y ajuste (entrenamiento)\n",
        "\n",
        "\n",
        "ann2.compile(optimizer=opt, loss=loss, metrics=m)\n",
        "ann2.fit(X_tr, y_tr, epochs=25, validation_data=(X_te, y_te))"
      ],
      "metadata": {
        "colab": {
          "base_uri": "https://localhost:8080/"
        },
        "id": "wJ9qoCdvxJxH",
        "outputId": "6bcffeb2-f473-4f5c-b6fe-8ddc20b2f186"
      },
      "execution_count": 16,
      "outputs": [
        {
          "output_type": "stream",
          "name": "stdout",
          "text": [
            "Epoch 1/25\n",
            "216/216 [==============================] - 2s 4ms/step - loss: 5777829.5000 - RMSE: 2403.7117 - val_loss: 5181025.0000 - val_RMSE: 2276.1865\n",
            "Epoch 2/25\n",
            "216/216 [==============================] - 1s 4ms/step - loss: 5652967.0000 - RMSE: 2377.5969 - val_loss: 5066553.0000 - val_RMSE: 2250.9004\n",
            "Epoch 3/25\n",
            "216/216 [==============================] - 1s 5ms/step - loss: 5540295.0000 - RMSE: 2353.7832 - val_loss: 4963416.0000 - val_RMSE: 2227.8726\n",
            "Epoch 4/25\n",
            "216/216 [==============================] - 1s 4ms/step - loss: 5439865.5000 - RMSE: 2332.3518 - val_loss: 4871055.0000 - val_RMSE: 2207.0466\n",
            "Epoch 5/25\n",
            "216/216 [==============================] - 1s 6ms/step - loss: 5349952.5000 - RMSE: 2312.9963 - val_loss: 4789658.0000 - val_RMSE: 2188.5288\n",
            "Epoch 6/25\n",
            "216/216 [==============================] - 3s 12ms/step - loss: 5269948.0000 - RMSE: 2295.6367 - val_loss: 4718099.0000 - val_RMSE: 2172.1187\n",
            "Epoch 7/25\n",
            "216/216 [==============================] - 2s 11ms/step - loss: 5199312.5000 - RMSE: 2280.2002 - val_loss: 4653737.0000 - val_RMSE: 2157.2522\n",
            "Epoch 8/25\n",
            "216/216 [==============================] - 2s 9ms/step - loss: 5136919.5000 - RMSE: 2266.4773 - val_loss: 4599136.5000 - val_RMSE: 2144.5598\n",
            "Epoch 9/25\n",
            "216/216 [==============================] - 2s 8ms/step - loss: 5082127.5000 - RMSE: 2254.3574 - val_loss: 4550340.5000 - val_RMSE: 2133.1528\n",
            "Epoch 10/25\n",
            "216/216 [==============================] - 1s 6ms/step - loss: 5034016.5000 - RMSE: 2243.6614 - val_loss: 4507610.5000 - val_RMSE: 2123.1133\n",
            "Epoch 11/25\n",
            "216/216 [==============================] - 2s 7ms/step - loss: 4992488.0000 - RMSE: 2234.3877 - val_loss: 4471748.0000 - val_RMSE: 2114.6509\n",
            "Epoch 12/25\n",
            "216/216 [==============================] - 2s 7ms/step - loss: 4956473.0000 - RMSE: 2226.3137 - val_loss: 4440675.0000 - val_RMSE: 2107.2910\n",
            "Epoch 13/25\n",
            "216/216 [==============================] - 1s 7ms/step - loss: 4925860.0000 - RMSE: 2219.4277 - val_loss: 4414592.5000 - val_RMSE: 2101.0933\n",
            "Epoch 14/25\n",
            "216/216 [==============================] - 1s 6ms/step - loss: 4899904.5000 - RMSE: 2213.5728 - val_loss: 4392996.0000 - val_RMSE: 2095.9475\n",
            "Epoch 15/25\n",
            "216/216 [==============================] - 2s 7ms/step - loss: 4878114.0000 - RMSE: 2208.6453 - val_loss: 4375098.5000 - val_RMSE: 2091.6736\n",
            "Epoch 16/25\n",
            "216/216 [==============================] - 2s 9ms/step - loss: 4860079.5000 - RMSE: 2204.5588 - val_loss: 4360738.5000 - val_RMSE: 2088.2380\n",
            "Epoch 17/25\n",
            "216/216 [==============================] - 2s 10ms/step - loss: 4845331.0000 - RMSE: 2201.2112 - val_loss: 4348825.0000 - val_RMSE: 2085.3835\n",
            "Epoch 18/25\n",
            "216/216 [==============================] - 1s 6ms/step - loss: 4833192.0000 - RMSE: 2198.4521 - val_loss: 4339416.5000 - val_RMSE: 2083.1267\n",
            "Epoch 19/25\n",
            "216/216 [==============================] - 1s 5ms/step - loss: 4823399.0000 - RMSE: 2196.2239 - val_loss: 4332164.0000 - val_RMSE: 2081.3850\n",
            "Epoch 20/25\n",
            "216/216 [==============================] - 1s 5ms/step - loss: 4815670.5000 - RMSE: 2194.4636 - val_loss: 4326460.0000 - val_RMSE: 2080.0144\n",
            "Epoch 21/25\n",
            "216/216 [==============================] - 1s 4ms/step - loss: 4809625.5000 - RMSE: 2193.0859 - val_loss: 4322325.0000 - val_RMSE: 2079.0203\n",
            "Epoch 22/25\n",
            "216/216 [==============================] - 1s 3ms/step - loss: 4804961.0000 - RMSE: 2192.0222 - val_loss: 4319358.0000 - val_RMSE: 2078.3066\n",
            "Epoch 23/25\n",
            "216/216 [==============================] - 1s 3ms/step - loss: 4801438.5000 - RMSE: 2191.2185 - val_loss: 4317018.0000 - val_RMSE: 2077.7434\n",
            "Epoch 24/25\n",
            "216/216 [==============================] - 1s 3ms/step - loss: 4798773.5000 - RMSE: 2190.6104 - val_loss: 4315555.0000 - val_RMSE: 2077.3914\n",
            "Epoch 25/25\n",
            "216/216 [==============================] - 1s 3ms/step - loss: 4796792.5000 - RMSE: 2190.1582 - val_loss: 4314386.0000 - val_RMSE: 2077.1101\n"
          ]
        },
        {
          "output_type": "execute_result",
          "data": {
            "text/plain": [
              "<keras.src.callbacks.History at 0x785c8b1d3df0>"
            ]
          },
          "metadata": {},
          "execution_count": 16
        }
      ]
    },
    {
      "cell_type": "markdown",
      "source": [
        "Se decide aumentar el numero de epochs y el numero de capas para complejizar el modelo y tratar el problema de underfitting"
      ],
      "metadata": {
        "id": "P370a1RtAkrn"
      }
    },
    {
      "cell_type": "code",
      "source": [
        "### Afinamiento de grilla\n",
        "\n",
        "hp=kt.HyperParameters()\n",
        "\n",
        "def model_tuning(hp):\n",
        "\n",
        "    dr= hp.Float(\"DR\", min_value=0.05, max_value= 0.2, step=0.05)\n",
        "    opti=hp.Choice(\"OPTI\", ['adam', 'sgd' ])\n",
        "    fa=hp.Choice(\"FA\", [\"tanh\", \"relu\"])\n",
        "\n",
        "    ann3= keras.models.Sequential([\n",
        "\n",
        "      keras.layers.Dense(256, input_shape=(16,),activation=fa),\n",
        "      keras.layers.Dense(128, activation= fa),\n",
        "      keras.layers.Dense(64, activation= fa),\n",
        "      keras.layers.Dense(32, activation= fa),\n",
        "\n",
        "      keras.layers.Dense(1, activation='relu')\n",
        "\n",
        "])\n",
        "\n",
        "    if opti==\"adam\":\n",
        "        opti2=keras.optimizers.Adam(learning_rate=0.001)\n",
        "    else:\n",
        "        opti2=keras.optimizers.SGD(learning_rate=0.001)\n",
        "\n",
        "    ann3.compile(optimizer=opti2, loss=loss, metrics=m)\n",
        "\n",
        "    return ann3"
      ],
      "metadata": {
        "id": "aq-bD3Mcyske"
      },
      "execution_count": 17,
      "outputs": []
    },
    {
      "cell_type": "code",
      "source": [
        "#### hyper parametros de grilla\n",
        "search_model=kt.RandomSearch(\n",
        "    hypermodel = model_tuning, ## nombre de funcion de construccion modelo\n",
        "    hyperparameters = hp,\n",
        "    objective = kt.Objective('val_RMSE', direction=\"min\"),\n",
        "    max_trials = 10,\n",
        "    overwrite = True,\n",
        "    project_name = \"res_afin\"\n",
        ")"
      ],
      "metadata": {
        "id": "ypxjDs4a0PcD"
      },
      "execution_count": 18,
      "outputs": []
    },
    {
      "cell_type": "code",
      "source": [
        "### este es como el fit pero con afinamiento\n",
        "search_model.search(X_tr, y_tr, epochs=25, validation_data=(X_te, y_te))\n",
        "search_model.results_summary()\n",
        "\n",
        "win_model=search_model.get_best_models(1)[0] ### me muestra 1 modelo y escoge posicion 0\n",
        "\n",
        "win_model.build()\n",
        "win_model.summary()"
      ],
      "metadata": {
        "colab": {
          "base_uri": "https://localhost:8080/"
        },
        "id": "LjgRtnQU0IEa",
        "outputId": "f32892fc-efa2-436f-aac1-67189e853963"
      },
      "execution_count": 19,
      "outputs": [
        {
          "output_type": "stream",
          "name": "stdout",
          "text": [
            "Trial 10 Complete [00h 00m 43s]\n",
            "val_RMSE: 2235.6337890625\n",
            "\n",
            "Best val_RMSE So Far: 626.056884765625\n",
            "Total elapsed time: 00h 05m 02s\n",
            "Results summary\n",
            "Results in ./res_afin\n",
            "Showing 10 best trials\n",
            "Objective(name=\"val_RMSE\", direction=\"min\")\n",
            "\n",
            "Trial 05 summary\n",
            "Hyperparameters:\n",
            "DR: 0.2\n",
            "OPTI: adam\n",
            "FA: relu\n",
            "Score: 626.056884765625\n",
            "\n",
            "Trial 01 summary\n",
            "Hyperparameters:\n",
            "DR: 0.05\n",
            "OPTI: sgd\n",
            "FA: tanh\n",
            "Score: 1701.6842041015625\n",
            "\n",
            "Trial 02 summary\n",
            "Hyperparameters:\n",
            "DR: 0.2\n",
            "OPTI: sgd\n",
            "FA: tanh\n",
            "Score: 1764.90625\n",
            "\n",
            "Trial 03 summary\n",
            "Hyperparameters:\n",
            "DR: 0.1\n",
            "OPTI: sgd\n",
            "FA: tanh\n",
            "Score: 1811.0045166015625\n",
            "\n",
            "Trial 00 summary\n",
            "Hyperparameters:\n",
            "DR: 0.05\n",
            "OPTI: adam\n",
            "FA: tanh\n",
            "Score: 2235.31640625\n",
            "\n",
            "Trial 09 summary\n",
            "Hyperparameters:\n",
            "DR: 0.15000000000000002\n",
            "OPTI: adam\n",
            "FA: tanh\n",
            "Score: 2235.6337890625\n",
            "\n",
            "Trial 06 summary\n",
            "Hyperparameters:\n",
            "DR: 0.1\n",
            "OPTI: adam\n",
            "FA: tanh\n",
            "Score: 2236.06982421875\n",
            "\n",
            "Trial 07 summary\n",
            "Hyperparameters:\n",
            "DR: 0.2\n",
            "OPTI: adam\n",
            "FA: tanh\n",
            "Score: 2237.7373046875\n",
            "\n",
            "Trial 04 summary\n",
            "Hyperparameters:\n",
            "DR: 0.05\n",
            "OPTI: sgd\n",
            "FA: relu\n",
            "Score: 2306.22607421875\n",
            "\n",
            "Trial 08 summary\n",
            "Hyperparameters:\n",
            "DR: 0.2\n",
            "OPTI: sgd\n",
            "FA: relu\n",
            "Score: 2306.22607421875\n",
            "Model: \"sequential\"\n",
            "_________________________________________________________________\n",
            " Layer (type)                Output Shape              Param #   \n",
            "=================================================================\n",
            " dense (Dense)               (None, 256)               4352      \n",
            "                                                                 \n",
            " dense_1 (Dense)             (None, 128)               32896     \n",
            "                                                                 \n",
            " dense_2 (Dense)             (None, 64)                8256      \n",
            "                                                                 \n",
            " dense_3 (Dense)             (None, 32)                2080      \n",
            "                                                                 \n",
            " dense_4 (Dense)             (None, 1)                 33        \n",
            "                                                                 \n",
            "=================================================================\n",
            "Total params: 47617 (186.00 KB)\n",
            "Trainable params: 47617 (186.00 KB)\n",
            "Non-trainable params: 0 (0.00 Byte)\n",
            "_________________________________________________________________\n"
          ]
        }
      ]
    },
    {
      "cell_type": "code",
      "source": [
        "######## analizar modelo  ganador\n",
        "\n",
        "y_pred= np.argmax(win_model.predict(X_te),axis=1)"
      ],
      "metadata": {
        "colab": {
          "base_uri": "https://localhost:8080/"
        },
        "id": "E38MXtQL4HxV",
        "outputId": "7b39f5ce-def3-4de7-c25c-ab8913405f7f"
      },
      "execution_count": 65,
      "outputs": [
        {
          "output_type": "stream",
          "name": "stdout",
          "text": [
            "54/54 [==============================] - 1s 7ms/step\n"
          ]
        }
      ]
    },
    {
      "cell_type": "markdown",
      "source": [
        "Best val_RMSE So Far: 626.056884765625\n",
        "\n",
        "Como resultado el mejor modelo dio un RMSE de 626.05, que reduce el porcentaje de desviación del error al 61 %"
      ],
      "metadata": {
        "id": "UNM1uU79A8Cl"
      }
    },
    {
      "cell_type": "code",
      "source": [
        "from sklearn import metrics\n",
        "win_model.build()\n",
        "\n",
        "win_model.summary()"
      ],
      "metadata": {
        "colab": {
          "base_uri": "https://localhost:8080/"
        },
        "id": "3ugFi5oiBgnF",
        "outputId": "f79ac9c1-1e68-4b6e-908d-13d344daf458"
      },
      "execution_count": 31,
      "outputs": [
        {
          "output_type": "stream",
          "name": "stdout",
          "text": [
            "Model: \"sequential\"\n",
            "_________________________________________________________________\n",
            " Layer (type)                Output Shape              Param #   \n",
            "=================================================================\n",
            " dense (Dense)               (None, 256)               4352      \n",
            "                                                                 \n",
            " dense_1 (Dense)             (None, 128)               32896     \n",
            "                                                                 \n",
            " dense_2 (Dense)             (None, 64)                8256      \n",
            "                                                                 \n",
            " dense_3 (Dense)             (None, 32)                2080      \n",
            "                                                                 \n",
            " dense_4 (Dense)             (None, 1)                 33        \n",
            "                                                                 \n",
            "=================================================================\n",
            "Total params: 47617 (186.00 KB)\n",
            "Trainable params: 47617 (186.00 KB)\n",
            "Non-trainable params: 0 (0.00 Byte)\n",
            "_________________________________________________________________\n"
          ]
        }
      ]
    },
    {
      "cell_type": "code",
      "source": [
        "metrics.PredictionErrorDisplay.from_predictions(y_te,y_pred,kind= 'actual_vs_predicted')"
      ],
      "metadata": {
        "colab": {
          "base_uri": "https://localhost:8080/",
          "height": 467
        },
        "id": "scvRU1QSCwan",
        "outputId": "5fa3a430-e727-42ff-9c0e-1795eae22f04"
      },
      "execution_count": 33,
      "outputs": [
        {
          "output_type": "execute_result",
          "data": {
            "text/plain": [
              "<sklearn.metrics._plot.regression.PredictionErrorDisplay at 0x785c8b9569e0>"
            ]
          },
          "metadata": {},
          "execution_count": 33
        },
        {
          "output_type": "display_data",
          "data": {
            "text/plain": [
              "<Figure size 640x480 with 1 Axes>"
            ],
            "image/png": "[encoded data removed]"
          },
          "metadata": {}
        }
      ]
    },
    {
      "cell_type": "markdown",
      "source": [
        "La línea indica los valores reales y los puntos muestran qué tan lejos se encuentran del valor real, se observa que no hay mucha variación respecto al valor real."
      ],
      "metadata": {
        "id": "xRRCFrspDMQd"
      }
    },
    {
      "cell_type": "code",
      "source": [
        "#### exportar modelo ganador\n",
        "\n",
        "joblib.dump(win_model, '/content/drive/MyDrive/Colab Notebooks/win_model.joblib') ### exportar modelo ganador"
      ],
      "metadata": {
        "colab": {
          "base_uri": "https://localhost:8080/"
        },
        "id": "j5kTZ-P9Dmei",
        "outputId": "9a835aa4-df67-4896-e5a8-8c576851a259"
      },
      "execution_count": 34,
      "outputs": [
        {
          "output_type": "execute_result",
          "data": {
            "text/plain": [
              "['/content/drive/MyDrive/Colab Notebooks/win_model.joblib']"
            ]
          },
          "metadata": {},
          "execution_count": 34
        }
      ]
    }
  ]
}