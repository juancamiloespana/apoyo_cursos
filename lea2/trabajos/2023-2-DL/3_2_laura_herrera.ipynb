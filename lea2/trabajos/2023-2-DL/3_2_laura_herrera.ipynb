{
  "cells": [
    {
      "cell_type": "code",
      "execution_count": null,
      "metadata": {
        "colab": {
          "base_uri": "https://localhost:8080/"
        },
        "id": "npdRP4lxQivC",
        "outputId": "48829a46-308c-4b55-9bab-95ddeaed09a5"
      },
      "outputs": [
        {
          "output_type": "stream",
          "name": "stdout",
          "text": [
            "Collecting keras_tuner\n",
            "  Downloading keras_tuner-1.4.6-py3-none-any.whl (128 kB)\n",
            "\u001b[?25l     \u001b[90m━━━━━━━━━━━━━━━━━━━━━━━━━━━━━━━━━━━━━━━━\u001b[0m \u001b[32m0.0/128.9 kB\u001b[0m \u001b[31m?\u001b[0m eta \u001b[36m-:--:--\u001b[0m\r\u001b[2K     \u001b[91m━━━━━━━━━\u001b[0m\u001b[91m╸\u001b[0m\u001b[90m━━━━━━━━━━━━━━━━━━━━━━━━━━━━━━\u001b[0m \u001b[32m30.7/128.9 kB\u001b[0m \u001b[31m1.1 MB/s\u001b[0m eta \u001b[36m0:00:01\u001b[0m\r\u001b[2K     \u001b[91m━━━━━━━━━━━━━━━━━━━━━━━━━━━━\u001b[0m\u001b[91m╸\u001b[0m\u001b[90m━━━━━━━━━━━\u001b[0m \u001b[32m92.2/128.9 kB\u001b[0m \u001b[31m1.6 MB/s\u001b[0m eta \u001b[36m0:00:01\u001b[0m\r\u001b[2K     \u001b[90m━━━━━━━━━━━━━━━━━━━━━━━━━━━━━━━━━━━━━━━━\u001b[0m \u001b[32m128.9/128.9 kB\u001b[0m \u001b[31m1.7 MB/s\u001b[0m eta \u001b[36m0:00:00\u001b[0m\n",
            "\u001b[?25hRequirement already satisfied: keras in /usr/local/lib/python3.10/dist-packages (from keras_tuner) (2.14.0)\n",
            "Requirement already satisfied: packaging in /usr/local/lib/python3.10/dist-packages (from keras_tuner) (23.2)\n",
            "Requirement already satisfied: requests in /usr/local/lib/python3.10/dist-packages (from keras_tuner) (2.31.0)\n",
            "Collecting kt-legacy (from keras_tuner)\n",
            "  Downloading kt_legacy-1.0.5-py3-none-any.whl (9.6 kB)\n",
            "Requirement already satisfied: charset-normalizer<4,>=2 in /usr/local/lib/python3.10/dist-packages (from requests->keras_tuner) (3.3.2)\n",
            "Requirement already satisfied: idna<4,>=2.5 in /usr/local/lib/python3.10/dist-packages (from requests->keras_tuner) (3.4)\n",
            "Requirement already satisfied: urllib3<3,>=1.21.1 in /usr/local/lib/python3.10/dist-packages (from requests->keras_tuner) (2.0.7)\n",
            "Requirement already satisfied: certifi>=2017.4.17 in /usr/local/lib/python3.10/dist-packages (from requests->keras_tuner) (2023.7.22)\n",
            "Installing collected packages: kt-legacy, keras_tuner\n",
            "Successfully installed keras_tuner-1.4.6 kt-legacy-1.0.5\n"
          ]
        }
      ],
      "source": [
        "###basicas\n",
        "import pandas as pd\n",
        "import numpy as np\n",
        "import seaborn as sns\n",
        "import matplotlib.pyplot as plt\n",
        "\n",
        "##### datos y modelos sklearn\n",
        "from sklearn import datasets\n",
        "from sklearn.model_selection import train_test_split\n",
        "from sklearn.preprocessing import StandardScaler\n",
        "\n",
        "####### redes neuronales\n",
        "\n",
        "import tensorflow as tf\n",
        "from tensorflow import keras\n",
        "!pip install keras_tuner\n",
        "import keras_tuner as kt"
      ]
    },
    {
      "cell_type": "code",
      "execution_count": null,
      "metadata": {
        "id": "gbMa2ob3Qm1-"
      },
      "outputs": [],
      "source": [
        "#cargar base de datos\n",
        "url=\"https://raw.githubusercontent.com/juancamiloespana/LEA2/master/_data/credit_card_clients.csv\"\n",
        "\n",
        "credit_card=pd.read_csv(url)"
      ]
    },
    {
      "cell_type": "code",
      "execution_count": null,
      "metadata": {
        "colab": {
          "base_uri": "https://localhost:8080/"
        },
        "id": "idKJoswFQuX5",
        "outputId": "9b1b1c32-87ec-4a60-a07f-07136b5f9dae"
      },
      "outputs": [
        {
          "output_type": "stream",
          "name": "stdout",
          "text": [
            "<class 'pandas.core.frame.DataFrame'>\n",
            "RangeIndex: 8950 entries, 0 to 8949\n",
            "Data columns (total 18 columns):\n",
            " #   Column                            Non-Null Count  Dtype  \n",
            "---  ------                            --------------  -----  \n",
            " 0   CUST_ID                           8950 non-null   object \n",
            " 1   BALANCE                           8950 non-null   float64\n",
            " 2   BALANCE_FREQUENCY                 8950 non-null   float64\n",
            " 3   PURCHASES                         8950 non-null   float64\n",
            " 4   ONEOFF_PURCHASES                  8950 non-null   float64\n",
            " 5   INSTALLMENTS_PURCHASES            8950 non-null   float64\n",
            " 6   CASH_ADVANCE                      8950 non-null   float64\n",
            " 7   PURCHASES_FREQUENCY               8950 non-null   float64\n",
            " 8   ONEOFF_PURCHASES_FREQUENCY        8950 non-null   float64\n",
            " 9   PURCHASES_INSTALLMENTS_FREQUENCY  8950 non-null   float64\n",
            " 10  CASH_ADVANCE_FREQUENCY            8950 non-null   float64\n",
            " 11  CASH_ADVANCE_TRX                  8950 non-null   int64  \n",
            " 12  PURCHASES_TRX                     8950 non-null   int64  \n",
            " 13  CREDIT_LIMIT                      8949 non-null   float64\n",
            " 14  PAYMENTS                          8950 non-null   float64\n",
            " 15  MINIMUM_PAYMENTS                  8637 non-null   float64\n",
            " 16  PRC_FULL_PAYMENT                  8950 non-null   float64\n",
            " 17  TENURE                            8950 non-null   int64  \n",
            "dtypes: float64(14), int64(3), object(1)\n",
            "memory usage: 1.2+ MB\n"
          ]
        }
      ],
      "source": [
        "#analizar base de datos\n",
        "credit_card.info()"
      ]
    },
    {
      "cell_type": "code",
      "execution_count": null,
      "metadata": {
        "colab": {
          "base_uri": "https://localhost:8080/"
        },
        "id": "RepMjpdRtBiQ",
        "outputId": "5ebbe6fc-3dff-414f-e124-50efcac5d555"
      },
      "outputs": [
        {
          "output_type": "execute_result",
          "data": {
            "text/plain": [
              "CUST_ID                               0\n",
              "BALANCE                               0\n",
              "BALANCE_FREQUENCY                     0\n",
              "PURCHASES                             0\n",
              "ONEOFF_PURCHASES                      0\n",
              "INSTALLMENTS_PURCHASES                0\n",
              "CASH_ADVANCE                          0\n",
              "PURCHASES_FREQUENCY                   0\n",
              "ONEOFF_PURCHASES_FREQUENCY            0\n",
              "PURCHASES_INSTALLMENTS_FREQUENCY      0\n",
              "CASH_ADVANCE_FREQUENCY                0\n",
              "CASH_ADVANCE_TRX                      0\n",
              "PURCHASES_TRX                         0\n",
              "CREDIT_LIMIT                          1\n",
              "PAYMENTS                              0\n",
              "MINIMUM_PAYMENTS                    313\n",
              "PRC_FULL_PAYMENT                      0\n",
              "TENURE                                0\n",
              "dtype: int64"
            ]
          },
          "metadata": {},
          "execution_count": 4
        }
      ],
      "source": [
        "# Identificar nulos\n",
        "credit_card.isnull().sum()"
      ]
    },
    {
      "cell_type": "markdown",
      "metadata": {
        "id": "xYVV5PbKtQ9A"
      },
      "source": [
        "se identificaron 313 valores nulos en la variable MINIMUM_PAYMENTS y 1 nulo en la variable CREDIT_LIMIT"
      ]
    },
    {
      "cell_type": "code",
      "execution_count": null,
      "metadata": {
        "id": "uyvIjKsxtYYa"
      },
      "outputs": [],
      "source": [
        "# tratamiento de nulos\n",
        "credit_card= credit_card.dropna()"
      ]
    },
    {
      "cell_type": "markdown",
      "metadata": {
        "id": "ndNv0Wwb9AN0"
      },
      "source": [
        "Se decide eliminar los nulos dado que representan solo el 4% de los datos y es necesario hacer este tratamiento para ejecutar la red neuronal"
      ]
    },
    {
      "cell_type": "code",
      "execution_count": null,
      "metadata": {
        "colab": {
          "base_uri": "https://localhost:8080/"
        },
        "id": "-WeCDDJgttbi",
        "outputId": "334d5196-049d-4701-dc34-9998e5836788"
      },
      "outputs": [
        {
          "output_type": "execute_result",
          "data": {
            "text/plain": [
              "CUST_ID                             0\n",
              "BALANCE                             0\n",
              "BALANCE_FREQUENCY                   0\n",
              "PURCHASES                           0\n",
              "ONEOFF_PURCHASES                    0\n",
              "INSTALLMENTS_PURCHASES              0\n",
              "CASH_ADVANCE                        0\n",
              "PURCHASES_FREQUENCY                 0\n",
              "ONEOFF_PURCHASES_FREQUENCY          0\n",
              "PURCHASES_INSTALLMENTS_FREQUENCY    0\n",
              "CASH_ADVANCE_FREQUENCY              0\n",
              "CASH_ADVANCE_TRX                    0\n",
              "PURCHASES_TRX                       0\n",
              "CREDIT_LIMIT                        0\n",
              "PAYMENTS                            0\n",
              "MINIMUM_PAYMENTS                    0\n",
              "PRC_FULL_PAYMENT                    0\n",
              "TENURE                              0\n",
              "dtype: int64"
            ]
          },
          "metadata": {},
          "execution_count": 6
        }
      ],
      "source": [
        "# verificar nuevamente los nulos\n",
        "credit_card.isnull().sum()"
      ]
    },
    {
      "cell_type": "markdown",
      "metadata": {
        "id": "MMTjonJ1t3NW"
      },
      "source": [
        "Se vuelven a revisar los nulos para comprobar que el tratamiento funcionó correctamente"
      ]
    },
    {
      "cell_type": "code",
      "execution_count": null,
      "metadata": {
        "colab": {
          "base_uri": "https://localhost:8080/"
        },
        "id": "mUwQ3O8hRBhP",
        "outputId": "c86a924e-2619-45ce-e6f0-efccae98670d"
      },
      "outputs": [
        {
          "output_type": "stream",
          "name": "stdout",
          "text": [
            "<class 'pandas.core.frame.DataFrame'>\n",
            "Int64Index: 8636 entries, 0 to 8949\n",
            "Data columns (total 17 columns):\n",
            " #   Column                            Non-Null Count  Dtype  \n",
            "---  ------                            --------------  -----  \n",
            " 0   BALANCE                           8636 non-null   float64\n",
            " 1   BALANCE_FREQUENCY                 8636 non-null   float64\n",
            " 2   PURCHASES                         8636 non-null   float64\n",
            " 3   ONEOFF_PURCHASES                  8636 non-null   float64\n",
            " 4   INSTALLMENTS_PURCHASES            8636 non-null   float64\n",
            " 5   CASH_ADVANCE                      8636 non-null   float64\n",
            " 6   PURCHASES_FREQUENCY               8636 non-null   float64\n",
            " 7   ONEOFF_PURCHASES_FREQUENCY        8636 non-null   float64\n",
            " 8   PURCHASES_INSTALLMENTS_FREQUENCY  8636 non-null   float64\n",
            " 9   CASH_ADVANCE_FREQUENCY            8636 non-null   float64\n",
            " 10  CASH_ADVANCE_TRX                  8636 non-null   int64  \n",
            " 11  PURCHASES_TRX                     8636 non-null   int64  \n",
            " 12  CREDIT_LIMIT                      8636 non-null   float64\n",
            " 13  PAYMENTS                          8636 non-null   float64\n",
            " 14  MINIMUM_PAYMENTS                  8636 non-null   float64\n",
            " 15  PRC_FULL_PAYMENT                  8636 non-null   float64\n",
            " 16  TENURE                            8636 non-null   int64  \n",
            "dtypes: float64(14), int64(3)\n",
            "memory usage: 1.2 MB\n"
          ]
        }
      ],
      "source": [
        "# eliminar la variable CUST_ID\n",
        "credit_card2 = credit_card.drop('CUST_ID', axis=1)\n",
        "credit_card2.info()"
      ]
    },
    {
      "cell_type": "markdown",
      "metadata": {
        "id": "J5AGssEc9oXH"
      },
      "source": [
        "Se decide eliminar la variable 'CUST_ID' dado que es un identificador de los usuarios, por lo que pueden afectar el modelo más adelante."
      ]
    },
    {
      "cell_type": "code",
      "execution_count": null,
      "metadata": {
        "id": "JCv9LIBgROYB"
      },
      "outputs": [],
      "source": [
        "###separar variable respuesta y variables explicativas\n",
        "y_credit_card =credit_card2['PURCHASES']\n",
        "X_credit_card =credit_card2[credit_card2.columns.difference(['PURCHASES'])]"
      ]
    },
    {
      "cell_type": "code",
      "execution_count": null,
      "metadata": {
        "colab": {
          "base_uri": "https://localhost:8080/"
        },
        "id": "ld6tdSYbrzxb",
        "outputId": "92ee3f3e-becc-4508-fb04-27427026f941"
      },
      "outputs": [
        {
          "output_type": "execute_result",
          "data": {
            "text/plain": [
              "0.0"
            ]
          },
          "metadata": {},
          "execution_count": 9
        }
      ],
      "source": [
        "# valor minimo de la variable respuesta\n",
        "y_credit_card.min()"
      ]
    },
    {
      "cell_type": "markdown",
      "metadata": {
        "id": "ekdg7vLXsBBT"
      },
      "source": [
        "Se identifica que la variable respuesta no toma valores negativos, esto será importante tenerlo en cuenta para definir la función de activación"
      ]
    },
    {
      "cell_type": "code",
      "execution_count": null,
      "metadata": {
        "colab": {
          "base_uri": "https://localhost:8080/"
        },
        "id": "0opyJVV0CiRW",
        "outputId": "4a71442c-3b1e-479b-a20d-56b6d3418358"
      },
      "outputs": [
        {
          "output_type": "stream",
          "name": "stdout",
          "text": [
            "Mounted at /content/drive\n"
          ]
        }
      ],
      "source": [
        "from google.colab import drive\n",
        "drive.mount('/content/drive')"
      ]
    },
    {
      "cell_type": "code",
      "execution_count": null,
      "metadata": {
        "colab": {
          "base_uri": "https://localhost:8080/"
        },
        "id": "OvpxRO8mlGua",
        "outputId": "d29e6125-7763-4d7a-933b-fe7a271d718c"
      },
      "outputs": [
        {
          "output_type": "execute_result",
          "data": {
            "text/plain": [
              "(6908, 16)"
            ]
          },
          "metadata": {},
          "execution_count": 11
        }
      ],
      "source": [
        "# escalar los datos\n",
        "sc=StandardScaler().fit(X_credit_card)\n",
        "\n",
        "#### exportar el escalador\n",
        "\n",
        "import joblib\n",
        "\n",
        "joblib.dump(sc, \"/content/drive/MyDrive/Colab Notebooks/sc.joblib\") ### exporta objeto\n",
        "\n",
        "X_sc=sc.transform(X_credit_card)  ## escalado cob base en variales escladas\n",
        "\n",
        "## separar entrenamiento evaluación\n",
        "X_tr, X_te, y_tr, y_te= train_test_split(X_sc, y_credit_card, test_size=0.2)\n",
        "\n",
        "#analizar las dimensiones\n",
        "X_tr.shape"
      ]
    },
    {
      "cell_type": "code",
      "execution_count": null,
      "metadata": {
        "id": "rwTbkJWSmDla"
      },
      "outputs": [],
      "source": [
        "##### definir arquitectura de la red neuronal\n",
        "\n",
        "ann1= keras.models.Sequential([\n",
        "\n",
        "    keras.layers.Dense(64, input_shape=(16,),activation='relu'),\n",
        "\n",
        "    keras.layers.Dense(32, activation='tanh'),\n",
        "\n",
        "    keras.layers.Dense(1, activation='relu')\n",
        "\n",
        "])"
      ]
    },
    {
      "cell_type": "markdown",
      "metadata": {
        "id": "nUsQaWmQnVI5"
      },
      "source": [
        "Se decide utilizar la funcion de activacion \"relu\" porque es un problema de regresión y la variable respuesta no toma valores negativos.\n",
        "\n",
        "Se comienza con una red neuronal sencilla"
      ]
    },
    {
      "cell_type": "code",
      "execution_count": null,
      "metadata": {
        "id": "NRQWhDEHnxRo"
      },
      "outputs": [],
      "source": [
        "# hiperparámetros de optimización\n",
        "# definir funcion de perdida y metrica de desempeño\n",
        "loss= keras.losses.MeanSquaredError()\n",
        "opt= keras.optimizers.Adam(learning_rate=0.01)\n",
        "\n",
        "# y la métrica\n",
        "\n",
        "m= keras.metrics.RootMeanSquaredError(name = \"RMSE\")"
      ]
    },
    {
      "cell_type": "markdown",
      "metadata": {
        "id": "wcKAOUsu-yQD"
      },
      "source": [
        "Se define el MSE como función de pérdida ya que es una elección común para problemas de regresión y penaliza más fuertemente las diferencias más grandes.\n",
        "\n",
        "Se define la métrica RMSE dado que es un ejercicio de regresión y consideramos que es una métrica que permite dar una fácil interpretación del desempeño del modelo y no sucede el problema que ocurría con el MAPE por los valores iguales a cero.\n"
      ]
    },
    {
      "cell_type": "code",
      "execution_count": null,
      "metadata": {
        "colab": {
          "base_uri": "https://localhost:8080/"
        },
        "id": "D07-aY2FuxwP",
        "outputId": "ead7abe9-a5bd-48af-d235-84d8fb34f679"
      },
      "outputs": [
        {
          "output_type": "execute_result",
          "data": {
            "text/plain": [
              "1025.4338744789254"
            ]
          },
          "metadata": {},
          "execution_count": 14
        }
      ],
      "source": [
        "y_credit_card.mean()"
      ]
    },
    {
      "cell_type": "markdown",
      "metadata": {
        "id": "tChhoCgE_7n8"
      },
      "source": [
        "Se realiza el promedio de la variable respuesta para verificar que tan bueno es el desempeño del modelo aplicado."
      ]
    },
    {
      "cell_type": "code",
      "execution_count": null,
      "metadata": {
        "colab": {
          "base_uri": "https://localhost:8080/"
        },
        "id": "dxBwSS9IofJU",
        "outputId": "ba03f46c-4753-4058-c7c3-3fbcbb746d9a"
      },
      "outputs": [
        {
          "output_type": "stream",
          "name": "stdout",
          "text": [
            "Epoch 1/10\n",
            "216/216 [==============================] - 2s 4ms/step - loss: 5746921.5000 - RMSE: 2397.2737 - val_loss: 5282387.5000 - val_RMSE: 2298.3445\n",
            "Epoch 2/10\n",
            "216/216 [==============================] - 1s 3ms/step - loss: 5621792.0000 - RMSE: 2371.0317 - val_loss: 5164247.0000 - val_RMSE: 2272.4980\n",
            "Epoch 3/10\n",
            "216/216 [==============================] - 1s 3ms/step - loss: 5511645.5000 - RMSE: 2347.6895 - val_loss: 5059146.0000 - val_RMSE: 2249.2546\n",
            "Epoch 4/10\n",
            "216/216 [==============================] - 1s 2ms/step - loss: 5401934.5000 - RMSE: 2324.2063 - val_loss: 4945630.5000 - val_RMSE: 2223.8774\n",
            "Epoch 5/10\n",
            "216/216 [==============================] - 1s 3ms/step - loss: 5296179.0000 - RMSE: 2301.3428 - val_loss: 4843518.0000 - val_RMSE: 2200.7993\n",
            "Epoch 6/10\n",
            "216/216 [==============================] - 0s 2ms/step - loss: 5197478.5000 - RMSE: 2279.7979 - val_loss: 4748108.5000 - val_RMSE: 2179.0154\n",
            "Epoch 7/10\n",
            "216/216 [==============================] - 1s 2ms/step - loss: 5105001.0000 - RMSE: 2259.4250 - val_loss: 4658410.5000 - val_RMSE: 2158.3352\n",
            "Epoch 8/10\n",
            "216/216 [==============================] - 0s 2ms/step - loss: 5017709.0000 - RMSE: 2240.0244 - val_loss: 4573264.5000 - val_RMSE: 2138.5193\n",
            "Epoch 9/10\n",
            "216/216 [==============================] - 0s 2ms/step - loss: 4934509.0000 - RMSE: 2221.3755 - val_loss: 4491517.0000 - val_RMSE: 2119.3198\n",
            "Epoch 10/10\n",
            "216/216 [==============================] - 1s 3ms/step - loss: 4855345.5000 - RMSE: 2203.4849 - val_loss: 4413404.5000 - val_RMSE: 2100.8105\n"
          ]
        },
        {
          "output_type": "execute_result",
          "data": {
            "text/plain": [
              "<keras.src.callbacks.History at 0x786b34c0dc90>"
            ]
          },
          "metadata": {},
          "execution_count": 15
        }
      ],
      "source": [
        "# definir optimización y ajuste (entrenamiento)\n",
        "\n",
        "ann1.compile(optimizer=opt, loss=loss, metrics=m)\n",
        "ann1.fit(X_tr, y_tr, epochs=10, validation_data=(X_te, y_te))"
      ]
    },
    {
      "cell_type": "markdown",
      "metadata": {
        "id": "HPsxVHjwwzqY"
      },
      "source": [
        "Diagnostico : UNDERFITTING ya que el RMSE tiene un valor demasiado alto, dado que el promedio de la variable respuesta da 1025.43 y el RMSE divido este valor da como resultado 2,15 es decir más del 200% de error."
      ]
    },
    {
      "cell_type": "code",
      "execution_count": null,
      "metadata": {
        "colab": {
          "base_uri": "https://localhost:8080/"
        },
        "id": "wJ9qoCdvxJxH",
        "outputId": "9c20b871-765a-4924-fe66-818bc8c728ec"
      },
      "outputs": [
        {
          "output_type": "stream",
          "name": "stdout",
          "text": [
            "Epoch 1/25\n",
            "216/216 [==============================] - 2s 4ms/step - loss: 5752054.0000 - RMSE: 2398.3440 - val_loss: 5289171.5000 - val_RMSE: 2299.8198\n",
            "Epoch 2/25\n",
            "216/216 [==============================] - 1s 3ms/step - loss: 5630236.5000 - RMSE: 2372.8120 - val_loss: 5172556.5000 - val_RMSE: 2274.3254\n",
            "Epoch 3/25\n",
            "216/216 [==============================] - 1s 3ms/step - loss: 5519341.0000 - RMSE: 2349.3279 - val_loss: 5066354.0000 - val_RMSE: 2250.8562\n",
            "Epoch 4/25\n",
            "216/216 [==============================] - 1s 3ms/step - loss: 5419421.5000 - RMSE: 2327.9651 - val_loss: 4971363.5000 - val_RMSE: 2229.6555\n",
            "Epoch 5/25\n",
            "216/216 [==============================] - 1s 3ms/step - loss: 5330491.0000 - RMSE: 2308.7856 - val_loss: 4886837.5000 - val_RMSE: 2210.6191\n",
            "Epoch 6/25\n",
            "216/216 [==============================] - 1s 3ms/step - loss: 5247621.0000 - RMSE: 2290.7686 - val_loss: 4785446.0000 - val_RMSE: 2187.5662\n",
            "Epoch 7/25\n",
            "216/216 [==============================] - 1s 3ms/step - loss: 5137847.0000 - RMSE: 2266.6819 - val_loss: 4690098.0000 - val_RMSE: 2165.6633\n",
            "Epoch 8/25\n",
            "216/216 [==============================] - 1s 3ms/step - loss: 5045385.5000 - RMSE: 2246.1936 - val_loss: 4602890.0000 - val_RMSE: 2145.4346\n",
            "Epoch 9/25\n",
            "216/216 [==============================] - 1s 3ms/step - loss: 4959422.5000 - RMSE: 2226.9761 - val_loss: 4521425.5000 - val_RMSE: 2126.3645\n",
            "Epoch 10/25\n",
            "216/216 [==============================] - 1s 4ms/step - loss: 4879009.5000 - RMSE: 2208.8479 - val_loss: 4435885.5000 - val_RMSE: 2106.1543\n",
            "Epoch 11/25\n",
            "216/216 [==============================] - 1s 4ms/step - loss: 4804263.0000 - RMSE: 2191.8628 - val_loss: 4363482.5000 - val_RMSE: 2088.8950\n",
            "Epoch 12/25\n",
            "216/216 [==============================] - 1s 5ms/step - loss: 4728370.0000 - RMSE: 2174.4814 - val_loss: 4288917.5000 - val_RMSE: 2070.9702\n",
            "Epoch 13/25\n",
            "216/216 [==============================] - 1s 4ms/step - loss: 4657422.5000 - RMSE: 2158.1062 - val_loss: 4219337.5000 - val_RMSE: 2054.1025\n",
            "Epoch 14/25\n",
            "216/216 [==============================] - 1s 5ms/step - loss: 4592327.0000 - RMSE: 2142.9714 - val_loss: 4159050.2500 - val_RMSE: 2039.3750\n",
            "Epoch 15/25\n",
            "216/216 [==============================] - 1s 4ms/step - loss: 4532416.5000 - RMSE: 2128.9473 - val_loss: 4097858.0000 - val_RMSE: 2024.3167\n",
            "Epoch 16/25\n",
            "216/216 [==============================] - 1s 5ms/step - loss: 4469990.0000 - RMSE: 2114.2351 - val_loss: 4044343.5000 - val_RMSE: 2011.0553\n",
            "Epoch 17/25\n",
            "216/216 [==============================] - 1s 5ms/step - loss: 4416034.5000 - RMSE: 2101.4363 - val_loss: 3989336.0000 - val_RMSE: 1997.3323\n",
            "Epoch 18/25\n",
            "216/216 [==============================] - 1s 5ms/step - loss: 4358655.0000 - RMSE: 2087.7393 - val_loss: 3925277.0000 - val_RMSE: 1981.2312\n",
            "Epoch 19/25\n",
            "216/216 [==============================] - 1s 3ms/step - loss: 4309652.0000 - RMSE: 2075.9702 - val_loss: 3877509.7500 - val_RMSE: 1969.1393\n",
            "Epoch 20/25\n",
            "216/216 [==============================] - 1s 4ms/step - loss: 4249614.0000 - RMSE: 2061.4592 - val_loss: 3819472.0000 - val_RMSE: 1954.3469\n",
            "Epoch 21/25\n",
            "216/216 [==============================] - 1s 3ms/step - loss: 4197523.0000 - RMSE: 2048.7856 - val_loss: 3767994.2500 - val_RMSE: 1941.1322\n",
            "Epoch 22/25\n",
            "216/216 [==============================] - 1s 3ms/step - loss: 4152421.5000 - RMSE: 2037.7491 - val_loss: 3739682.2500 - val_RMSE: 1933.8258\n",
            "Epoch 23/25\n",
            "216/216 [==============================] - 1s 3ms/step - loss: 4104611.5000 - RMSE: 2025.9841 - val_loss: 3673397.2500 - val_RMSE: 1916.6108\n",
            "Epoch 24/25\n",
            "216/216 [==============================] - 1s 4ms/step - loss: 4068650.5000 - RMSE: 2017.0896 - val_loss: 3650331.0000 - val_RMSE: 1910.5840\n",
            "Epoch 25/25\n",
            "216/216 [==============================] - 1s 4ms/step - loss: 4022820.5000 - RMSE: 2005.6970 - val_loss: 3600435.7500 - val_RMSE: 1897.4814\n"
          ]
        },
        {
          "output_type": "execute_result",
          "data": {
            "text/plain": [
              "<keras.src.callbacks.History at 0x786b243b8ee0>"
            ]
          },
          "metadata": {},
          "execution_count": 16
        }
      ],
      "source": [
        "##### definir la nueva arquitectura de la red neuronal para complejizar el modelo\n",
        "loss= keras.losses.MeanSquaredError()\n",
        "opt= keras.optimizers.Adam(learning_rate=0.01)\n",
        "\n",
        "# y la métrica\n",
        "m= keras.metrics.RootMeanSquaredError(name = \"RMSE\")\n",
        "\n",
        "\n",
        "ann2= keras.models.Sequential([\n",
        "\n",
        "    keras.layers.Dense(256, input_shape=(16,),activation='relu'),\n",
        "    keras.layers.Dense(128, activation='relu'),\n",
        "    keras.layers.Dense(64, activation='tanh'),\n",
        "    keras.layers.Dense(32, activation='tanh'),\n",
        "\n",
        "    keras.layers.Dense(1, activation='relu')\n",
        "\n",
        "])\n",
        "\n",
        "# definir optimización y ajuste (entrenamiento)\n",
        "\n",
        "\n",
        "ann2.compile(optimizer=opt, loss=loss, metrics=m)\n",
        "ann2.fit(X_tr, y_tr, epochs=25, validation_data=(X_te, y_te))"
      ]
    },
    {
      "cell_type": "markdown",
      "metadata": {
        "id": "P370a1RtAkrn"
      },
      "source": [
        "Se decide aumentar el numero de epochs y el numero de capas para complejizar el modelo y tratar el problema de underfitting"
      ]
    },
    {
      "cell_type": "code",
      "execution_count": null,
      "metadata": {
        "id": "aq-bD3Mcyske"
      },
      "outputs": [],
      "source": [
        "### Afinamiento de grilla\n",
        "\n",
        "hp=kt.HyperParameters()\n",
        "\n",
        "def model_tuning(hp):\n",
        "\n",
        "    dr= hp.Float(\"DR\", min_value=0.05, max_value= 0.2, step=0.05)\n",
        "    opti=hp.Choice(\"OPTI\", ['adam', 'sgd' ])\n",
        "    fa=hp.Choice(\"FA\", [\"tanh\", \"relu\"])\n",
        "\n",
        "    ann3= keras.models.Sequential([\n",
        "\n",
        "      keras.layers.Dense(256, input_shape=(16,),activation=fa),\n",
        "      keras.layers.Dense(128, activation= fa),\n",
        "      keras.layers.Dense(64, activation= fa),\n",
        "      keras.layers.Dense(32, activation= fa),\n",
        "\n",
        "      keras.layers.Dense(1, activation='relu')\n",
        "\n",
        "])\n",
        "\n",
        "    if opti==\"adam\":\n",
        "        opti2=keras.optimizers.Adam(learning_rate=0.001)\n",
        "    else:\n",
        "        opti2=keras.optimizers.SGD(learning_rate=0.001)\n",
        "\n",
        "    ann3.compile(optimizer=opti2, loss=loss, metrics=m)\n",
        "\n",
        "    return ann3"
      ]
    },
    {
      "cell_type": "code",
      "execution_count": null,
      "metadata": {
        "id": "ypxjDs4a0PcD"
      },
      "outputs": [],
      "source": [
        "#### hyper parametros de grilla\n",
        "search_model=kt.RandomSearch(\n",
        "    hypermodel = model_tuning, ## nombre de funcion de construccion modelo\n",
        "    hyperparameters = hp,\n",
        "    objective = kt.Objective('val_RMSE', direction=\"min\"),\n",
        "    max_trials = 10,\n",
        "    overwrite = True,\n",
        "    project_name = \"res_afin\"\n",
        ")"
      ]
    },
    {
      "cell_type": "code",
      "execution_count": null,
      "metadata": {
        "colab": {
          "base_uri": "https://localhost:8080/"
        },
        "id": "LjgRtnQU0IEa",
        "outputId": "7553bed2-1165-4a2e-e16f-92982c0000c2"
      },
      "outputs": [
        {
          "output_type": "stream",
          "name": "stdout",
          "text": [
            "Trial 10 Complete [00h 00m 22s]\n",
            "val_RMSE: 1749.375244140625\n",
            "\n",
            "Best val_RMSE So Far: 593.7420043945312\n",
            "Total elapsed time: 00h 05m 17s\n",
            "Results summary\n",
            "Results in ./res_afin\n",
            "Showing 10 best trials\n",
            "Objective(name=\"val_RMSE\", direction=\"min\")\n",
            "\n",
            "Trial 03 summary\n",
            "Hyperparameters:\n",
            "DR: 0.1\n",
            "OPTI: adam\n",
            "FA: relu\n",
            "Score: 593.7420043945312\n",
            "\n",
            "Trial 06 summary\n",
            "Hyperparameters:\n",
            "DR: 0.05\n",
            "OPTI: adam\n",
            "FA: relu\n",
            "Score: 620.9674682617188\n",
            "\n",
            "Trial 02 summary\n",
            "Hyperparameters:\n",
            "DR: 0.2\n",
            "OPTI: adam\n",
            "FA: relu\n",
            "Score: 627.13232421875\n",
            "\n",
            "Trial 07 summary\n",
            "Hyperparameters:\n",
            "DR: 0.1\n",
            "OPTI: sgd\n",
            "FA: tanh\n",
            "Score: 1652.69970703125\n",
            "\n",
            "Trial 00 summary\n",
            "Hyperparameters:\n",
            "DR: 0.2\n",
            "OPTI: sgd\n",
            "FA: tanh\n",
            "Score: 1735.5615234375\n",
            "\n",
            "Trial 09 summary\n",
            "Hyperparameters:\n",
            "DR: 0.05\n",
            "OPTI: sgd\n",
            "FA: tanh\n",
            "Score: 1749.375244140625\n",
            "\n",
            "Trial 05 summary\n",
            "Hyperparameters:\n",
            "DR: 0.05\n",
            "OPTI: adam\n",
            "FA: tanh\n",
            "Score: 2257.828857421875\n",
            "\n",
            "Trial 08 summary\n",
            "Hyperparameters:\n",
            "DR: 0.1\n",
            "OPTI: adam\n",
            "FA: tanh\n",
            "Score: 2258.02392578125\n",
            "\n",
            "Trial 01 summary\n",
            "Hyperparameters:\n",
            "DR: 0.15000000000000002\n",
            "OPTI: sgd\n",
            "FA: relu\n",
            "Score: 2329.944580078125\n",
            "\n",
            "Trial 04 summary\n",
            "Hyperparameters:\n",
            "DR: 0.05\n",
            "OPTI: sgd\n",
            "FA: relu\n",
            "Score: 2329.944580078125\n",
            "Model: \"sequential\"\n",
            "_________________________________________________________________\n",
            " Layer (type)                Output Shape              Param #   \n",
            "=================================================================\n",
            " dense (Dense)               (None, 256)               4352      \n",
            "                                                                 \n",
            " dense_1 (Dense)             (None, 128)               32896     \n",
            "                                                                 \n",
            " dense_2 (Dense)             (None, 64)                8256      \n",
            "                                                                 \n",
            " dense_3 (Dense)             (None, 32)                2080      \n",
            "                                                                 \n",
            " dense_4 (Dense)             (None, 1)                 33        \n",
            "                                                                 \n",
            "=================================================================\n",
            "Total params: 47617 (186.00 KB)\n",
            "Trainable params: 47617 (186.00 KB)\n",
            "Non-trainable params: 0 (0.00 Byte)\n",
            "_________________________________________________________________\n"
          ]
        }
      ],
      "source": [
        "### este es como el fit pero con afinamiento\n",
        "search_model.search(X_tr, y_tr, epochs=25, validation_data=(X_te, y_te))\n",
        "search_model.results_summary()\n",
        "\n",
        "win_model=search_model.get_best_models(1)[0] ### me muestra 1 modelo y escoge posicion 0\n",
        "\n",
        "win_model.build()\n",
        "win_model.summary()"
      ]
    },
    {
      "cell_type": "code",
      "execution_count": null,
      "metadata": {
        "id": "E38MXtQL4HxV",
        "colab": {
          "base_uri": "https://localhost:8080/"
        },
        "outputId": "e7306a67-3b58-4e1c-d741-04eaf0508415"
      },
      "outputs": [
        {
          "output_type": "stream",
          "name": "stdout",
          "text": [
            "54/54 [==============================] - 0s 1ms/step\n"
          ]
        }
      ],
      "source": [
        "######## analizar modelo  ganador\n",
        "y_pred= np.argmax(win_model.predict(X_te),axis=1)"
      ]
    },
    {
      "cell_type": "markdown",
      "metadata": {
        "id": "UNM1uU79A8Cl"
      },
      "source": [
        "Best val_RMSE So Far: 626.056884765625\n",
        "\n",
        "Como resultado el mejor modelo dio un RMSE de 626.05, que reduce el porcentaje de desviación del error al 61 %"
      ]
    },
    {
      "cell_type": "code",
      "execution_count": null,
      "metadata": {
        "id": "3ugFi5oiBgnF",
        "colab": {
          "base_uri": "https://localhost:8080/"
        },
        "outputId": "362fdcbb-86e6-4ab8-a801-5ac4ee3abae1"
      },
      "outputs": [
        {
          "output_type": "stream",
          "name": "stdout",
          "text": [
            "Model: \"sequential\"\n",
            "_________________________________________________________________\n",
            " Layer (type)                Output Shape              Param #   \n",
            "=================================================================\n",
            " dense (Dense)               (None, 256)               4352      \n",
            "                                                                 \n",
            " dense_1 (Dense)             (None, 128)               32896     \n",
            "                                                                 \n",
            " dense_2 (Dense)             (None, 64)                8256      \n",
            "                                                                 \n",
            " dense_3 (Dense)             (None, 32)                2080      \n",
            "                                                                 \n",
            " dense_4 (Dense)             (None, 1)                 33        \n",
            "                                                                 \n",
            "=================================================================\n",
            "Total params: 47617 (186.00 KB)\n",
            "Trainable params: 47617 (186.00 KB)\n",
            "Non-trainable params: 0 (0.00 Byte)\n",
            "_________________________________________________________________\n"
          ]
        }
      ],
      "source": [
        "from sklearn import metrics\n",
        "win_model.build()\n",
        "\n",
        "win_model.summary()"
      ]
    },
    {
      "cell_type": "code",
      "execution_count": null,
      "metadata": {
        "id": "j5kTZ-P9Dmei",
        "colab": {
          "base_uri": "https://localhost:8080/"
        },
        "outputId": "f15e3712-6018-40a3-ab03-3059b4a26d75"
      },
      "outputs": [
        {
          "output_type": "execute_result",
          "data": {
            "text/plain": [
              "['/content/drive/MyDrive/Colab Notebooks/win_model.joblib']"
            ]
          },
          "metadata": {},
          "execution_count": 22
        }
      ],
      "source": [
        "#### exportar modelo ganador\n",
        "\n",
        "joblib.dump(win_model, '/content/drive/MyDrive/Colab Notebooks/win_model.joblib') ### exportar modelo ganador"
      ]
    },
    {
      "cell_type": "code",
      "source": [
        "ann3= win_model\n",
        "\n",
        "pred_te=ann3.predict(X_te)\n",
        "pred_te.shape"
      ],
      "metadata": {
        "colab": {
          "base_uri": "https://localhost:8080/"
        },
        "id": "P8OVL7SDQEuA",
        "outputId": "cde1a7cb-0067-4eae-c8e1-4a60e23a7466"
      },
      "execution_count": 25,
      "outputs": [
        {
          "output_type": "stream",
          "name": "stdout",
          "text": [
            "54/54 [==============================] - 0s 5ms/step\n"
          ]
        },
        {
          "output_type": "execute_result",
          "data": {
            "text/plain": [
              "(1728, 1)"
            ]
          },
          "metadata": {},
          "execution_count": 25
        }
      ]
    },
    {
      "cell_type": "code",
      "source": [
        "y_actual=np.array(y_te)\n",
        "y_actual.shape"
      ],
      "metadata": {
        "colab": {
          "base_uri": "https://localhost:8080/"
        },
        "id": "__UB-0Z0Ut0i",
        "outputId": "b0714cb7-ecf9-4927-c1ae-e862547611f3"
      },
      "execution_count": 26,
      "outputs": [
        {
          "output_type": "execute_result",
          "data": {
            "text/plain": [
              "(1728,)"
            ]
          },
          "metadata": {},
          "execution_count": 26
        }
      ]
    },
    {
      "cell_type": "code",
      "source": [
        "y_pred=np.array(pred_te)[:,0]\n",
        "y_pred.shape"
      ],
      "metadata": {
        "colab": {
          "base_uri": "https://localhost:8080/"
        },
        "id": "3vBj9uChUyiz",
        "outputId": "06e89099-6402-458e-a5a7-0aa42c77dcae"
      },
      "execution_count": 27,
      "outputs": [
        {
          "output_type": "execute_result",
          "data": {
            "text/plain": [
              "(1728,)"
            ]
          },
          "metadata": {},
          "execution_count": 27
        }
      ]
    },
    {
      "cell_type": "code",
      "source": [
        "import sklearn.metrics as metrics\n",
        "\n",
        "metrics.PredictionErrorDisplay.from_predictions(y_true=y_actual,y_pred=y_pred, kind=\"actual_vs_predicted\")\n",
        "metrics.PredictionErrorDisplay.from_predictions(y_true=y_actual,y_pred=y_pred, kind=\"residual_vs_predicted\")"
      ],
      "metadata": {
        "colab": {
          "base_uri": "https://localhost:8080/",
          "height": 899
        },
        "id": "zPeveRkKUw04",
        "outputId": "7ecd4676-9ac0-43f6-8771-2e90e04a50e7"
      },
      "execution_count": 28,
      "outputs": [
        {
          "output_type": "execute_result",
          "data": {
            "text/plain": [
              "<sklearn.metrics._plot.regression.PredictionErrorDisplay at 0x7b8b9f7b18a0>"
            ]
          },
          "metadata": {},
          "execution_count": 28
        },
        {
          "output_type": "display_data",
          "data": {
            "text/plain": [
              "<Figure size 640x480 with 1 Axes>"
            ],
            "image/png": "[encoded data removed]"
          },
          "metadata": {}
        },
        {
          "output_type": "display_data",
          "data": {
            "text/plain": [
              "<Figure size 640x480 with 1 Axes>"
            ],
            "image/png": "[encoded data removed]"
          },
          "metadata": {}
        }
      ]
    },
    {
      "cell_type": "markdown",
      "metadata": {
        "id": "xRRCFrspDMQd"
      },
      "source": [
        "La línea indica los valores reales y los puntos muestran qué tan lejos se encuentran del valor real, se observa que no hay mucha variación respecto al valor real."
      ]
    },
    {
      "cell_type": "code",
      "source": [
        "res=y_actual-y_pred\n",
        "np.std(res) ### 95% ()"
      ],
      "metadata": {
        "colab": {
          "base_uri": "https://localhost:8080/"
        },
        "id": "pcWmPuiIVBHu",
        "outputId": "1d6cb777-0c3f-4f39-bf0f-0e11aa4f6b40"
      },
      "execution_count": 29,
      "outputs": [
        {
          "output_type": "execute_result",
          "data": {
            "text/plain": [
              "595.2499190889275"
            ]
          },
          "metadata": {},
          "execution_count": 29
        }
      ]
    },
    {
      "cell_type": "code",
      "source": [
        "np.mean(res)"
      ],
      "metadata": {
        "colab": {
          "base_uri": "https://localhost:8080/"
        },
        "id": "l3QsFsRCVGi6",
        "outputId": "2b9d8006-d6dc-4ebf-d623-74a8f30f1cc9"
      },
      "execution_count": 30,
      "outputs": [
        {
          "output_type": "execute_result",
          "data": {
            "text/plain": [
              "-46.713909550267445"
            ]
          },
          "metadata": {},
          "execution_count": 30
        }
      ]
    },
    {
      "cell_type": "markdown",
      "source": [
        "En este caso tenemos un subajuste ya que la media de los residuales es superior a 0, es decir, estamos subestimando en 8 unidades."
      ],
      "metadata": {
        "id": "ouESNRFFVhu5"
      }
    },
    {
      "cell_type": "markdown",
      "source": [
        "# Entrega 2"
      ],
      "metadata": {
        "id": "zycGLIH2V-Lm"
      }
    },
    {
      "cell_type": "code",
      "source": [
        "#cargar base de datos nueva\n",
        "url= \"https://raw.githubusercontent.com/juancamiloespana/LEA2/master/_data/credit_card_clients2.csv\"\n",
        "credit_card3 = pd.read_csv(url)"
      ],
      "metadata": {
        "id": "DkOHTvaEVZ6Z"
      },
      "execution_count": 31,
      "outputs": []
    },
    {
      "cell_type": "code",
      "source": [
        "credit_card3"
      ],
      "metadata": {
        "colab": {
          "base_uri": "https://localhost:8080/",
          "height": 443
        },
        "id": "qSYDV-THVdf2",
        "outputId": "31e64f11-34b5-4193-d316-4423484335ec"
      },
      "execution_count": 32,
      "outputs": [
        {
          "output_type": "execute_result",
          "data": {
            "text/plain": [
              "     CUST_ID      BALANCE  BALANCE_FREQUENCY  ONEOFF_PURCHASES  \\\n",
              "0     C10001    40.900749           0.818182          0.000000   \n",
              "1     C10002  3202.467416           0.909091          0.000000   \n",
              "2     C10003  2495.148862           1.000000        232.457717   \n",
              "3     C10004  1666.670542           0.636364        530.293538   \n",
              "4     C10005   817.714335           1.000000          4.136829   \n",
              "...      ...          ...                ...               ...   \n",
              "8945  C19186    28.493517           1.000000          0.000000   \n",
              "8946  C19187    19.183215           1.000000          0.000000   \n",
              "8947  C19188    23.398673           0.833333          0.000000   \n",
              "8948  C19189    13.457564           0.833333          0.000000   \n",
              "8949  C19190   372.708075           0.666667        444.606394   \n",
              "\n",
              "      INSTALLMENTS_PURCHASES  CASH_ADVANCE  PURCHASES_FREQUENCY  \\\n",
              "0                      95.40      0.000000             0.166667   \n",
              "1                       0.00   6442.945483             0.000000   \n",
              "2                       0.00      0.000000             1.000000   \n",
              "3                       0.00    205.788017             0.083333   \n",
              "4                       0.00      0.000000             0.083333   \n",
              "...                      ...           ...                  ...   \n",
              "8945                  291.12      0.000000             1.000000   \n",
              "8946                  300.00      0.000000             1.000000   \n",
              "8947                  144.40      0.000000             0.833333   \n",
              "8948                    0.00     36.558778             0.000000   \n",
              "8949                    0.00    127.040008             0.666667   \n",
              "\n",
              "      ONEOFF_PURCHASES_FREQUENCY  PURCHASES_INSTALLMENTS_FREQUENCY  \\\n",
              "0                       0.000000                          0.083333   \n",
              "1                       0.000000                          0.000000   \n",
              "2                       1.000000                          0.000000   \n",
              "3                       0.083333                          0.000000   \n",
              "4                       0.083333                          0.000000   \n",
              "...                          ...                               ...   \n",
              "8945                    0.000000                          0.833333   \n",
              "8946                    0.000000                          0.833333   \n",
              "8947                    0.000000                          0.666667   \n",
              "8948                    0.000000                          0.000000   \n",
              "8949                    0.666667                          0.000000   \n",
              "\n",
              "      CASH_ADVANCE_FREQUENCY  CASH_ADVANCE_TRX  PURCHASES_TRX  CREDIT_LIMIT  \\\n",
              "0                   0.000000                 0              2        1000.0   \n",
              "1                   0.250000                 4              0        7000.0   \n",
              "2                   0.000000                 0             12        7500.0   \n",
              "3                   0.083333                 1              1        7500.0   \n",
              "4                   0.000000                 0              1        1200.0   \n",
              "...                      ...               ...            ...           ...   \n",
              "8945                0.000000                 0              6        1000.0   \n",
              "8946                0.000000                 0              6        1000.0   \n",
              "8947                0.000000                 0              5        1000.0   \n",
              "8948                0.166667                 2              0         500.0   \n",
              "8949                0.333333                 2             23        1200.0   \n",
              "\n",
              "         PAYMENTS  MINIMUM_PAYMENTS  PRC_FULL_PAYMENT  TENURE  \n",
              "0      201.802084        139.509787          0.000000      12  \n",
              "1     4103.032597       1072.340217          0.222222      12  \n",
              "2      622.066742        627.284787          0.000000      12  \n",
              "3        0.000000               NaN          0.000000      12  \n",
              "4      678.334763        244.791237          0.000000      12  \n",
              "...           ...               ...               ...     ...  \n",
              "8945   325.594462         48.886365          0.500000       6  \n",
              "8946   275.861322               NaN          0.000000       6  \n",
              "8947    81.270775         82.418369          0.250000       6  \n",
              "8948    52.549959         55.755628          0.250000       6  \n",
              "8949    63.165404         88.288956          0.000000       6  \n",
              "\n",
              "[8950 rows x 17 columns]"
            ],
            "text/html": [
              "\n",
              "  <div id=\"df-d59926c6-e5bf-43c5-8345-c9fe1534f912\" class=\"colab-df-container\">\n",
              "    <div>\n",
              "<style scoped>\n",
              "    .dataframe tbody tr th:only-of-type {\n",
              "        vertical-align: middle;\n",
              "    }\n",
              "\n",
              "    .dataframe tbody tr th {\n",
              "        vertical-align: top;\n",
              "    }\n",
              "\n",
              "    .dataframe thead th {\n",
              "        text-align: right;\n",
              "    }\n",
              "</style>\n",
              "<table border=\"1\" class=\"dataframe\">\n",
              "  <thead>\n",
              "    <tr style=\"text-align: right;\">\n",
              "      <th></th>\n",
              "      <th>CUST_ID</th>\n",
              "      <th>BALANCE</th>\n",
              "      <th>BALANCE_FREQUENCY</th>\n",
              "      <th>ONEOFF_PURCHASES</th>\n",
              "      <th>INSTALLMENTS_PURCHASES</th>\n",
              "      <th>CASH_ADVANCE</th>\n",
              "      <th>PURCHASES_FREQUENCY</th>\n",
              "      <th>ONEOFF_PURCHASES_FREQUENCY</th>\n",
              "      <th>PURCHASES_INSTALLMENTS_FREQUENCY</th>\n",
              "      <th>CASH_ADVANCE_FREQUENCY</th>\n",
              "      <th>CASH_ADVANCE_TRX</th>\n",
              "      <th>PURCHASES_TRX</th>\n",
              "      <th>CREDIT_LIMIT</th>\n",
              "      <th>PAYMENTS</th>\n",
              "      <th>MINIMUM_PAYMENTS</th>\n",
              "      <th>PRC_FULL_PAYMENT</th>\n",
              "      <th>TENURE</th>\n",
              "    </tr>\n",
              "  </thead>\n",
              "  <tbody>\n",
              "    <tr>\n",
              "      <th>0</th>\n",
              "      <td>C10001</td>\n",
              "      <td>40.900749</td>\n",
              "      <td>0.818182</td>\n",
              "      <td>0.000000</td>\n",
              "      <td>95.40</td>\n",
              "      <td>0.000000</td>\n",
              "      <td>0.166667</td>\n",
              "      <td>0.000000</td>\n",
              "      <td>0.083333</td>\n",
              "      <td>0.000000</td>\n",
              "      <td>0</td>\n",
              "      <td>2</td>\n",
              "      <td>1000.0</td>\n",
              "      <td>201.802084</td>\n",
              "      <td>139.509787</td>\n",
              "      <td>0.000000</td>\n",
              "      <td>12</td>\n",
              "    </tr>\n",
              "    <tr>\n",
              "      <th>1</th>\n",
              "      <td>C10002</td>\n",
              "      <td>3202.467416</td>\n",
              "      <td>0.909091</td>\n",
              "      <td>0.000000</td>\n",
              "      <td>0.00</td>\n",
              "      <td>6442.945483</td>\n",
              "      <td>0.000000</td>\n",
              "      <td>0.000000</td>\n",
              "      <td>0.000000</td>\n",
              "      <td>0.250000</td>\n",
              "      <td>4</td>\n",
              "      <td>0</td>\n",
              "      <td>7000.0</td>\n",
              "      <td>4103.032597</td>\n",
              "      <td>1072.340217</td>\n",
              "      <td>0.222222</td>\n",
              "      <td>12</td>\n",
              "    </tr>\n",
              "    <tr>\n",
              "      <th>2</th>\n",
              "      <td>C10003</td>\n",
              "      <td>2495.148862</td>\n",
              "      <td>1.000000</td>\n",
              "      <td>232.457717</td>\n",
              "      <td>0.00</td>\n",
              "      <td>0.000000</td>\n",
              "      <td>1.000000</td>\n",
              "      <td>1.000000</td>\n",
              "      <td>0.000000</td>\n",
              "      <td>0.000000</td>\n",
              "      <td>0</td>\n",
              "      <td>12</td>\n",
              "      <td>7500.0</td>\n",
              "      <td>622.066742</td>\n",
              "      <td>627.284787</td>\n",
              "      <td>0.000000</td>\n",
              "      <td>12</td>\n",
              "    </tr>\n",
              "    <tr>\n",
              "      <th>3</th>\n",
              "      <td>C10004</td>\n",
              "      <td>1666.670542</td>\n",
              "      <td>0.636364</td>\n",
              "      <td>530.293538</td>\n",
              "      <td>0.00</td>\n",
              "      <td>205.788017</td>\n",
              "      <td>0.083333</td>\n",
              "      <td>0.083333</td>\n",
              "      <td>0.000000</td>\n",
              "      <td>0.083333</td>\n",
              "      <td>1</td>\n",
              "      <td>1</td>\n",
              "      <td>7500.0</td>\n",
              "      <td>0.000000</td>\n",
              "      <td>NaN</td>\n",
              "      <td>0.000000</td>\n",
              "      <td>12</td>\n",
              "    </tr>\n",
              "    <tr>\n",
              "      <th>4</th>\n",
              "      <td>C10005</td>\n",
              "      <td>817.714335</td>\n",
              "      <td>1.000000</td>\n",
              "      <td>4.136829</td>\n",
              "      <td>0.00</td>\n",
              "      <td>0.000000</td>\n",
              "      <td>0.083333</td>\n",
              "      <td>0.083333</td>\n",
              "      <td>0.000000</td>\n",
              "      <td>0.000000</td>\n",
              "      <td>0</td>\n",
              "      <td>1</td>\n",
              "      <td>1200.0</td>\n",
              "      <td>678.334763</td>\n",
              "      <td>244.791237</td>\n",
              "      <td>0.000000</td>\n",
              "      <td>12</td>\n",
              "    </tr>\n",
              "    <tr>\n",
              "      <th>...</th>\n",
              "      <td>...</td>\n",
              "      <td>...</td>\n",
              "      <td>...</td>\n",
              "      <td>...</td>\n",
              "      <td>...</td>\n",
              "      <td>...</td>\n",
              "      <td>...</td>\n",
              "      <td>...</td>\n",
              "      <td>...</td>\n",
              "      <td>...</td>\n",
              "      <td>...</td>\n",
              "      <td>...</td>\n",
              "      <td>...</td>\n",
              "      <td>...</td>\n",
              "      <td>...</td>\n",
              "      <td>...</td>\n",
              "      <td>...</td>\n",
              "    </tr>\n",
              "    <tr>\n",
              "      <th>8945</th>\n",
              "      <td>C19186</td>\n",
              "      <td>28.493517</td>\n",
              "      <td>1.000000</td>\n",
              "      <td>0.000000</td>\n",
              "      <td>291.12</td>\n",
              "      <td>0.000000</td>\n",
              "      <td>1.000000</td>\n",
              "      <td>0.000000</td>\n",
              "      <td>0.833333</td>\n",
              "      <td>0.000000</td>\n",
              "      <td>0</td>\n",
              "      <td>6</td>\n",
              "      <td>1000.0</td>\n",
              "      <td>325.594462</td>\n",
              "      <td>48.886365</td>\n",
              "      <td>0.500000</td>\n",
              "      <td>6</td>\n",
              "    </tr>\n",
              "    <tr>\n",
              "      <th>8946</th>\n",
              "      <td>C19187</td>\n",
              "      <td>19.183215</td>\n",
              "      <td>1.000000</td>\n",
              "      <td>0.000000</td>\n",
              "      <td>300.00</td>\n",
              "      <td>0.000000</td>\n",
              "      <td>1.000000</td>\n",
              "      <td>0.000000</td>\n",
              "      <td>0.833333</td>\n",
              "      <td>0.000000</td>\n",
              "      <td>0</td>\n",
              "      <td>6</td>\n",
              "      <td>1000.0</td>\n",
              "      <td>275.861322</td>\n",
              "      <td>NaN</td>\n",
              "      <td>0.000000</td>\n",
              "      <td>6</td>\n",
              "    </tr>\n",
              "    <tr>\n",
              "      <th>8947</th>\n",
              "      <td>C19188</td>\n",
              "      <td>23.398673</td>\n",
              "      <td>0.833333</td>\n",
              "      <td>0.000000</td>\n",
              "      <td>144.40</td>\n",
              "      <td>0.000000</td>\n",
              "      <td>0.833333</td>\n",
              "      <td>0.000000</td>\n",
              "      <td>0.666667</td>\n",
              "      <td>0.000000</td>\n",
              "      <td>0</td>\n",
              "      <td>5</td>\n",
              "      <td>1000.0</td>\n",
              "      <td>81.270775</td>\n",
              "      <td>82.418369</td>\n",
              "      <td>0.250000</td>\n",
              "      <td>6</td>\n",
              "    </tr>\n",
              "    <tr>\n",
              "      <th>8948</th>\n",
              "      <td>C19189</td>\n",
              "      <td>13.457564</td>\n",
              "      <td>0.833333</td>\n",
              "      <td>0.000000</td>\n",
              "      <td>0.00</td>\n",
              "      <td>36.558778</td>\n",
              "      <td>0.000000</td>\n",
              "      <td>0.000000</td>\n",
              "      <td>0.000000</td>\n",
              "      <td>0.166667</td>\n",
              "      <td>2</td>\n",
              "      <td>0</td>\n",
              "      <td>500.0</td>\n",
              "      <td>52.549959</td>\n",
              "      <td>55.755628</td>\n",
              "      <td>0.250000</td>\n",
              "      <td>6</td>\n",
              "    </tr>\n",
              "    <tr>\n",
              "      <th>8949</th>\n",
              "      <td>C19190</td>\n",
              "      <td>372.708075</td>\n",
              "      <td>0.666667</td>\n",
              "      <td>444.606394</td>\n",
              "      <td>0.00</td>\n",
              "      <td>127.040008</td>\n",
              "      <td>0.666667</td>\n",
              "      <td>0.666667</td>\n",
              "      <td>0.000000</td>\n",
              "      <td>0.333333</td>\n",
              "      <td>2</td>\n",
              "      <td>23</td>\n",
              "      <td>1200.0</td>\n",
              "      <td>63.165404</td>\n",
              "      <td>88.288956</td>\n",
              "      <td>0.000000</td>\n",
              "      <td>6</td>\n",
              "    </tr>\n",
              "  </tbody>\n",
              "</table>\n",
              "<p>8950 rows × 17 columns</p>\n",
              "</div>\n",
              "    <div class=\"colab-df-buttons\">\n",
              "\n",
              "  <div class=\"colab-df-container\">\n",
              "    <button class=\"colab-df-convert\" onclick=\"convertToInteractive('df-d59926c6-e5bf-43c5-8345-c9fe1534f912')\"\n",
              "            title=\"Convert this dataframe to an interactive table.\"\n",
              "            style=\"display:none;\">\n",
              "\n",
              "  <svg xmlns=\"http://www.w3.org/2000/svg\" height=\"24px\" viewBox=\"0 -960 960 960\">\n",
              "    <path d=\"M120-120v-720h720v720H120Zm60-500h600v-160H180v160Zm220 220h160v-160H400v160Zm0 220h160v-160H400v160ZM180-400h160v-160H180v160Zm440 0h160v-160H620v160ZM180-180h160v-160H180v160Zm440 0h160v-160H620v160Z\"/>\n",
              "  </svg>\n",
              "    </button>\n",
              "\n",
              "  <style>\n",
              "    .colab-df-container {\n",
              "      display:flex;\n",
              "      gap: 12px;\n",
              "    }\n",
              "\n",
              "    .colab-df-convert {\n",
              "      background-color: #E8F0FE;\n",
              "      border: none;\n",
              "      border-radius: 50%;\n",
              "      cursor: pointer;\n",
              "      display: none;\n",
              "      fill: #1967D2;\n",
              "      height: 32px;\n",
              "      padding: 0 0 0 0;\n",
              "      width: 32px;\n",
              "    }\n",
              "\n",
              "    .colab-df-convert:hover {\n",
              "      background-color: #E2EBFA;\n",
              "      box-shadow: 0px 1px 2px rgba(60, 64, 67, 0.3), 0px 1px 3px 1px rgba(60, 64, 67, 0.15);\n",
              "      fill: #174EA6;\n",
              "    }\n",
              "\n",
              "    .colab-df-buttons div {\n",
              "      margin-bottom: 4px;\n",
              "    }\n",
              "\n",
              "    [theme=dark] .colab-df-convert {\n",
              "      background-color: #3B4455;\n",
              "      fill: #D2E3FC;\n",
              "    }\n",
              "\n",
              "    [theme=dark] .colab-df-convert:hover {\n",
              "      background-color: #434B5C;\n",
              "      box-shadow: 0px 1px 3px 1px rgba(0, 0, 0, 0.15);\n",
              "      filter: drop-shadow(0px 1px 2px rgba(0, 0, 0, 0.3));\n",
              "      fill: #FFFFFF;\n",
              "    }\n",
              "  </style>\n",
              "\n",
              "    <script>\n",
              "      const buttonEl =\n",
              "        document.querySelector('#df-d59926c6-e5bf-43c5-8345-c9fe1534f912 button.colab-df-convert');\n",
              "      buttonEl.style.display =\n",
              "        google.colab.kernel.accessAllowed ? 'block' : 'none';\n",
              "\n",
              "      async function convertToInteractive(key) {\n",
              "        const element = document.querySelector('#df-d59926c6-e5bf-43c5-8345-c9fe1534f912');\n",
              "        const dataTable =\n",
              "          await google.colab.kernel.invokeFunction('convertToInteractive',\n",
              "                                                    [key], {});\n",
              "        if (!dataTable) return;\n",
              "\n",
              "        const docLinkHtml = 'Like what you see? Visit the ' +\n",
              "          '<a target=\"_blank\" href=https://colab.research.google.com/notebooks/data_table.ipynb>data table notebook</a>'\n",
              "          + ' to learn more about interactive tables.';\n",
              "        element.innerHTML = '';\n",
              "        dataTable['output_type'] = 'display_data';\n",
              "        await google.colab.output.renderOutput(dataTable, element);\n",
              "        const docLink = document.createElement('div');\n",
              "        docLink.innerHTML = docLinkHtml;\n",
              "        element.appendChild(docLink);\n",
              "      }\n",
              "    </script>\n",
              "  </div>\n",
              "\n",
              "\n",
              "<div id=\"df-015f8e77-a898-4711-b8c2-5b6bf76facef\">\n",
              "  <button class=\"colab-df-quickchart\" onclick=\"quickchart('df-015f8e77-a898-4711-b8c2-5b6bf76facef')\"\n",
              "            title=\"Suggest charts\"\n",
              "            style=\"display:none;\">\n",
              "\n",
              "<svg xmlns=\"http://www.w3.org/2000/svg\" height=\"24px\"viewBox=\"0 0 24 24\"\n",
              "     width=\"24px\">\n",
              "    <g>\n",
              "        <path d=\"M19 3H5c-1.1 0-2 .9-2 2v14c0 1.1.9 2 2 2h14c1.1 0 2-.9 2-2V5c0-1.1-.9-2-2-2zM9 17H7v-7h2v7zm4 0h-2V7h2v10zm4 0h-2v-4h2v4z\"/>\n",
              "    </g>\n",
              "</svg>\n",
              "  </button>\n",
              "\n",
              "<style>\n",
              "  .colab-df-quickchart {\n",
              "      --bg-color: #E8F0FE;\n",
              "      --fill-color: #1967D2;\n",
              "      --hover-bg-color: #E2EBFA;\n",
              "      --hover-fill-color: #174EA6;\n",
              "      --disabled-fill-color: #AAA;\n",
              "      --disabled-bg-color: #DDD;\n",
              "  }\n",
              "\n",
              "  [theme=dark] .colab-df-quickchart {\n",
              "      --bg-color: #3B4455;\n",
              "      --fill-color: #D2E3FC;\n",
              "      --hover-bg-color: #434B5C;\n",
              "      --hover-fill-color: #FFFFFF;\n",
              "      --disabled-bg-color: #3B4455;\n",
              "      --disabled-fill-color: #666;\n",
              "  }\n",
              "\n",
              "  .colab-df-quickchart {\n",
              "    background-color: var(--bg-color);\n",
              "    border: none;\n",
              "    border-radius: 50%;\n",
              "    cursor: pointer;\n",
              "    display: none;\n",
              "    fill: var(--fill-color);\n",
              "    height: 32px;\n",
              "    padding: 0;\n",
              "    width: 32px;\n",
              "  }\n",
              "\n",
              "  .colab-df-quickchart:hover {\n",
              "    background-color: var(--hover-bg-color);\n",
              "    box-shadow: 0 1px 2px rgba(60, 64, 67, 0.3), 0 1px 3px 1px rgba(60, 64, 67, 0.15);\n",
              "    fill: var(--button-hover-fill-color);\n",
              "  }\n",
              "\n",
              "  .colab-df-quickchart-complete:disabled,\n",
              "  .colab-df-quickchart-complete:disabled:hover {\n",
              "    background-color: var(--disabled-bg-color);\n",
              "    fill: var(--disabled-fill-color);\n",
              "    box-shadow: none;\n",
              "  }\n",
              "\n",
              "  .colab-df-spinner {\n",
              "    border: 2px solid var(--fill-color);\n",
              "    border-color: transparent;\n",
              "    border-bottom-color: var(--fill-color);\n",
              "    animation:\n",
              "      spin 1s steps(1) infinite;\n",
              "  }\n",
              "\n",
              "  @keyframes spin {\n",
              "    0% {\n",
              "      border-color: transparent;\n",
              "      border-bottom-color: var(--fill-color);\n",
              "      border-left-color: var(--fill-color);\n",
              "    }\n",
              "    20% {\n",
              "      border-color: transparent;\n",
              "      border-left-color: var(--fill-color);\n",
              "      border-top-color: var(--fill-color);\n",
              "    }\n",
              "    30% {\n",
              "      border-color: transparent;\n",
              "      border-left-color: var(--fill-color);\n",
              "      border-top-color: var(--fill-color);\n",
              "      border-right-color: var(--fill-color);\n",
              "    }\n",
              "    40% {\n",
              "      border-color: transparent;\n",
              "      border-right-color: var(--fill-color);\n",
              "      border-top-color: var(--fill-color);\n",
              "    }\n",
              "    60% {\n",
              "      border-color: transparent;\n",
              "      border-right-color: var(--fill-color);\n",
              "    }\n",
              "    80% {\n",
              "      border-color: transparent;\n",
              "      border-right-color: var(--fill-color);\n",
              "      border-bottom-color: var(--fill-color);\n",
              "    }\n",
              "    90% {\n",
              "      border-color: transparent;\n",
              "      border-bottom-color: var(--fill-color);\n",
              "    }\n",
              "  }\n",
              "</style>\n",
              "\n",
              "  <script>\n",
              "    async function quickchart(key) {\n",
              "      const quickchartButtonEl =\n",
              "        document.querySelector('#' + key + ' button');\n",
              "      quickchartButtonEl.disabled = true;  // To prevent multiple clicks.\n",
              "      quickchartButtonEl.classList.add('colab-df-spinner');\n",
              "      try {\n",
              "        const charts = await google.colab.kernel.invokeFunction(\n",
              "            'suggestCharts', [key], {});\n",
              "      } catch (error) {\n",
              "        console.error('Error during call to suggestCharts:', error);\n",
              "      }\n",
              "      quickchartButtonEl.classList.remove('colab-df-spinner');\n",
              "      quickchartButtonEl.classList.add('colab-df-quickchart-complete');\n",
              "    }\n",
              "    (() => {\n",
              "      let quickchartButtonEl =\n",
              "        document.querySelector('#df-015f8e77-a898-4711-b8c2-5b6bf76facef button');\n",
              "      quickchartButtonEl.style.display =\n",
              "        google.colab.kernel.accessAllowed ? 'block' : 'none';\n",
              "    })();\n",
              "  </script>\n",
              "</div>\n",
              "    </div>\n",
              "  </div>\n"
            ]
          },
          "metadata": {},
          "execution_count": 32
        }
      ]
    },
    {
      "cell_type": "code",
      "source": [
        "# verificar nuevamente los nulos\n",
        "credit_card3.isnull().sum()"
      ],
      "metadata": {
        "colab": {
          "base_uri": "https://localhost:8080/"
        },
        "id": "G1vqpSRZWa8B",
        "outputId": "b05d8666-8b3b-455a-a049-aa041dc7cd33"
      },
      "execution_count": 33,
      "outputs": [
        {
          "output_type": "execute_result",
          "data": {
            "text/plain": [
              "CUST_ID                               0\n",
              "BALANCE                               0\n",
              "BALANCE_FREQUENCY                     0\n",
              "ONEOFF_PURCHASES                      0\n",
              "INSTALLMENTS_PURCHASES                0\n",
              "CASH_ADVANCE                          0\n",
              "PURCHASES_FREQUENCY                   0\n",
              "ONEOFF_PURCHASES_FREQUENCY            0\n",
              "PURCHASES_INSTALLMENTS_FREQUENCY      0\n",
              "CASH_ADVANCE_FREQUENCY                0\n",
              "CASH_ADVANCE_TRX                      0\n",
              "PURCHASES_TRX                         0\n",
              "CREDIT_LIMIT                          1\n",
              "PAYMENTS                              0\n",
              "MINIMUM_PAYMENTS                    313\n",
              "PRC_FULL_PAYMENT                      0\n",
              "TENURE                                0\n",
              "dtype: int64"
            ]
          },
          "metadata": {},
          "execution_count": 33
        }
      ]
    },
    {
      "cell_type": "code",
      "source": [
        "# tratamiento de nulos\n",
        "credit_card3= credit_card3.dropna()"
      ],
      "metadata": {
        "id": "2dKAWcTrWiGJ"
      },
      "execution_count": 35,
      "outputs": []
    },
    {
      "cell_type": "code",
      "source": [
        "# verificar nuevamente los nulos\n",
        "\n",
        "credit_card3.isnull().sum()"
      ],
      "metadata": {
        "colab": {
          "base_uri": "https://localhost:8080/"
        },
        "id": "kJCFI1tbXkFB",
        "outputId": "93f7511e-fda9-498c-e6c5-eb0637e1d665"
      },
      "execution_count": 36,
      "outputs": [
        {
          "output_type": "execute_result",
          "data": {
            "text/plain": [
              "CUST_ID                             0\n",
              "BALANCE                             0\n",
              "BALANCE_FREQUENCY                   0\n",
              "ONEOFF_PURCHASES                    0\n",
              "INSTALLMENTS_PURCHASES              0\n",
              "CASH_ADVANCE                        0\n",
              "PURCHASES_FREQUENCY                 0\n",
              "ONEOFF_PURCHASES_FREQUENCY          0\n",
              "PURCHASES_INSTALLMENTS_FREQUENCY    0\n",
              "CASH_ADVANCE_FREQUENCY              0\n",
              "CASH_ADVANCE_TRX                    0\n",
              "PURCHASES_TRX                       0\n",
              "CREDIT_LIMIT                        0\n",
              "PAYMENTS                            0\n",
              "MINIMUM_PAYMENTS                    0\n",
              "PRC_FULL_PAYMENT                    0\n",
              "TENURE                              0\n",
              "dtype: int64"
            ]
          },
          "metadata": {},
          "execution_count": 36
        }
      ]
    },
    {
      "cell_type": "code",
      "source": [
        "# eliminar la variable CUST_ID\n",
        "\n",
        "credit_card3 = credit_card3.drop('CUST_ID', axis=1)\n",
        "\n",
        "credit_card3.info()"
      ],
      "metadata": {
        "id": "Y-7dDiikWMGi",
        "colab": {
          "base_uri": "https://localhost:8080/"
        },
        "outputId": "8424ebb1-96da-40a1-fdd5-d4f96c20e8e3"
      },
      "execution_count": 37,
      "outputs": [
        {
          "output_type": "stream",
          "name": "stdout",
          "text": [
            "<class 'pandas.core.frame.DataFrame'>\n",
            "Int64Index: 8636 entries, 0 to 8949\n",
            "Data columns (total 16 columns):\n",
            " #   Column                            Non-Null Count  Dtype  \n",
            "---  ------                            --------------  -----  \n",
            " 0   BALANCE                           8636 non-null   float64\n",
            " 1   BALANCE_FREQUENCY                 8636 non-null   float64\n",
            " 2   ONEOFF_PURCHASES                  8636 non-null   float64\n",
            " 3   INSTALLMENTS_PURCHASES            8636 non-null   float64\n",
            " 4   CASH_ADVANCE                      8636 non-null   float64\n",
            " 5   PURCHASES_FREQUENCY               8636 non-null   float64\n",
            " 6   ONEOFF_PURCHASES_FREQUENCY        8636 non-null   float64\n",
            " 7   PURCHASES_INSTALLMENTS_FREQUENCY  8636 non-null   float64\n",
            " 8   CASH_ADVANCE_FREQUENCY            8636 non-null   float64\n",
            " 9   CASH_ADVANCE_TRX                  8636 non-null   int64  \n",
            " 10  PURCHASES_TRX                     8636 non-null   int64  \n",
            " 11  CREDIT_LIMIT                      8636 non-null   float64\n",
            " 12  PAYMENTS                          8636 non-null   float64\n",
            " 13  MINIMUM_PAYMENTS                  8636 non-null   float64\n",
            " 14  PRC_FULL_PAYMENT                  8636 non-null   float64\n",
            " 15  TENURE                            8636 non-null   int64  \n",
            "dtypes: float64(13), int64(3)\n",
            "memory usage: 1.1 MB\n"
          ]
        }
      ]
    },
    {
      "cell_type": "code",
      "source": [
        "#Carga escalado y modelado\n",
        "\n",
        "win_model_load = joblib.load('/content/drive/MyDrive/Colab Notebooks/win_model.joblib')"
      ],
      "metadata": {
        "colab": {
          "base_uri": "https://localhost:8080/"
        },
        "id": "Tf-MZ52JXx4O",
        "outputId": "f2a57127-f815-44ad-df8c-f6549909ff77"
      },
      "execution_count": 38,
      "outputs": [
        {
          "output_type": "stream",
          "name": "stderr",
          "text": [
            "WARNING:absl:Skipping variable loading for optimizer 'Adam', because it has 21 variables whereas the saved optimizer has 1 variables. \n"
          ]
        }
      ]
    },
    {
      "cell_type": "code",
      "source": [
        "win_model_load.summary()"
      ],
      "metadata": {
        "colab": {
          "base_uri": "https://localhost:8080/"
        },
        "id": "O3BLMDllX7lS",
        "outputId": "ddf3b837-0939-41b9-af14-854fc9fcf5f7"
      },
      "execution_count": 39,
      "outputs": [
        {
          "output_type": "stream",
          "name": "stdout",
          "text": [
            "Model: \"sequential\"\n",
            "_________________________________________________________________\n",
            " Layer (type)                Output Shape              Param #   \n",
            "=================================================================\n",
            " dense (Dense)               (None, 256)               4352      \n",
            "                                                                 \n",
            " dense_1 (Dense)             (None, 128)               32896     \n",
            "                                                                 \n",
            " dense_2 (Dense)             (None, 64)                8256      \n",
            "                                                                 \n",
            " dense_3 (Dense)             (None, 32)                2080      \n",
            "                                                                 \n",
            " dense_4 (Dense)             (None, 1)                 33        \n",
            "                                                                 \n",
            "=================================================================\n",
            "Total params: 47617 (186.00 KB)\n",
            "Trainable params: 47617 (186.00 KB)\n",
            "Non-trainable params: 0 (0.00 Byte)\n",
            "_________________________________________________________________\n"
          ]
        }
      ]
    },
    {
      "cell_type": "code",
      "source": [
        "sc2 = joblib.load('/content/drive/MyDrive/Colab Notebooks/sc.joblib')"
      ],
      "metadata": {
        "id": "th5dU4vdYCgv"
      },
      "execution_count": 41,
      "outputs": []
    },
    {
      "cell_type": "code",
      "source": [
        "#predicciones de datos nuevos\n",
        "\n",
        "X_sc2 = sc2.transform(X_credit_card)"
      ],
      "metadata": {
        "id": "kgBZPGT0Yyer"
      },
      "execution_count": 47,
      "outputs": []
    },
    {
      "cell_type": "code",
      "source": [
        "#PREDICCIONES NUEVAS\n",
        "\n",
        "pred_nuev = win_model_load.predict(X_sc2)"
      ],
      "metadata": {
        "colab": {
          "base_uri": "https://localhost:8080/"
        },
        "id": "ZCtZU_UyYcnC",
        "outputId": "10dccf5c-bb2b-46c0-cfcb-0afcfe4ca377"
      },
      "execution_count": 48,
      "outputs": [
        {
          "output_type": "stream",
          "name": "stdout",
          "text": [
            "270/270 [==============================] - 1s 2ms/step\n"
          ]
        }
      ]
    },
    {
      "cell_type": "code",
      "source": [
        "#poner en un dataframe\n",
        "\n",
        "data = pd.DataFrame(pred_nuev)"
      ],
      "metadata": {
        "id": "sbYwED6maXPs"
      },
      "execution_count": 49,
      "outputs": []
    },
    {
      "cell_type": "markdown",
      "source": [
        "Predicciones de Julio a Diciembre 2023 Purchase"
      ],
      "metadata": {
        "id": "UXjYeRq1eGJW"
      }
    },
    {
      "cell_type": "code",
      "source": [
        "data"
      ],
      "metadata": {
        "colab": {
          "base_uri": "https://localhost:8080/",
          "height": 423
        },
        "id": "S90epoVqaYmx",
        "outputId": "085576be-7fa5-4675-f191-76d0dcb2542b"
      },
      "execution_count": 50,
      "outputs": [
        {
          "output_type": "execute_result",
          "data": {
            "text/plain": [
              "                0\n",
              "0      126.492546\n",
              "1        0.000000\n",
              "2     1061.754150\n",
              "3      141.349533\n",
              "4     1615.733154\n",
              "...           ...\n",
              "8631   301.643951\n",
              "8632   272.780731\n",
              "8633   144.482803\n",
              "8634   120.656456\n",
              "8635  1445.751465\n",
              "\n",
              "[8636 rows x 1 columns]"
            ],
            "text/html": [
              "\n",
              "  <div id=\"df-2ac8ce41-0083-40f2-8482-68b525f0c069\" class=\"colab-df-container\">\n",
              "    <div>\n",
              "<style scoped>\n",
              "    .dataframe tbody tr th:only-of-type {\n",
              "        vertical-align: middle;\n",
              "    }\n",
              "\n",
              "    .dataframe tbody tr th {\n",
              "        vertical-align: top;\n",
              "    }\n",
              "\n",
              "    .dataframe thead th {\n",
              "        text-align: right;\n",
              "    }\n",
              "</style>\n",
              "<table border=\"1\" class=\"dataframe\">\n",
              "  <thead>\n",
              "    <tr style=\"text-align: right;\">\n",
              "      <th></th>\n",
              "      <th>0</th>\n",
              "    </tr>\n",
              "  </thead>\n",
              "  <tbody>\n",
              "    <tr>\n",
              "      <th>0</th>\n",
              "      <td>126.492546</td>\n",
              "    </tr>\n",
              "    <tr>\n",
              "      <th>1</th>\n",
              "      <td>0.000000</td>\n",
              "    </tr>\n",
              "    <tr>\n",
              "      <th>2</th>\n",
              "      <td>1061.754150</td>\n",
              "    </tr>\n",
              "    <tr>\n",
              "      <th>3</th>\n",
              "      <td>141.349533</td>\n",
              "    </tr>\n",
              "    <tr>\n",
              "      <th>4</th>\n",
              "      <td>1615.733154</td>\n",
              "    </tr>\n",
              "    <tr>\n",
              "      <th>...</th>\n",
              "      <td>...</td>\n",
              "    </tr>\n",
              "    <tr>\n",
              "      <th>8631</th>\n",
              "      <td>301.643951</td>\n",
              "    </tr>\n",
              "    <tr>\n",
              "      <th>8632</th>\n",
              "      <td>272.780731</td>\n",
              "    </tr>\n",
              "    <tr>\n",
              "      <th>8633</th>\n",
              "      <td>144.482803</td>\n",
              "    </tr>\n",
              "    <tr>\n",
              "      <th>8634</th>\n",
              "      <td>120.656456</td>\n",
              "    </tr>\n",
              "    <tr>\n",
              "      <th>8635</th>\n",
              "      <td>1445.751465</td>\n",
              "    </tr>\n",
              "  </tbody>\n",
              "</table>\n",
              "<p>8636 rows × 1 columns</p>\n",
              "</div>\n",
              "    <div class=\"colab-df-buttons\">\n",
              "\n",
              "  <div class=\"colab-df-container\">\n",
              "    <button class=\"colab-df-convert\" onclick=\"convertToInteractive('df-2ac8ce41-0083-40f2-8482-68b525f0c069')\"\n",
              "            title=\"Convert this dataframe to an interactive table.\"\n",
              "            style=\"display:none;\">\n",
              "\n",
              "  <svg xmlns=\"http://www.w3.org/2000/svg\" height=\"24px\" viewBox=\"0 -960 960 960\">\n",
              "    <path d=\"M120-120v-720h720v720H120Zm60-500h600v-160H180v160Zm220 220h160v-160H400v160Zm0 220h160v-160H400v160ZM180-400h160v-160H180v160Zm440 0h160v-160H620v160ZM180-180h160v-160H180v160Zm440 0h160v-160H620v160Z\"/>\n",
              "  </svg>\n",
              "    </button>\n",
              "\n",
              "  <style>\n",
              "    .colab-df-container {\n",
              "      display:flex;\n",
              "      gap: 12px;\n",
              "    }\n",
              "\n",
              "    .colab-df-convert {\n",
              "      background-color: #E8F0FE;\n",
              "      border: none;\n",
              "      border-radius: 50%;\n",
              "      cursor: pointer;\n",
              "      display: none;\n",
              "      fill: #1967D2;\n",
              "      height: 32px;\n",
              "      padding: 0 0 0 0;\n",
              "      width: 32px;\n",
              "    }\n",
              "\n",
              "    .colab-df-convert:hover {\n",
              "      background-color: #E2EBFA;\n",
              "      box-shadow: 0px 1px 2px rgba(60, 64, 67, 0.3), 0px 1px 3px 1px rgba(60, 64, 67, 0.15);\n",
              "      fill: #174EA6;\n",
              "    }\n",
              "\n",
              "    .colab-df-buttons div {\n",
              "      margin-bottom: 4px;\n",
              "    }\n",
              "\n",
              "    [theme=dark] .colab-df-convert {\n",
              "      background-color: #3B4455;\n",
              "      fill: #D2E3FC;\n",
              "    }\n",
              "\n",
              "    [theme=dark] .colab-df-convert:hover {\n",
              "      background-color: #434B5C;\n",
              "      box-shadow: 0px 1px 3px 1px rgba(0, 0, 0, 0.15);\n",
              "      filter: drop-shadow(0px 1px 2px rgba(0, 0, 0, 0.3));\n",
              "      fill: #FFFFFF;\n",
              "    }\n",
              "  </style>\n",
              "\n",
              "    <script>\n",
              "      const buttonEl =\n",
              "        document.querySelector('#df-2ac8ce41-0083-40f2-8482-68b525f0c069 button.colab-df-convert');\n",
              "      buttonEl.style.display =\n",
              "        google.colab.kernel.accessAllowed ? 'block' : 'none';\n",
              "\n",
              "      async function convertToInteractive(key) {\n",
              "        const element = document.querySelector('#df-2ac8ce41-0083-40f2-8482-68b525f0c069');\n",
              "        const dataTable =\n",
              "          await google.colab.kernel.invokeFunction('convertToInteractive',\n",
              "                                                    [key], {});\n",
              "        if (!dataTable) return;\n",
              "\n",
              "        const docLinkHtml = 'Like what you see? Visit the ' +\n",
              "          '<a target=\"_blank\" href=https://colab.research.google.com/notebooks/data_table.ipynb>data table notebook</a>'\n",
              "          + ' to learn more about interactive tables.';\n",
              "        element.innerHTML = '';\n",
              "        dataTable['output_type'] = 'display_data';\n",
              "        await google.colab.output.renderOutput(dataTable, element);\n",
              "        const docLink = document.createElement('div');\n",
              "        docLink.innerHTML = docLinkHtml;\n",
              "        element.appendChild(docLink);\n",
              "      }\n",
              "    </script>\n",
              "  </div>\n",
              "\n",
              "\n",
              "<div id=\"df-59196ef4-e82f-4871-a937-95c19cac7e62\">\n",
              "  <button class=\"colab-df-quickchart\" onclick=\"quickchart('df-59196ef4-e82f-4871-a937-95c19cac7e62')\"\n",
              "            title=\"Suggest charts\"\n",
              "            style=\"display:none;\">\n",
              "\n",
              "<svg xmlns=\"http://www.w3.org/2000/svg\" height=\"24px\"viewBox=\"0 0 24 24\"\n",
              "     width=\"24px\">\n",
              "    <g>\n",
              "        <path d=\"M19 3H5c-1.1 0-2 .9-2 2v14c0 1.1.9 2 2 2h14c1.1 0 2-.9 2-2V5c0-1.1-.9-2-2-2zM9 17H7v-7h2v7zm4 0h-2V7h2v10zm4 0h-2v-4h2v4z\"/>\n",
              "    </g>\n",
              "</svg>\n",
              "  </button>\n",
              "\n",
              "<style>\n",
              "  .colab-df-quickchart {\n",
              "      --bg-color: #E8F0FE;\n",
              "      --fill-color: #1967D2;\n",
              "      --hover-bg-color: #E2EBFA;\n",
              "      --hover-fill-color: #174EA6;\n",
              "      --disabled-fill-color: #AAA;\n",
              "      --disabled-bg-color: #DDD;\n",
              "  }\n",
              "\n",
              "  [theme=dark] .colab-df-quickchart {\n",
              "      --bg-color: #3B4455;\n",
              "      --fill-color: #D2E3FC;\n",
              "      --hover-bg-color: #434B5C;\n",
              "      --hover-fill-color: #FFFFFF;\n",
              "      --disabled-bg-color: #3B4455;\n",
              "      --disabled-fill-color: #666;\n",
              "  }\n",
              "\n",
              "  .colab-df-quickchart {\n",
              "    background-color: var(--bg-color);\n",
              "    border: none;\n",
              "    border-radius: 50%;\n",
              "    cursor: pointer;\n",
              "    display: none;\n",
              "    fill: var(--fill-color);\n",
              "    height: 32px;\n",
              "    padding: 0;\n",
              "    width: 32px;\n",
              "  }\n",
              "\n",
              "  .colab-df-quickchart:hover {\n",
              "    background-color: var(--hover-bg-color);\n",
              "    box-shadow: 0 1px 2px rgba(60, 64, 67, 0.3), 0 1px 3px 1px rgba(60, 64, 67, 0.15);\n",
              "    fill: var(--button-hover-fill-color);\n",
              "  }\n",
              "\n",
              "  .colab-df-quickchart-complete:disabled,\n",
              "  .colab-df-quickchart-complete:disabled:hover {\n",
              "    background-color: var(--disabled-bg-color);\n",
              "    fill: var(--disabled-fill-color);\n",
              "    box-shadow: none;\n",
              "  }\n",
              "\n",
              "  .colab-df-spinner {\n",
              "    border: 2px solid var(--fill-color);\n",
              "    border-color: transparent;\n",
              "    border-bottom-color: var(--fill-color);\n",
              "    animation:\n",
              "      spin 1s steps(1) infinite;\n",
              "  }\n",
              "\n",
              "  @keyframes spin {\n",
              "    0% {\n",
              "      border-color: transparent;\n",
              "      border-bottom-color: var(--fill-color);\n",
              "      border-left-color: var(--fill-color);\n",
              "    }\n",
              "    20% {\n",
              "      border-color: transparent;\n",
              "      border-left-color: var(--fill-color);\n",
              "      border-top-color: var(--fill-color);\n",
              "    }\n",
              "    30% {\n",
              "      border-color: transparent;\n",
              "      border-left-color: var(--fill-color);\n",
              "      border-top-color: var(--fill-color);\n",
              "      border-right-color: var(--fill-color);\n",
              "    }\n",
              "    40% {\n",
              "      border-color: transparent;\n",
              "      border-right-color: var(--fill-color);\n",
              "      border-top-color: var(--fill-color);\n",
              "    }\n",
              "    60% {\n",
              "      border-color: transparent;\n",
              "      border-right-color: var(--fill-color);\n",
              "    }\n",
              "    80% {\n",
              "      border-color: transparent;\n",
              "      border-right-color: var(--fill-color);\n",
              "      border-bottom-color: var(--fill-color);\n",
              "    }\n",
              "    90% {\n",
              "      border-color: transparent;\n",
              "      border-bottom-color: var(--fill-color);\n",
              "    }\n",
              "  }\n",
              "</style>\n",
              "\n",
              "  <script>\n",
              "    async function quickchart(key) {\n",
              "      const quickchartButtonEl =\n",
              "        document.querySelector('#' + key + ' button');\n",
              "      quickchartButtonEl.disabled = true;  // To prevent multiple clicks.\n",
              "      quickchartButtonEl.classList.add('colab-df-spinner');\n",
              "      try {\n",
              "        const charts = await google.colab.kernel.invokeFunction(\n",
              "            'suggestCharts', [key], {});\n",
              "      } catch (error) {\n",
              "        console.error('Error during call to suggestCharts:', error);\n",
              "      }\n",
              "      quickchartButtonEl.classList.remove('colab-df-spinner');\n",
              "      quickchartButtonEl.classList.add('colab-df-quickchart-complete');\n",
              "    }\n",
              "    (() => {\n",
              "      let quickchartButtonEl =\n",
              "        document.querySelector('#df-59196ef4-e82f-4871-a937-95c19cac7e62 button');\n",
              "      quickchartButtonEl.style.display =\n",
              "        google.colab.kernel.accessAllowed ? 'block' : 'none';\n",
              "    })();\n",
              "  </script>\n",
              "</div>\n",
              "    </div>\n",
              "  </div>\n"
            ]
          },
          "metadata": {},
          "execution_count": 50
        }
      ]
    },
    {
      "cell_type": "markdown",
      "source": [
        "Data de enero a Junio de purchase 2023"
      ],
      "metadata": {
        "id": "wGYCa7t-eQo2"
      }
    },
    {
      "cell_type": "code",
      "source": [
        "y_credit_card"
      ],
      "metadata": {
        "colab": {
          "base_uri": "https://localhost:8080/"
        },
        "id": "H53DzhSVdvl3",
        "outputId": "99428824-6d4c-4968-b911-428e1914fce5"
      },
      "execution_count": 51,
      "outputs": [
        {
          "output_type": "execute_result",
          "data": {
            "text/plain": [
              "0         95.40\n",
              "1          0.00\n",
              "2        773.17\n",
              "4         16.00\n",
              "5       1333.28\n",
              "         ...   \n",
              "8943      20.90\n",
              "8945     291.12\n",
              "8947     144.40\n",
              "8948       0.00\n",
              "8949    1093.25\n",
              "Name: PURCHASES, Length: 8636, dtype: float64"
            ]
          },
          "metadata": {},
          "execution_count": 51
        }
      ]
    },
    {
      "cell_type": "code",
      "source": [
        "suma_purchases = credit_card2['PURCHASES'].sum()\n",
        "\n",
        "print('La suma de las compras en el periodo de enero a junio del 2023 fueron:', suma_purchases)"
      ],
      "metadata": {
        "colab": {
          "base_uri": "https://localhost:8080/"
        },
        "id": "9q9BX38_ekkY",
        "outputId": "e5bb89a1-b260-44a1-f327-d7875d16d986"
      },
      "execution_count": 61,
      "outputs": [
        {
          "output_type": "stream",
          "name": "stdout",
          "text": [
            "La suma de las compras en el periodo de enero a junio del 2023 fueron: 8855646.94\n"
          ]
        }
      ]
    },
    {
      "cell_type": "code",
      "source": [
        "suma_purchases2 = pred_nuev.sum()\n",
        "print('La suma de las compras en el periodo de julio a diciembre del 2023 fueron:', suma_purchases2)"
      ],
      "metadata": {
        "colab": {
          "base_uri": "https://localhost:8080/"
        },
        "id": "r5gqmujSeOe1",
        "outputId": "0eff3836-eaa6-4212-9535-d62a73ad2c17"
      },
      "execution_count": 64,
      "outputs": [
        {
          "output_type": "stream",
          "name": "stdout",
          "text": [
            "La suma de las compras en el periodo de julio a diciembre del 2023 fueron: 9292573.0\n"
          ]
        }
      ]
    },
    {
      "cell_type": "markdown",
      "source": [
        "En primer lugar se puede observar que la suma del número de compras en el periodo de julio a diciembre del 2023 es de 9.292.573 unidades monetarias\n",
        "En segundo lugar se nota que sí se observan compras mayores que en el periodo de enero a julio, dado que las compras de este periodo son iguales a 8.855.646 obteniendo una diferencia de 436927"
      ],
      "metadata": {
        "id": "uDSGqrOWf7j7"
      }
    },
    {
      "cell_type": "code",
      "source": [
        "data= data.rename(columns={'0': 'Prediccion'})\n",
        "data"
      ],
      "metadata": {
        "colab": {
          "base_uri": "https://localhost:8080/",
          "height": 423
        },
        "id": "EzanhSNmkcat",
        "outputId": "de8e6c71-48e9-4c50-e057-12fa572b2816"
      },
      "execution_count": 74,
      "outputs": [
        {
          "output_type": "execute_result",
          "data": {
            "text/plain": [
              "                0\n",
              "0      126.492546\n",
              "1        0.000000\n",
              "2     1061.754150\n",
              "3      141.349533\n",
              "4     1615.733154\n",
              "...           ...\n",
              "8631   301.643951\n",
              "8632   272.780731\n",
              "8633   144.482803\n",
              "8634   120.656456\n",
              "8635  1445.751465\n",
              "\n",
              "[8636 rows x 1 columns]"
            ],
            "text/html": [
              "\n",
              "  <div id=\"df-2b191cfd-54c0-48da-865c-4f4a53f04949\" class=\"colab-df-container\">\n",
              "    <div>\n",
              "<style scoped>\n",
              "    .dataframe tbody tr th:only-of-type {\n",
              "        vertical-align: middle;\n",
              "    }\n",
              "\n",
              "    .dataframe tbody tr th {\n",
              "        vertical-align: top;\n",
              "    }\n",
              "\n",
              "    .dataframe thead th {\n",
              "        text-align: right;\n",
              "    }\n",
              "</style>\n",
              "<table border=\"1\" class=\"dataframe\">\n",
              "  <thead>\n",
              "    <tr style=\"text-align: right;\">\n",
              "      <th></th>\n",
              "      <th>0</th>\n",
              "    </tr>\n",
              "  </thead>\n",
              "  <tbody>\n",
              "    <tr>\n",
              "      <th>0</th>\n",
              "      <td>126.492546</td>\n",
              "    </tr>\n",
              "    <tr>\n",
              "      <th>1</th>\n",
              "      <td>0.000000</td>\n",
              "    </tr>\n",
              "    <tr>\n",
              "      <th>2</th>\n",
              "      <td>1061.754150</td>\n",
              "    </tr>\n",
              "    <tr>\n",
              "      <th>3</th>\n",
              "      <td>141.349533</td>\n",
              "    </tr>\n",
              "    <tr>\n",
              "      <th>4</th>\n",
              "      <td>1615.733154</td>\n",
              "    </tr>\n",
              "    <tr>\n",
              "      <th>...</th>\n",
              "      <td>...</td>\n",
              "    </tr>\n",
              "    <tr>\n",
              "      <th>8631</th>\n",
              "      <td>301.643951</td>\n",
              "    </tr>\n",
              "    <tr>\n",
              "      <th>8632</th>\n",
              "      <td>272.780731</td>\n",
              "    </tr>\n",
              "    <tr>\n",
              "      <th>8633</th>\n",
              "      <td>144.482803</td>\n",
              "    </tr>\n",
              "    <tr>\n",
              "      <th>8634</th>\n",
              "      <td>120.656456</td>\n",
              "    </tr>\n",
              "    <tr>\n",
              "      <th>8635</th>\n",
              "      <td>1445.751465</td>\n",
              "    </tr>\n",
              "  </tbody>\n",
              "</table>\n",
              "<p>8636 rows × 1 columns</p>\n",
              "</div>\n",
              "    <div class=\"colab-df-buttons\">\n",
              "\n",
              "  <div class=\"colab-df-container\">\n",
              "    <button class=\"colab-df-convert\" onclick=\"convertToInteractive('df-2b191cfd-54c0-48da-865c-4f4a53f04949')\"\n",
              "            title=\"Convert this dataframe to an interactive table.\"\n",
              "            style=\"display:none;\">\n",
              "\n",
              "  <svg xmlns=\"http://www.w3.org/2000/svg\" height=\"24px\" viewBox=\"0 -960 960 960\">\n",
              "    <path d=\"M120-120v-720h720v720H120Zm60-500h600v-160H180v160Zm220 220h160v-160H400v160Zm0 220h160v-160H400v160ZM180-400h160v-160H180v160Zm440 0h160v-160H620v160ZM180-180h160v-160H180v160Zm440 0h160v-160H620v160Z\"/>\n",
              "  </svg>\n",
              "    </button>\n",
              "\n",
              "  <style>\n",
              "    .colab-df-container {\n",
              "      display:flex;\n",
              "      gap: 12px;\n",
              "    }\n",
              "\n",
              "    .colab-df-convert {\n",
              "      background-color: #E8F0FE;\n",
              "      border: none;\n",
              "      border-radius: 50%;\n",
              "      cursor: pointer;\n",
              "      display: none;\n",
              "      fill: #1967D2;\n",
              "      height: 32px;\n",
              "      padding: 0 0 0 0;\n",
              "      width: 32px;\n",
              "    }\n",
              "\n",
              "    .colab-df-convert:hover {\n",
              "      background-color: #E2EBFA;\n",
              "      box-shadow: 0px 1px 2px rgba(60, 64, 67, 0.3), 0px 1px 3px 1px rgba(60, 64, 67, 0.15);\n",
              "      fill: #174EA6;\n",
              "    }\n",
              "\n",
              "    .colab-df-buttons div {\n",
              "      margin-bottom: 4px;\n",
              "    }\n",
              "\n",
              "    [theme=dark] .colab-df-convert {\n",
              "      background-color: #3B4455;\n",
              "      fill: #D2E3FC;\n",
              "    }\n",
              "\n",
              "    [theme=dark] .colab-df-convert:hover {\n",
              "      background-color: #434B5C;\n",
              "      box-shadow: 0px 1px 3px 1px rgba(0, 0, 0, 0.15);\n",
              "      filter: drop-shadow(0px 1px 2px rgba(0, 0, 0, 0.3));\n",
              "      fill: #FFFFFF;\n",
              "    }\n",
              "  </style>\n",
              "\n",
              "    <script>\n",
              "      const buttonEl =\n",
              "        document.querySelector('#df-2b191cfd-54c0-48da-865c-4f4a53f04949 button.colab-df-convert');\n",
              "      buttonEl.style.display =\n",
              "        google.colab.kernel.accessAllowed ? 'block' : 'none';\n",
              "\n",
              "      async function convertToInteractive(key) {\n",
              "        const element = document.querySelector('#df-2b191cfd-54c0-48da-865c-4f4a53f04949');\n",
              "        const dataTable =\n",
              "          await google.colab.kernel.invokeFunction('convertToInteractive',\n",
              "                                                    [key], {});\n",
              "        if (!dataTable) return;\n",
              "\n",
              "        const docLinkHtml = 'Like what you see? Visit the ' +\n",
              "          '<a target=\"_blank\" href=https://colab.research.google.com/notebooks/data_table.ipynb>data table notebook</a>'\n",
              "          + ' to learn more about interactive tables.';\n",
              "        element.innerHTML = '';\n",
              "        dataTable['output_type'] = 'display_data';\n",
              "        await google.colab.output.renderOutput(dataTable, element);\n",
              "        const docLink = document.createElement('div');\n",
              "        docLink.innerHTML = docLinkHtml;\n",
              "        element.appendChild(docLink);\n",
              "      }\n",
              "    </script>\n",
              "  </div>\n",
              "\n",
              "\n",
              "<div id=\"df-2361154e-616f-485a-918b-85a2767311aa\">\n",
              "  <button class=\"colab-df-quickchart\" onclick=\"quickchart('df-2361154e-616f-485a-918b-85a2767311aa')\"\n",
              "            title=\"Suggest charts\"\n",
              "            style=\"display:none;\">\n",
              "\n",
              "<svg xmlns=\"http://www.w3.org/2000/svg\" height=\"24px\"viewBox=\"0 0 24 24\"\n",
              "     width=\"24px\">\n",
              "    <g>\n",
              "        <path d=\"M19 3H5c-1.1 0-2 .9-2 2v14c0 1.1.9 2 2 2h14c1.1 0 2-.9 2-2V5c0-1.1-.9-2-2-2zM9 17H7v-7h2v7zm4 0h-2V7h2v10zm4 0h-2v-4h2v4z\"/>\n",
              "    </g>\n",
              "</svg>\n",
              "  </button>\n",
              "\n",
              "<style>\n",
              "  .colab-df-quickchart {\n",
              "      --bg-color: #E8F0FE;\n",
              "      --fill-color: #1967D2;\n",
              "      --hover-bg-color: #E2EBFA;\n",
              "      --hover-fill-color: #174EA6;\n",
              "      --disabled-fill-color: #AAA;\n",
              "      --disabled-bg-color: #DDD;\n",
              "  }\n",
              "\n",
              "  [theme=dark] .colab-df-quickchart {\n",
              "      --bg-color: #3B4455;\n",
              "      --fill-color: #D2E3FC;\n",
              "      --hover-bg-color: #434B5C;\n",
              "      --hover-fill-color: #FFFFFF;\n",
              "      --disabled-bg-color: #3B4455;\n",
              "      --disabled-fill-color: #666;\n",
              "  }\n",
              "\n",
              "  .colab-df-quickchart {\n",
              "    background-color: var(--bg-color);\n",
              "    border: none;\n",
              "    border-radius: 50%;\n",
              "    cursor: pointer;\n",
              "    display: none;\n",
              "    fill: var(--fill-color);\n",
              "    height: 32px;\n",
              "    padding: 0;\n",
              "    width: 32px;\n",
              "  }\n",
              "\n",
              "  .colab-df-quickchart:hover {\n",
              "    background-color: var(--hover-bg-color);\n",
              "    box-shadow: 0 1px 2px rgba(60, 64, 67, 0.3), 0 1px 3px 1px rgba(60, 64, 67, 0.15);\n",
              "    fill: var(--button-hover-fill-color);\n",
              "  }\n",
              "\n",
              "  .colab-df-quickchart-complete:disabled,\n",
              "  .colab-df-quickchart-complete:disabled:hover {\n",
              "    background-color: var(--disabled-bg-color);\n",
              "    fill: var(--disabled-fill-color);\n",
              "    box-shadow: none;\n",
              "  }\n",
              "\n",
              "  .colab-df-spinner {\n",
              "    border: 2px solid var(--fill-color);\n",
              "    border-color: transparent;\n",
              "    border-bottom-color: var(--fill-color);\n",
              "    animation:\n",
              "      spin 1s steps(1) infinite;\n",
              "  }\n",
              "\n",
              "  @keyframes spin {\n",
              "    0% {\n",
              "      border-color: transparent;\n",
              "      border-bottom-color: var(--fill-color);\n",
              "      border-left-color: var(--fill-color);\n",
              "    }\n",
              "    20% {\n",
              "      border-color: transparent;\n",
              "      border-left-color: var(--fill-color);\n",
              "      border-top-color: var(--fill-color);\n",
              "    }\n",
              "    30% {\n",
              "      border-color: transparent;\n",
              "      border-left-color: var(--fill-color);\n",
              "      border-top-color: var(--fill-color);\n",
              "      border-right-color: var(--fill-color);\n",
              "    }\n",
              "    40% {\n",
              "      border-color: transparent;\n",
              "      border-right-color: var(--fill-color);\n",
              "      border-top-color: var(--fill-color);\n",
              "    }\n",
              "    60% {\n",
              "      border-color: transparent;\n",
              "      border-right-color: var(--fill-color);\n",
              "    }\n",
              "    80% {\n",
              "      border-color: transparent;\n",
              "      border-right-color: var(--fill-color);\n",
              "      border-bottom-color: var(--fill-color);\n",
              "    }\n",
              "    90% {\n",
              "      border-color: transparent;\n",
              "      border-bottom-color: var(--fill-color);\n",
              "    }\n",
              "  }\n",
              "</style>\n",
              "\n",
              "  <script>\n",
              "    async function quickchart(key) {\n",
              "      const quickchartButtonEl =\n",
              "        document.querySelector('#' + key + ' button');\n",
              "      quickchartButtonEl.disabled = true;  // To prevent multiple clicks.\n",
              "      quickchartButtonEl.classList.add('colab-df-spinner');\n",
              "      try {\n",
              "        const charts = await google.colab.kernel.invokeFunction(\n",
              "            'suggestCharts', [key], {});\n",
              "      } catch (error) {\n",
              "        console.error('Error during call to suggestCharts:', error);\n",
              "      }\n",
              "      quickchartButtonEl.classList.remove('colab-df-spinner');\n",
              "      quickchartButtonEl.classList.add('colab-df-quickchart-complete');\n",
              "    }\n",
              "    (() => {\n",
              "      let quickchartButtonEl =\n",
              "        document.querySelector('#df-2361154e-616f-485a-918b-85a2767311aa button');\n",
              "      quickchartButtonEl.style.display =\n",
              "        google.colab.kernel.accessAllowed ? 'block' : 'none';\n",
              "    })();\n",
              "  </script>\n",
              "</div>\n",
              "    </div>\n",
              "  </div>\n"
            ]
          },
          "metadata": {},
          "execution_count": 74
        }
      ]
    },
    {
      "cell_type": "code",
      "source": [
        "\n",
        "sorted_pred_nuev = sorted(pred_nuev, reverse=True)\n",
        "\n",
        "# Convertir la lista ordenada en un DataFrame\n",
        "df = pd.DataFrame({'Columna_Ordenada': sorted_pred_nuev})\n",
        "\n",
        "# Imprimir el DataFrame resultante\n",
        "primeros_clientes= df.head(5)\n",
        "primeros_clientes"
      ],
      "metadata": {
        "colab": {
          "base_uri": "https://localhost:8080/",
          "height": 206
        },
        "id": "Xsozz1LKmFkZ",
        "outputId": "e3861fbd-71ec-4f27-cf5d-218ca15f0880"
      },
      "execution_count": 95,
      "outputs": [
        {
          "output_type": "execute_result",
          "data": {
            "text/plain": [
              "  Columna_Ordenada\n",
              "0      [43334.527]\n",
              "1       [39851.47]\n",
              "2       [38558.42]\n",
              "3       [36666.02]\n",
              "4      [29813.992]"
            ],
            "text/html": [
              "\n",
              "  <div id=\"df-658b9510-5f82-424f-839f-5f65fc7bca8f\" class=\"colab-df-container\">\n",
              "    <div>\n",
              "<style scoped>\n",
              "    .dataframe tbody tr th:only-of-type {\n",
              "        vertical-align: middle;\n",
              "    }\n",
              "\n",
              "    .dataframe tbody tr th {\n",
              "        vertical-align: top;\n",
              "    }\n",
              "\n",
              "    .dataframe thead th {\n",
              "        text-align: right;\n",
              "    }\n",
              "</style>\n",
              "<table border=\"1\" class=\"dataframe\">\n",
              "  <thead>\n",
              "    <tr style=\"text-align: right;\">\n",
              "      <th></th>\n",
              "      <th>Columna_Ordenada</th>\n",
              "    </tr>\n",
              "  </thead>\n",
              "  <tbody>\n",
              "    <tr>\n",
              "      <th>0</th>\n",
              "      <td>[43334.527]</td>\n",
              "    </tr>\n",
              "    <tr>\n",
              "      <th>1</th>\n",
              "      <td>[39851.47]</td>\n",
              "    </tr>\n",
              "    <tr>\n",
              "      <th>2</th>\n",
              "      <td>[38558.42]</td>\n",
              "    </tr>\n",
              "    <tr>\n",
              "      <th>3</th>\n",
              "      <td>[36666.02]</td>\n",
              "    </tr>\n",
              "    <tr>\n",
              "      <th>4</th>\n",
              "      <td>[29813.992]</td>\n",
              "    </tr>\n",
              "  </tbody>\n",
              "</table>\n",
              "</div>\n",
              "    <div class=\"colab-df-buttons\">\n",
              "\n",
              "  <div class=\"colab-df-container\">\n",
              "    <button class=\"colab-df-convert\" onclick=\"convertToInteractive('df-658b9510-5f82-424f-839f-5f65fc7bca8f')\"\n",
              "            title=\"Convert this dataframe to an interactive table.\"\n",
              "            style=\"display:none;\">\n",
              "\n",
              "  <svg xmlns=\"http://www.w3.org/2000/svg\" height=\"24px\" viewBox=\"0 -960 960 960\">\n",
              "    <path d=\"M120-120v-720h720v720H120Zm60-500h600v-160H180v160Zm220 220h160v-160H400v160Zm0 220h160v-160H400v160ZM180-400h160v-160H180v160Zm440 0h160v-160H620v160ZM180-180h160v-160H180v160Zm440 0h160v-160H620v160Z\"/>\n",
              "  </svg>\n",
              "    </button>\n",
              "\n",
              "  <style>\n",
              "    .colab-df-container {\n",
              "      display:flex;\n",
              "      gap: 12px;\n",
              "    }\n",
              "\n",
              "    .colab-df-convert {\n",
              "      background-color: #E8F0FE;\n",
              "      border: none;\n",
              "      border-radius: 50%;\n",
              "      cursor: pointer;\n",
              "      display: none;\n",
              "      fill: #1967D2;\n",
              "      height: 32px;\n",
              "      padding: 0 0 0 0;\n",
              "      width: 32px;\n",
              "    }\n",
              "\n",
              "    .colab-df-convert:hover {\n",
              "      background-color: #E2EBFA;\n",
              "      box-shadow: 0px 1px 2px rgba(60, 64, 67, 0.3), 0px 1px 3px 1px rgba(60, 64, 67, 0.15);\n",
              "      fill: #174EA6;\n",
              "    }\n",
              "\n",
              "    .colab-df-buttons div {\n",
              "      margin-bottom: 4px;\n",
              "    }\n",
              "\n",
              "    [theme=dark] .colab-df-convert {\n",
              "      background-color: #3B4455;\n",
              "      fill: #D2E3FC;\n",
              "    }\n",
              "\n",
              "    [theme=dark] .colab-df-convert:hover {\n",
              "      background-color: #434B5C;\n",
              "      box-shadow: 0px 1px 3px 1px rgba(0, 0, 0, 0.15);\n",
              "      filter: drop-shadow(0px 1px 2px rgba(0, 0, 0, 0.3));\n",
              "      fill: #FFFFFF;\n",
              "    }\n",
              "  </style>\n",
              "\n",
              "    <script>\n",
              "      const buttonEl =\n",
              "        document.querySelector('#df-658b9510-5f82-424f-839f-5f65fc7bca8f button.colab-df-convert');\n",
              "      buttonEl.style.display =\n",
              "        google.colab.kernel.accessAllowed ? 'block' : 'none';\n",
              "\n",
              "      async function convertToInteractive(key) {\n",
              "        const element = document.querySelector('#df-658b9510-5f82-424f-839f-5f65fc7bca8f');\n",
              "        const dataTable =\n",
              "          await google.colab.kernel.invokeFunction('convertToInteractive',\n",
              "                                                    [key], {});\n",
              "        if (!dataTable) return;\n",
              "\n",
              "        const docLinkHtml = 'Like what you see? Visit the ' +\n",
              "          '<a target=\"_blank\" href=https://colab.research.google.com/notebooks/data_table.ipynb>data table notebook</a>'\n",
              "          + ' to learn more about interactive tables.';\n",
              "        element.innerHTML = '';\n",
              "        dataTable['output_type'] = 'display_data';\n",
              "        await google.colab.output.renderOutput(dataTable, element);\n",
              "        const docLink = document.createElement('div');\n",
              "        docLink.innerHTML = docLinkHtml;\n",
              "        element.appendChild(docLink);\n",
              "      }\n",
              "    </script>\n",
              "  </div>\n",
              "\n",
              "\n",
              "<div id=\"df-8bb0306f-c4fb-4f4a-855f-37fdbeb52bbb\">\n",
              "  <button class=\"colab-df-quickchart\" onclick=\"quickchart('df-8bb0306f-c4fb-4f4a-855f-37fdbeb52bbb')\"\n",
              "            title=\"Suggest charts\"\n",
              "            style=\"display:none;\">\n",
              "\n",
              "<svg xmlns=\"http://www.w3.org/2000/svg\" height=\"24px\"viewBox=\"0 0 24 24\"\n",
              "     width=\"24px\">\n",
              "    <g>\n",
              "        <path d=\"M19 3H5c-1.1 0-2 .9-2 2v14c0 1.1.9 2 2 2h14c1.1 0 2-.9 2-2V5c0-1.1-.9-2-2-2zM9 17H7v-7h2v7zm4 0h-2V7h2v10zm4 0h-2v-4h2v4z\"/>\n",
              "    </g>\n",
              "</svg>\n",
              "  </button>\n",
              "\n",
              "<style>\n",
              "  .colab-df-quickchart {\n",
              "      --bg-color: #E8F0FE;\n",
              "      --fill-color: #1967D2;\n",
              "      --hover-bg-color: #E2EBFA;\n",
              "      --hover-fill-color: #174EA6;\n",
              "      --disabled-fill-color: #AAA;\n",
              "      --disabled-bg-color: #DDD;\n",
              "  }\n",
              "\n",
              "  [theme=dark] .colab-df-quickchart {\n",
              "      --bg-color: #3B4455;\n",
              "      --fill-color: #D2E3FC;\n",
              "      --hover-bg-color: #434B5C;\n",
              "      --hover-fill-color: #FFFFFF;\n",
              "      --disabled-bg-color: #3B4455;\n",
              "      --disabled-fill-color: #666;\n",
              "  }\n",
              "\n",
              "  .colab-df-quickchart {\n",
              "    background-color: var(--bg-color);\n",
              "    border: none;\n",
              "    border-radius: 50%;\n",
              "    cursor: pointer;\n",
              "    display: none;\n",
              "    fill: var(--fill-color);\n",
              "    height: 32px;\n",
              "    padding: 0;\n",
              "    width: 32px;\n",
              "  }\n",
              "\n",
              "  .colab-df-quickchart:hover {\n",
              "    background-color: var(--hover-bg-color);\n",
              "    box-shadow: 0 1px 2px rgba(60, 64, 67, 0.3), 0 1px 3px 1px rgba(60, 64, 67, 0.15);\n",
              "    fill: var(--button-hover-fill-color);\n",
              "  }\n",
              "\n",
              "  .colab-df-quickchart-complete:disabled,\n",
              "  .colab-df-quickchart-complete:disabled:hover {\n",
              "    background-color: var(--disabled-bg-color);\n",
              "    fill: var(--disabled-fill-color);\n",
              "    box-shadow: none;\n",
              "  }\n",
              "\n",
              "  .colab-df-spinner {\n",
              "    border: 2px solid var(--fill-color);\n",
              "    border-color: transparent;\n",
              "    border-bottom-color: var(--fill-color);\n",
              "    animation:\n",
              "      spin 1s steps(1) infinite;\n",
              "  }\n",
              "\n",
              "  @keyframes spin {\n",
              "    0% {\n",
              "      border-color: transparent;\n",
              "      border-bottom-color: var(--fill-color);\n",
              "      border-left-color: var(--fill-color);\n",
              "    }\n",
              "    20% {\n",
              "      border-color: transparent;\n",
              "      border-left-color: var(--fill-color);\n",
              "      border-top-color: var(--fill-color);\n",
              "    }\n",
              "    30% {\n",
              "      border-color: transparent;\n",
              "      border-left-color: var(--fill-color);\n",
              "      border-top-color: var(--fill-color);\n",
              "      border-right-color: var(--fill-color);\n",
              "    }\n",
              "    40% {\n",
              "      border-color: transparent;\n",
              "      border-right-color: var(--fill-color);\n",
              "      border-top-color: var(--fill-color);\n",
              "    }\n",
              "    60% {\n",
              "      border-color: transparent;\n",
              "      border-right-color: var(--fill-color);\n",
              "    }\n",
              "    80% {\n",
              "      border-color: transparent;\n",
              "      border-right-color: var(--fill-color);\n",
              "      border-bottom-color: var(--fill-color);\n",
              "    }\n",
              "    90% {\n",
              "      border-color: transparent;\n",
              "      border-bottom-color: var(--fill-color);\n",
              "    }\n",
              "  }\n",
              "</style>\n",
              "\n",
              "  <script>\n",
              "    async function quickchart(key) {\n",
              "      const quickchartButtonEl =\n",
              "        document.querySelector('#' + key + ' button');\n",
              "      quickchartButtonEl.disabled = true;  // To prevent multiple clicks.\n",
              "      quickchartButtonEl.classList.add('colab-df-spinner');\n",
              "      try {\n",
              "        const charts = await google.colab.kernel.invokeFunction(\n",
              "            'suggestCharts', [key], {});\n",
              "      } catch (error) {\n",
              "        console.error('Error during call to suggestCharts:', error);\n",
              "      }\n",
              "      quickchartButtonEl.classList.remove('colab-df-spinner');\n",
              "      quickchartButtonEl.classList.add('colab-df-quickchart-complete');\n",
              "    }\n",
              "    (() => {\n",
              "      let quickchartButtonEl =\n",
              "        document.querySelector('#df-8bb0306f-c4fb-4f4a-855f-37fdbeb52bbb button');\n",
              "      quickchartButtonEl.style.display =\n",
              "        google.colab.kernel.accessAllowed ? 'block' : 'none';\n",
              "    })();\n",
              "  </script>\n",
              "</div>\n",
              "    </div>\n",
              "  </div>\n"
            ]
          },
          "metadata": {},
          "execution_count": 95
        }
      ]
    },
    {
      "cell_type": "code",
      "source": [
        "primeros_clientes.mean()"
      ],
      "metadata": {
        "colab": {
          "base_uri": "https://localhost:8080/"
        },
        "id": "RLP9Hx6cpAfV",
        "outputId": "3b0966f9-20a2-498f-a825-8089d6bbe55b"
      },
      "execution_count": 96,
      "outputs": [
        {
          "output_type": "execute_result",
          "data": {
            "text/plain": [
              "Columna_Ordenada    37644.8875\n",
              "dtype: float64"
            ]
          },
          "metadata": {},
          "execution_count": 96
        }
      ]
    },
    {
      "cell_type": "code",
      "source": [
        "desviacion= np.std(res)"
      ],
      "metadata": {
        "id": "N-f4RK9moUCV"
      },
      "execution_count": 98,
      "outputs": []
    },
    {
      "cell_type": "code",
      "source": [
        "limite_sup= 37644.8875 + 2*desviacion\n",
        "limite_sup"
      ],
      "metadata": {
        "colab": {
          "base_uri": "https://localhost:8080/"
        },
        "id": "GOVNkSmdpVZp",
        "outputId": "f6ea8f77-85d3-41b6-bf81-d8ed9ab83bce"
      },
      "execution_count": 103,
      "outputs": [
        {
          "output_type": "execute_result",
          "data": {
            "text/plain": [
              "38835.387338177854"
            ]
          },
          "metadata": {},
          "execution_count": 103
        }
      ]
    },
    {
      "cell_type": "code",
      "source": [
        "limite_inf= 37644.8875 - 2*desviacion\n",
        "limite_inf"
      ],
      "metadata": {
        "colab": {
          "base_uri": "https://localhost:8080/"
        },
        "id": "x3m9XgwUpigv",
        "outputId": "6112399a-c5d8-44d4-f388-fcccec09c63a"
      },
      "execution_count": 101,
      "outputs": [
        {
          "output_type": "execute_result",
          "data": {
            "text/plain": [
              "36454.38766182214"
            ]
          },
          "metadata": {},
          "execution_count": 101
        }
      ]
    },
    {
      "cell_type": "markdown",
      "source": [
        "Con un intervalo de confianza del 95% obtuvimos como limite superior 38835.38 y limite inferior 36454.38. Cuando hacemos predicciones de compras, es normal tener cierta incertidumbre. El intervalo de confianza nos ayuda a cuantificar esa incertidumbre y proporciona un rango probable donde podríamos esperar que caigan las compras reales."
      ],
      "metadata": {
        "id": "5vv2nX3lowRG"
      }
    },
    {
      "cell_type": "markdown",
      "source": [
        "Para potenciar las compras de cada cliente, se aconseja la instauración de un programa de lealtad que premie la constancia, la adaptación de la experiencia de compra mediante el modelo diseñado para ofrecer sugerencias adaptadas, la emisión de ofertas exclusivas a través de diversos canales, la segmentación de clientes según sus comportamientos, la organización de eventos exclusivos, la obtención de retroalimentación mediante encuestas, la aplicación de programas de recomendación, la oferta de promociones particulares y el mantenimiento de una comunicación continua. Asimismo, se sugiere asegurar la satisfacción del cliente mediante políticas flexibles y ajustar estrategias en base a análisis constante. Estas iniciativas generarán un ambiente propicio para fortalecer la lealtad y la participación del cliente, incentivando así mayores niveles de compra."
      ],
      "metadata": {
        "id": "XzCrVVeFqXcA"
      }
    }
  ],
  "metadata": {
    "colab": {
      "provenance": []
    },
    "kernelspec": {
      "display_name": "Python 3",
      "name": "python3"
    },
    "language_info": {
      "name": "python"
    }
  },
  "nbformat": 4,
  "nbformat_minor": 0
}