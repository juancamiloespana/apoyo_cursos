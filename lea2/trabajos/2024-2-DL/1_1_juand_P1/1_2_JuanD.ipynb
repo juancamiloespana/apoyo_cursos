{
 "cells": [
  {
   "cell_type": "code",
   "execution_count": 100,
   "metadata": {},
   "outputs": [],
   "source": [
    "##librerías\n",
    "import numpy as np\n",
    "import pandas as pd\n",
    "from sklearn.model_selection import train_test_split\n",
    "from sklearn.preprocessing import StandardScaler\n",
    "from sklearn import metrics\n",
    "import tensorflow as tf \n",
    "from tensorflow import keras\n",
    "import keras_tuner as kt ### paquete para afinamiento \n",
    "import joblib\n",
    "import matplotlib.pyplot as plt\n",
    "import seaborn as sns\n",
    "\n",
    "##datos\n",
    "\n",
    "url='https://raw.githubusercontent.com/juancamiloespana/LEA2/master/_data/credit_card_clients2.csv'\n",
    "purchase=pd.read_csv(url)"
   ]
  },
  {
   "cell_type": "code",
   "execution_count": 85,
   "metadata": {},
   "outputs": [
    {
     "data": {
      "text/html": [
       "<pre style=\"white-space:pre;overflow-x:auto;line-height:normal;font-family:Menlo,'DejaVu Sans Mono',consolas,'Courier New',monospace\"><span style=\"font-weight: bold\">Model: \"sequential\"</span>\n",
       "</pre>\n"
      ],
      "text/plain": [
       "\u001b[1mModel: \"sequential\"\u001b[0m\n"
      ]
     },
     "metadata": {},
     "output_type": "display_data"
    },
    {
     "data": {
      "text/html": [
       "<pre style=\"white-space:pre;overflow-x:auto;line-height:normal;font-family:Menlo,'DejaVu Sans Mono',consolas,'Courier New',monospace\">┏━━━━━━━━━━━━━━━━━━━━━━━━━━━━━━━━━┳━━━━━━━━━━━━━━━━━━━━━━━━┳━━━━━━━━━━━━━━━┓\n",
       "┃<span style=\"font-weight: bold\"> Layer (type)                    </span>┃<span style=\"font-weight: bold\"> Output Shape           </span>┃<span style=\"font-weight: bold\">       Param # </span>┃\n",
       "┡━━━━━━━━━━━━━━━━━━━━━━━━━━━━━━━━━╇━━━━━━━━━━━━━━━━━━━━━━━━╇━━━━━━━━━━━━━━━┩\n",
       "│ dense (<span style=\"color: #0087ff; text-decoration-color: #0087ff\">Dense</span>)                   │ (<span style=\"color: #00d7ff; text-decoration-color: #00d7ff\">None</span>, <span style=\"color: #00af00; text-decoration-color: #00af00\">1024</span>)           │        <span style=\"color: #00af00; text-decoration-color: #00af00\">17,408</span> │\n",
       "├─────────────────────────────────┼────────────────────────┼───────────────┤\n",
       "│ dense_1 (<span style=\"color: #0087ff; text-decoration-color: #0087ff\">Dense</span>)                 │ (<span style=\"color: #00d7ff; text-decoration-color: #00d7ff\">None</span>, <span style=\"color: #00af00; text-decoration-color: #00af00\">512</span>)            │       <span style=\"color: #00af00; text-decoration-color: #00af00\">524,800</span> │\n",
       "├─────────────────────────────────┼────────────────────────┼───────────────┤\n",
       "│ dense_2 (<span style=\"color: #0087ff; text-decoration-color: #0087ff\">Dense</span>)                 │ (<span style=\"color: #00d7ff; text-decoration-color: #00d7ff\">None</span>, <span style=\"color: #00af00; text-decoration-color: #00af00\">256</span>)            │       <span style=\"color: #00af00; text-decoration-color: #00af00\">131,328</span> │\n",
       "├─────────────────────────────────┼────────────────────────┼───────────────┤\n",
       "│ dense_3 (<span style=\"color: #0087ff; text-decoration-color: #0087ff\">Dense</span>)                 │ (<span style=\"color: #00d7ff; text-decoration-color: #00d7ff\">None</span>, <span style=\"color: #00af00; text-decoration-color: #00af00\">128</span>)            │        <span style=\"color: #00af00; text-decoration-color: #00af00\">32,896</span> │\n",
       "├─────────────────────────────────┼────────────────────────┼───────────────┤\n",
       "│ dense_4 (<span style=\"color: #0087ff; text-decoration-color: #0087ff\">Dense</span>)                 │ (<span style=\"color: #00d7ff; text-decoration-color: #00d7ff\">None</span>, <span style=\"color: #00af00; text-decoration-color: #00af00\">64</span>)             │         <span style=\"color: #00af00; text-decoration-color: #00af00\">8,256</span> │\n",
       "├─────────────────────────────────┼────────────────────────┼───────────────┤\n",
       "│ dense_5 (<span style=\"color: #0087ff; text-decoration-color: #0087ff\">Dense</span>)                 │ (<span style=\"color: #00d7ff; text-decoration-color: #00d7ff\">None</span>, <span style=\"color: #00af00; text-decoration-color: #00af00\">32</span>)             │         <span style=\"color: #00af00; text-decoration-color: #00af00\">2,080</span> │\n",
       "├─────────────────────────────────┼────────────────────────┼───────────────┤\n",
       "│ dense_6 (<span style=\"color: #0087ff; text-decoration-color: #0087ff\">Dense</span>)                 │ (<span style=\"color: #00d7ff; text-decoration-color: #00d7ff\">None</span>, <span style=\"color: #00af00; text-decoration-color: #00af00\">16</span>)             │           <span style=\"color: #00af00; text-decoration-color: #00af00\">528</span> │\n",
       "├─────────────────────────────────┼────────────────────────┼───────────────┤\n",
       "│ dense_7 (<span style=\"color: #0087ff; text-decoration-color: #0087ff\">Dense</span>)                 │ (<span style=\"color: #00d7ff; text-decoration-color: #00d7ff\">None</span>, <span style=\"color: #00af00; text-decoration-color: #00af00\">8</span>)              │           <span style=\"color: #00af00; text-decoration-color: #00af00\">136</span> │\n",
       "├─────────────────────────────────┼────────────────────────┼───────────────┤\n",
       "│ dense_8 (<span style=\"color: #0087ff; text-decoration-color: #0087ff\">Dense</span>)                 │ (<span style=\"color: #00d7ff; text-decoration-color: #00d7ff\">None</span>, <span style=\"color: #00af00; text-decoration-color: #00af00\">4</span>)              │            <span style=\"color: #00af00; text-decoration-color: #00af00\">36</span> │\n",
       "├─────────────────────────────────┼────────────────────────┼───────────────┤\n",
       "│ dense_9 (<span style=\"color: #0087ff; text-decoration-color: #0087ff\">Dense</span>)                 │ (<span style=\"color: #00d7ff; text-decoration-color: #00d7ff\">None</span>, <span style=\"color: #00af00; text-decoration-color: #00af00\">1</span>)              │             <span style=\"color: #00af00; text-decoration-color: #00af00\">5</span> │\n",
       "└─────────────────────────────────┴────────────────────────┴───────────────┘\n",
       "</pre>\n"
      ],
      "text/plain": [
       "┏━━━━━━━━━━━━━━━━━━━━━━━━━━━━━━━━━┳━━━━━━━━━━━━━━━━━━━━━━━━┳━━━━━━━━━━━━━━━┓\n",
       "┃\u001b[1m \u001b[0m\u001b[1mLayer (type)                   \u001b[0m\u001b[1m \u001b[0m┃\u001b[1m \u001b[0m\u001b[1mOutput Shape          \u001b[0m\u001b[1m \u001b[0m┃\u001b[1m \u001b[0m\u001b[1m      Param #\u001b[0m\u001b[1m \u001b[0m┃\n",
       "┡━━━━━━━━━━━━━━━━━━━━━━━━━━━━━━━━━╇━━━━━━━━━━━━━━━━━━━━━━━━╇━━━━━━━━━━━━━━━┩\n",
       "│ dense (\u001b[38;5;33mDense\u001b[0m)                   │ (\u001b[38;5;45mNone\u001b[0m, \u001b[38;5;34m1024\u001b[0m)           │        \u001b[38;5;34m17,408\u001b[0m │\n",
       "├─────────────────────────────────┼────────────────────────┼───────────────┤\n",
       "│ dense_1 (\u001b[38;5;33mDense\u001b[0m)                 │ (\u001b[38;5;45mNone\u001b[0m, \u001b[38;5;34m512\u001b[0m)            │       \u001b[38;5;34m524,800\u001b[0m │\n",
       "├─────────────────────────────────┼────────────────────────┼───────────────┤\n",
       "│ dense_2 (\u001b[38;5;33mDense\u001b[0m)                 │ (\u001b[38;5;45mNone\u001b[0m, \u001b[38;5;34m256\u001b[0m)            │       \u001b[38;5;34m131,328\u001b[0m │\n",
       "├─────────────────────────────────┼────────────────────────┼───────────────┤\n",
       "│ dense_3 (\u001b[38;5;33mDense\u001b[0m)                 │ (\u001b[38;5;45mNone\u001b[0m, \u001b[38;5;34m128\u001b[0m)            │        \u001b[38;5;34m32,896\u001b[0m │\n",
       "├─────────────────────────────────┼────────────────────────┼───────────────┤\n",
       "│ dense_4 (\u001b[38;5;33mDense\u001b[0m)                 │ (\u001b[38;5;45mNone\u001b[0m, \u001b[38;5;34m64\u001b[0m)             │         \u001b[38;5;34m8,256\u001b[0m │\n",
       "├─────────────────────────────────┼────────────────────────┼───────────────┤\n",
       "│ dense_5 (\u001b[38;5;33mDense\u001b[0m)                 │ (\u001b[38;5;45mNone\u001b[0m, \u001b[38;5;34m32\u001b[0m)             │         \u001b[38;5;34m2,080\u001b[0m │\n",
       "├─────────────────────────────────┼────────────────────────┼───────────────┤\n",
       "│ dense_6 (\u001b[38;5;33mDense\u001b[0m)                 │ (\u001b[38;5;45mNone\u001b[0m, \u001b[38;5;34m16\u001b[0m)             │           \u001b[38;5;34m528\u001b[0m │\n",
       "├─────────────────────────────────┼────────────────────────┼───────────────┤\n",
       "│ dense_7 (\u001b[38;5;33mDense\u001b[0m)                 │ (\u001b[38;5;45mNone\u001b[0m, \u001b[38;5;34m8\u001b[0m)              │           \u001b[38;5;34m136\u001b[0m │\n",
       "├─────────────────────────────────┼────────────────────────┼───────────────┤\n",
       "│ dense_8 (\u001b[38;5;33mDense\u001b[0m)                 │ (\u001b[38;5;45mNone\u001b[0m, \u001b[38;5;34m4\u001b[0m)              │            \u001b[38;5;34m36\u001b[0m │\n",
       "├─────────────────────────────────┼────────────────────────┼───────────────┤\n",
       "│ dense_9 (\u001b[38;5;33mDense\u001b[0m)                 │ (\u001b[38;5;45mNone\u001b[0m, \u001b[38;5;34m1\u001b[0m)              │             \u001b[38;5;34m5\u001b[0m │\n",
       "└─────────────────────────────────┴────────────────────────┴───────────────┘\n"
      ]
     },
     "metadata": {},
     "output_type": "display_data"
    },
    {
     "data": {
      "text/html": [
       "<pre style=\"white-space:pre;overflow-x:auto;line-height:normal;font-family:Menlo,'DejaVu Sans Mono',consolas,'Courier New',monospace\"><span style=\"font-weight: bold\"> Total params: </span><span style=\"color: #00af00; text-decoration-color: #00af00\">1,434,948</span> (5.47 MB)\n",
       "</pre>\n"
      ],
      "text/plain": [
       "\u001b[1m Total params: \u001b[0m\u001b[38;5;34m1,434,948\u001b[0m (5.47 MB)\n"
      ]
     },
     "metadata": {},
     "output_type": "display_data"
    },
    {
     "data": {
      "text/html": [
       "<pre style=\"white-space:pre;overflow-x:auto;line-height:normal;font-family:Menlo,'DejaVu Sans Mono',consolas,'Courier New',monospace\"><span style=\"font-weight: bold\"> Trainable params: </span><span style=\"color: #00af00; text-decoration-color: #00af00\">717,473</span> (2.74 MB)\n",
       "</pre>\n"
      ],
      "text/plain": [
       "\u001b[1m Trainable params: \u001b[0m\u001b[38;5;34m717,473\u001b[0m (2.74 MB)\n"
      ]
     },
     "metadata": {},
     "output_type": "display_data"
    },
    {
     "data": {
      "text/html": [
       "<pre style=\"white-space:pre;overflow-x:auto;line-height:normal;font-family:Menlo,'DejaVu Sans Mono',consolas,'Courier New',monospace\"><span style=\"font-weight: bold\"> Non-trainable params: </span><span style=\"color: #00af00; text-decoration-color: #00af00\">0</span> (0.00 B)\n",
       "</pre>\n"
      ],
      "text/plain": [
       "\u001b[1m Non-trainable params: \u001b[0m\u001b[38;5;34m0\u001b[0m (0.00 B)\n"
      ]
     },
     "metadata": {},
     "output_type": "display_data"
    },
    {
     "data": {
      "text/html": [
       "<pre style=\"white-space:pre;overflow-x:auto;line-height:normal;font-family:Menlo,'DejaVu Sans Mono',consolas,'Courier New',monospace\"><span style=\"font-weight: bold\"> Optimizer params: </span><span style=\"color: #00af00; text-decoration-color: #00af00\">717,475</span> (2.74 MB)\n",
       "</pre>\n"
      ],
      "text/plain": [
       "\u001b[1m Optimizer params: \u001b[0m\u001b[38;5;34m717,475\u001b[0m (2.74 MB)\n"
      ]
     },
     "metadata": {},
     "output_type": "display_data"
    }
   ],
   "source": [
    "# cargar escalador\n",
    "escalador=joblib.load('escalador_purchases')\n",
    "\n",
    "# cargar modelo\n",
    "model=keras.models.load_model('NN_PURCHASES.keras')\n",
    "model.summary()\n",
    "\n",
    "# cargar datos de entrenamiento y testeo\n",
    "\n",
    "X_tr=joblib.load('X_tr_scaled')\n",
    "X_te=joblib.load('X_te_scaled')\n",
    "y_tr=joblib.load('y_tr')\n",
    "y_te=joblib.load('y_te')"
   ]
  },
  {
   "cell_type": "markdown",
   "metadata": {},
   "source": [
    "**Análisis del error**"
   ]
  },
  {
   "cell_type": "code",
   "execution_count": 108,
   "metadata": {},
   "outputs": [
    {
     "name": "stdout",
     "output_type": "stream",
     "text": [
      "\u001b[1m56/56\u001b[0m \u001b[32m━━━━━━━━━━━━━━━━━━━━\u001b[0m\u001b[37m\u001b[0m \u001b[1m0s\u001b[0m 4ms/step\n",
      "\u001b[1m224/224\u001b[0m \u001b[32m━━━━━━━━━━━━━━━━━━━━\u001b[0m\u001b[37m\u001b[0m \u001b[1m1s\u001b[0m 3ms/step\n",
      "MAE en el conjunto de entrenamiento: 1015.0911286082347\n",
      "MAE en el conjunto de evaluación: 984.5656900068742\n"
     ]
    }
   ],
   "source": [
    "# Realizar predicciones en datos de entrenamiento y testeo\n",
    "y_pred = model.predict(X_te)\n",
    "y_pred_train = model.predict(X_tr)\n",
    "\n",
    "# Calcular el Error Medio Absoluto (MAE)\n",
    "mae1 = metrics.mean_absolute_error(y_pred, y_te)\n",
    "mae2 = metrics.mean_absolute_error(y_pred_train, y_tr)\n",
    "\n",
    "print(f'MAE en el conjunto de entrenamiento: {mae2}')\n",
    "print(f'MAE en el conjunto de evaluación: {mae1}')"
   ]
  },
  {
   "cell_type": "markdown",
   "metadata": {},
   "source": [
    "La diferencia entre las métricas de evaluación en el conjunto de evaluación y el conjunto de entrenamiento es que el MAE en el conjunto de entrenamiento es ligeramente mayor que el del evaluación. Esto podría indicar que el modelo está subajustado los datos de entrenamiento. En general el modelo tiene dificultades para ajustarse adecuadamente a los datos de entrenamiento lo que puede ser debido a que le falta la capacidad de generalizar."
   ]
  },
  {
   "cell_type": "code",
   "execution_count": 109,
   "metadata": {},
   "outputs": [],
   "source": [
    "# Calculo del error\n",
    "\n",
    "errores_test = np.array(y_te) - y_pred\n",
    "\n",
    "errores_train = np.array(y_tr) - y_pred_train"
   ]
  },
  {
   "cell_type": "code",
   "execution_count": 110,
   "metadata": {},
   "outputs": [
    {
     "data": {
      "image/png": "[encoded data removed]",
      "text/plain": [
       "<Figure size 640x480 with 1 Axes>"
      ]
     },
     "metadata": {},
     "output_type": "display_data"
    },
    {
     "data": {
      "image/png": "[encoded data removed]",
      "text/plain": [
       "<Figure size 640x480 with 1 Axes>"
      ]
     },
     "metadata": {},
     "output_type": "display_data"
    }
   ],
   "source": [
    "# Distribución del error de testeo\n",
    "\n",
    "plt.hist(errores_test.tolist()[0], bins=20)\n",
    "plt.xlabel('Error')\n",
    "plt.ylabel('Frecuencia')\n",
    "plt.title('Distribución del error de prediccion')\n",
    "plt.show()\n",
    "\n",
    "# Distribución del error de entrenamiento\n",
    "\n",
    "plt.hist(errores_train.tolist()[0], bins=20)\n",
    "plt.xlabel('Error')\n",
    "plt.ylabel('Frecuencia')\n",
    "plt.title('Distribución del error de prediccion')\n",
    "plt.show()"
   ]
  },
  {
   "cell_type": "code",
   "execution_count": 89,
   "metadata": {},
   "outputs": [
    {
     "data": {
      "text/plain": [
       "array([831.3315], dtype=float32)"
      ]
     },
     "execution_count": 89,
     "metadata": {},
     "output_type": "execute_result"
    }
   ],
   "source": [
    "np.unique(y_pred)"
   ]
  },
  {
   "cell_type": "code",
   "execution_count": 112,
   "metadata": {},
   "outputs": [
    {
     "name": "stdout",
     "output_type": "stream",
     "text": [
      "Testo\n",
      "Cuantil 25%: -789.4489819335938\n",
      "Cuantil 50%: -461.65148193359374\n",
      "Cuantil 75%: 248.66851806640625\n",
      "\n",
      "Entrenamiento\n",
      "Cuantil 25%: -791.7614819335937\n",
      "Cuantil 50%: -471.33148193359375\n",
      "Cuantil 75%: 292.5810180664062\n"
     ]
    }
   ],
   "source": [
    "# Calculo de cuantiles de errores testeo\n",
    "print('Testo')\n",
    "cuantiles =  [0.25, 0.5, 0.75]\n",
    "quantiles = np.quantile(errores_test.tolist()[0], cuantiles)\n",
    "for i in range(len(cuantiles)):\n",
    "    print(f'Cuantil {int(cuantiles[i]*100)}%: {quantiles[i]}')\n",
    "\n",
    "print('\\nEntrenamiento')\n",
    "# Calculo de cuantiles de errores entrenamiento\n",
    "cuantiles =  [0.25, 0.5, 0.75]\n",
    "quantiles = np.quantile(errores_train.tolist()[0], cuantiles)\n",
    "for i in range(len(cuantiles)):\n",
    "    print(f'Cuantil {int(cuantiles[i]*100)}%: {quantiles[i]}')"
   ]
  },
  {
   "cell_type": "markdown",
   "metadata": {},
   "source": [
    "Como se observa en el histogramas tenemos errores de predicción y hay una gran mayoría que son inferiores a 0, menos del 50% de estos están por encima de 0 por lo tanto, se concluye que el modelo está subestimando las predicciones. La anterior idea es reforzada por el cáculo de los cuantiles ya que se observa que el 50% de los errores está por debajo de -471,331 tanto en testeo como en entrenamiento. Así qué, más del 50% de estos son negativos. "
   ]
  },
  {
   "cell_type": "markdown",
   "metadata": {},
   "source": [
    "**Nuevas predicciones**"
   ]
  },
  {
   "cell_type": "code",
   "execution_count": 91,
   "metadata": {},
   "outputs": [
    {
     "name": "stdout",
     "output_type": "stream",
     "text": [
      "\u001b[1m280/280\u001b[0m \u001b[32m━━━━━━━━━━━━━━━━━━━━\u001b[0m\u001b[37m\u001b[0m \u001b[1m1s\u001b[0m 4ms/step\n"
     ]
    }
   ],
   "source": [
    "# Eliminar variables no utiles para el modelo\n",
    "X = purchase.drop('CUST_ID', axis = 1)\n",
    "# Escalar las variables\n",
    "X = escalador.transform(X)\n",
    "# Predecir\n",
    "y_pred_test = model.predict(X)"
   ]
  },
  {
   "cell_type": "markdown",
   "metadata": {},
   "source": [
    "Se calcularán los intervalos y la estructura lógica de los 10 usuarios que tienen mayores compras y los 10 que tengan menos (Aunque sabemos que retornará valores iguales ya que las predicciones de la red son una constante)"
   ]
  },
  {
   "cell_type": "code",
   "execution_count": 114,
   "metadata": {},
   "outputs": [
    {
     "name": "stdout",
     "output_type": "stream",
     "text": [
      "10 usuarios que tienen mayores compras\n",
      "0 : [831.3314819335938]\n",
      "1 : [831.3314819335938]\n",
      "2 : [831.3314819335938]\n",
      "3 : [831.3314819335938]\n",
      "4 : [831.3314819335938]\n",
      "5 : [831.3314819335938]\n",
      "6 : [831.3314819335938]\n",
      "7 : [831.3314819335938]\n",
      "8 : [831.3314819335938]\n",
      "9 : [831.3314819335938]\n",
      "10 usuarios que tienen menores compras\n",
      "8940 : [831.3314819335938]\n",
      "8941 : [831.3314819335938]\n",
      "8942 : [831.3314819335938]\n",
      "8943 : [831.3314819335938]\n",
      "8944 : [831.3314819335938]\n",
      "8945 : [831.3314819335938]\n",
      "8946 : [831.3314819335938]\n",
      "8947 : [831.3314819335938]\n",
      "8948 : [831.3314819335938]\n",
      "8949 : [831.3314819335938]\n"
     ]
    }
   ],
   "source": [
    "dic = {i:y_pred_test.tolist()[i] for i in range(len(y_pred_test))}\n",
    "dic_sorted = dict(sorted(dic.items(), key=lambda x: x[1]))\n",
    "\n",
    "print(\"10 usuarios que tienen mayores compras\")\n",
    "for key in list(dic_sorted.keys())[:10]:\n",
    "    print(key, \":\", dic[key])\n",
    "\n",
    "print(\"10 usuarios que tienen menores compras\")\n",
    "for key in list(dic_sorted.keys())[-10:]:\n",
    "    print(key, \":\", dic[key])\n"
   ]
  },
  {
   "cell_type": "markdown",
   "metadata": {},
   "source": [
    "Como era de esperarse los que tienen mayores compras o menores, son los 10 primeros y los 10 últimos"
   ]
  },
  {
   "cell_type": "markdown",
   "metadata": {},
   "source": [
    "**Intervalos de confianza**"
   ]
  },
  {
   "cell_type": "code",
   "execution_count": null,
   "metadata": {},
   "outputs": [],
   "source": [
    "# Cuantiles del 20 y 80\n",
    "\n",
    "sd_inf = np.quantile(errores_test, 0.1)\n",
    "sd_sup = np.quantile(errores_test, 0.9)\n",
    "\n",
    "inter_inf = y_pred_test + sd_inf\n",
    "inter_sup = y_pred_test + sd_sup"
   ]
  },
  {
   "cell_type": "code",
   "execution_count": 143,
   "metadata": {},
   "outputs": [
    {
     "data": {
      "text/html": [
       "<div>\n",
       "<style scoped>\n",
       "    .dataframe tbody tr th:only-of-type {\n",
       "        vertical-align: middle;\n",
       "    }\n",
       "\n",
       "    .dataframe tbody tr th {\n",
       "        vertical-align: top;\n",
       "    }\n",
       "\n",
       "    .dataframe thead th {\n",
       "        text-align: right;\n",
       "    }\n",
       "</style>\n",
       "<table border=\"1\" class=\"dataframe\">\n",
       "  <thead>\n",
       "    <tr style=\"text-align: right;\">\n",
       "      <th></th>\n",
       "      <th>inferior</th>\n",
       "      <th>ajuste</th>\n",
       "      <th>superior</th>\n",
       "    </tr>\n",
       "  </thead>\n",
       "  <tbody>\n",
       "    <tr>\n",
       "      <th>0</th>\n",
       "      <td>[0.0]</td>\n",
       "      <td>[831.3314819335938]</td>\n",
       "      <td>[2464.533935546875]</td>\n",
       "    </tr>\n",
       "    <tr>\n",
       "      <th>1</th>\n",
       "      <td>[0.0]</td>\n",
       "      <td>[831.3314819335938]</td>\n",
       "      <td>[2464.533935546875]</td>\n",
       "    </tr>\n",
       "    <tr>\n",
       "      <th>2</th>\n",
       "      <td>[0.0]</td>\n",
       "      <td>[831.3314819335938]</td>\n",
       "      <td>[2464.533935546875]</td>\n",
       "    </tr>\n",
       "    <tr>\n",
       "      <th>3</th>\n",
       "      <td>[0.0]</td>\n",
       "      <td>[831.3314819335938]</td>\n",
       "      <td>[2464.533935546875]</td>\n",
       "    </tr>\n",
       "    <tr>\n",
       "      <th>4</th>\n",
       "      <td>[0.0]</td>\n",
       "      <td>[831.3314819335938]</td>\n",
       "      <td>[2464.533935546875]</td>\n",
       "    </tr>\n",
       "    <tr>\n",
       "      <th>5</th>\n",
       "      <td>[0.0]</td>\n",
       "      <td>[831.3314819335938]</td>\n",
       "      <td>[2464.533935546875]</td>\n",
       "    </tr>\n",
       "    <tr>\n",
       "      <th>6</th>\n",
       "      <td>[0.0]</td>\n",
       "      <td>[831.3314819335938]</td>\n",
       "      <td>[2464.533935546875]</td>\n",
       "    </tr>\n",
       "    <tr>\n",
       "      <th>7</th>\n",
       "      <td>[0.0]</td>\n",
       "      <td>[831.3314819335938]</td>\n",
       "      <td>[2464.533935546875]</td>\n",
       "    </tr>\n",
       "    <tr>\n",
       "      <th>8</th>\n",
       "      <td>[0.0]</td>\n",
       "      <td>[831.3314819335938]</td>\n",
       "      <td>[2464.533935546875]</td>\n",
       "    </tr>\n",
       "    <tr>\n",
       "      <th>9</th>\n",
       "      <td>[0.0]</td>\n",
       "      <td>[831.3314819335938]</td>\n",
       "      <td>[2464.533935546875]</td>\n",
       "    </tr>\n",
       "  </tbody>\n",
       "</table>\n",
       "</div>"
      ],
      "text/plain": [
       "  inferior               ajuste             superior\n",
       "0    [0.0]  [831.3314819335938]  [2464.533935546875]\n",
       "1    [0.0]  [831.3314819335938]  [2464.533935546875]\n",
       "2    [0.0]  [831.3314819335938]  [2464.533935546875]\n",
       "3    [0.0]  [831.3314819335938]  [2464.533935546875]\n",
       "4    [0.0]  [831.3314819335938]  [2464.533935546875]\n",
       "5    [0.0]  [831.3314819335938]  [2464.533935546875]\n",
       "6    [0.0]  [831.3314819335938]  [2464.533935546875]\n",
       "7    [0.0]  [831.3314819335938]  [2464.533935546875]\n",
       "8    [0.0]  [831.3314819335938]  [2464.533935546875]\n",
       "9    [0.0]  [831.3314819335938]  [2464.533935546875]"
      ]
     },
     "execution_count": 143,
     "metadata": {},
     "output_type": "execute_result"
    }
   ],
   "source": [
    "predict_intervalos = pd.DataFrame()\n",
    "predict_intervalos['inferior'] = inter_inf.tolist()\n",
    "predict_intervalos['ajuste'] = y_pred_test.tolist()\n",
    "predict_intervalos['superior'] = inter_sup.tolist()\n",
    "\n",
    "predict_intervalos.head(10)"
   ]
  },
  {
   "cell_type": "markdown",
   "metadata": {},
   "source": [
    "Estrategias para fidelizar clientes con muchas compras: \n",
    "- Ofrecer programas de fidelización que recompensen a los clientes por su lealtad y volumen de compras y personalizar las recompensas basándose en las preferencias y el historial de compras del cliente.\n",
    "\n",
    "- Implementar un programa de fidelización por medio del cashback, teniendo en cuenta que son clientes que están usualmente haciendo compras por un ticket alto. Por comprar superiores a X cantidad de dinero, se le hará el retorno de Y% del efectivo al cliente. \n",
    "\n",
    "- Implementar programas de acumulación de puntos y rendención de los mismos por productos seleccionados o tarjetas redimibles. Este insentivo puede lograr aumentar la recompra por cliente y aumentar el ticket promedio de la compra en sí. \n",
    "\n",
    "- Ofrecer una comunicación personalizada y una experiencia de atención al cliente excepcional a través de diferentes canales para informar de ofertas, promociones o eventos exclusivos.\n",
    "\n",
    "- Ofrecer servicios de atención prioritarios para resolvar cualquier problema o consulta que puedan tener de manera eficiente."
   ]
  },
  {
   "cell_type": "markdown",
   "metadata": {},
   "source": [
    "Estrategias para activar clientes que están usando muy poco las tarjetas.\n",
    "\n",
    "- Enviar ofertas y promociones especiales para incentivar el uso de la tarjeta y aumentar sus compras.\n",
    "\n",
    "- Proporcionar promociones temporales como descuentos del 10% en la próxima compra si usan la tarjeta en el próximo mes.\n",
    "\n",
    "- Crear asociaciones con otras marcas y empresas para ofrecer descuentos y beneficios adicionales cuando se use la tarjeta en esos lugares.\n",
    "\n",
    "- Ofrecer beneficios especiales por la reactivación de la tarjeta, como recompensas inmediatas.\n",
    "\n",
    "- Hacer campañas de marketing específicas dirigidas a clientes inactivos o pasivos para recordarles la marca, productos o servicios cómo tal.\n"
   ]
  }
 ],
 "metadata": {
  "kernelspec": {
   "display_name": "Python 3",
   "language": "python",
   "name": "python3"
  },
  "language_info": {
   "codemirror_mode": {
    "name": "ipython",
    "version": 3
   },
   "file_extension": ".py",
   "mimetype": "text/x-python",
   "name": "python",
   "nbconvert_exporter": "python",
   "pygments_lexer": "ipython3",
   "version": "3.12.3"
  }
 },
 "nbformat": 4,
 "nbformat_minor": 2
}
