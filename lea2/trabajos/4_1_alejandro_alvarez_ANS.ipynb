{
 "cells": [
  {
   "cell_type": "markdown",
   "metadata": {},
   "source": [
    "Equipo 4\n",
    "Estefania Puerta Dussan\n",
    "Valentina Gomez\n",
    "Alejandro Álvarez"
   ]
  },
  {
   "cell_type": "markdown",
   "metadata": {},
   "source": [
    "Se importan las librerías necesarias para la reducción de dimensionalidad y para el cluster"
   ]
  },
  {
   "cell_type": "code",
   "execution_count": 1,
   "metadata": {},
   "outputs": [],
   "source": [
    "import seaborn as sns\n",
    "from sklearn import cluster\n",
    "import pandas as pd\n",
    "import numpy as np\n",
    "import matplotlib.pyplot as plt\n",
    "from sklearn.preprocessing import StandardScaler\n",
    "from sklearn.metrics import silhouette_score\n",
    "from kneed import KneeLocator\n",
    "from clusteval import clusteval\n",
    "from sklearn.decomposition import PCA\n",
    "from sklearn.preprocessing import StandardScaler\n",
    "from factor_analyzer import FactorAnalyzer"
   ]
  },
  {
   "cell_type": "markdown",
   "metadata": {},
   "source": [
    "Se carga la base de datos \"Credit card clients\""
   ]
  },
  {
   "cell_type": "code",
   "execution_count": 11,
   "metadata": {},
   "outputs": [
    {
     "data": {
      "text/html": [
       "<div>\n",
       "<style scoped>\n",
       "    .dataframe tbody tr th:only-of-type {\n",
       "        vertical-align: middle;\n",
       "    }\n",
       "\n",
       "    .dataframe tbody tr th {\n",
       "        vertical-align: top;\n",
       "    }\n",
       "\n",
       "    .dataframe thead th {\n",
       "        text-align: right;\n",
       "    }\n",
       "</style>\n",
       "<table border=\"1\" class=\"dataframe\">\n",
       "  <thead>\n",
       "    <tr style=\"text-align: right;\">\n",
       "      <th></th>\n",
       "      <th>CUST_ID</th>\n",
       "      <th>BALANCE</th>\n",
       "      <th>BALANCE_FREQUENCY</th>\n",
       "      <th>PURCHASES</th>\n",
       "      <th>ONEOFF_PURCHASES</th>\n",
       "      <th>INSTALLMENTS_PURCHASES</th>\n",
       "      <th>CASH_ADVANCE</th>\n",
       "      <th>PURCHASES_FREQUENCY</th>\n",
       "      <th>ONEOFF_PURCHASES_FREQUENCY</th>\n",
       "      <th>PURCHASES_INSTALLMENTS_FREQUENCY</th>\n",
       "      <th>CASH_ADVANCE_FREQUENCY</th>\n",
       "      <th>CASH_ADVANCE_TRX</th>\n",
       "      <th>PURCHASES_TRX</th>\n",
       "      <th>CREDIT_LIMIT</th>\n",
       "      <th>PAYMENTS</th>\n",
       "      <th>MINIMUM_PAYMENTS</th>\n",
       "      <th>PRC_FULL_PAYMENT</th>\n",
       "      <th>TENURE</th>\n",
       "    </tr>\n",
       "  </thead>\n",
       "  <tbody>\n",
       "    <tr>\n",
       "      <th>0</th>\n",
       "      <td>C10001</td>\n",
       "      <td>40.900749</td>\n",
       "      <td>0.818182</td>\n",
       "      <td>95.40</td>\n",
       "      <td>0.00</td>\n",
       "      <td>95.40</td>\n",
       "      <td>0.000000</td>\n",
       "      <td>0.166667</td>\n",
       "      <td>0.000000</td>\n",
       "      <td>0.083333</td>\n",
       "      <td>0.000000</td>\n",
       "      <td>0</td>\n",
       "      <td>2</td>\n",
       "      <td>1000.0</td>\n",
       "      <td>201.802084</td>\n",
       "      <td>139.509787</td>\n",
       "      <td>0.000000</td>\n",
       "      <td>12</td>\n",
       "    </tr>\n",
       "    <tr>\n",
       "      <th>1</th>\n",
       "      <td>C10002</td>\n",
       "      <td>3202.467416</td>\n",
       "      <td>0.909091</td>\n",
       "      <td>0.00</td>\n",
       "      <td>0.00</td>\n",
       "      <td>0.00</td>\n",
       "      <td>6442.945483</td>\n",
       "      <td>0.000000</td>\n",
       "      <td>0.000000</td>\n",
       "      <td>0.000000</td>\n",
       "      <td>0.250000</td>\n",
       "      <td>4</td>\n",
       "      <td>0</td>\n",
       "      <td>7000.0</td>\n",
       "      <td>4103.032597</td>\n",
       "      <td>1072.340217</td>\n",
       "      <td>0.222222</td>\n",
       "      <td>12</td>\n",
       "    </tr>\n",
       "    <tr>\n",
       "      <th>2</th>\n",
       "      <td>C10003</td>\n",
       "      <td>2495.148862</td>\n",
       "      <td>1.000000</td>\n",
       "      <td>773.17</td>\n",
       "      <td>773.17</td>\n",
       "      <td>0.00</td>\n",
       "      <td>0.000000</td>\n",
       "      <td>1.000000</td>\n",
       "      <td>1.000000</td>\n",
       "      <td>0.000000</td>\n",
       "      <td>0.000000</td>\n",
       "      <td>0</td>\n",
       "      <td>12</td>\n",
       "      <td>7500.0</td>\n",
       "      <td>622.066742</td>\n",
       "      <td>627.284787</td>\n",
       "      <td>0.000000</td>\n",
       "      <td>12</td>\n",
       "    </tr>\n",
       "    <tr>\n",
       "      <th>3</th>\n",
       "      <td>C10004</td>\n",
       "      <td>1666.670542</td>\n",
       "      <td>0.636364</td>\n",
       "      <td>1499.00</td>\n",
       "      <td>1499.00</td>\n",
       "      <td>0.00</td>\n",
       "      <td>205.788017</td>\n",
       "      <td>0.083333</td>\n",
       "      <td>0.083333</td>\n",
       "      <td>0.000000</td>\n",
       "      <td>0.083333</td>\n",
       "      <td>1</td>\n",
       "      <td>1</td>\n",
       "      <td>7500.0</td>\n",
       "      <td>0.000000</td>\n",
       "      <td>NaN</td>\n",
       "      <td>0.000000</td>\n",
       "      <td>12</td>\n",
       "    </tr>\n",
       "    <tr>\n",
       "      <th>4</th>\n",
       "      <td>C10005</td>\n",
       "      <td>817.714335</td>\n",
       "      <td>1.000000</td>\n",
       "      <td>16.00</td>\n",
       "      <td>16.00</td>\n",
       "      <td>0.00</td>\n",
       "      <td>0.000000</td>\n",
       "      <td>0.083333</td>\n",
       "      <td>0.083333</td>\n",
       "      <td>0.000000</td>\n",
       "      <td>0.000000</td>\n",
       "      <td>0</td>\n",
       "      <td>1</td>\n",
       "      <td>1200.0</td>\n",
       "      <td>678.334763</td>\n",
       "      <td>244.791237</td>\n",
       "      <td>0.000000</td>\n",
       "      <td>12</td>\n",
       "    </tr>\n",
       "    <tr>\n",
       "      <th>...</th>\n",
       "      <td>...</td>\n",
       "      <td>...</td>\n",
       "      <td>...</td>\n",
       "      <td>...</td>\n",
       "      <td>...</td>\n",
       "      <td>...</td>\n",
       "      <td>...</td>\n",
       "      <td>...</td>\n",
       "      <td>...</td>\n",
       "      <td>...</td>\n",
       "      <td>...</td>\n",
       "      <td>...</td>\n",
       "      <td>...</td>\n",
       "      <td>...</td>\n",
       "      <td>...</td>\n",
       "      <td>...</td>\n",
       "      <td>...</td>\n",
       "      <td>...</td>\n",
       "    </tr>\n",
       "    <tr>\n",
       "      <th>8945</th>\n",
       "      <td>C19186</td>\n",
       "      <td>28.493517</td>\n",
       "      <td>1.000000</td>\n",
       "      <td>291.12</td>\n",
       "      <td>0.00</td>\n",
       "      <td>291.12</td>\n",
       "      <td>0.000000</td>\n",
       "      <td>1.000000</td>\n",
       "      <td>0.000000</td>\n",
       "      <td>0.833333</td>\n",
       "      <td>0.000000</td>\n",
       "      <td>0</td>\n",
       "      <td>6</td>\n",
       "      <td>1000.0</td>\n",
       "      <td>325.594462</td>\n",
       "      <td>48.886365</td>\n",
       "      <td>0.500000</td>\n",
       "      <td>6</td>\n",
       "    </tr>\n",
       "    <tr>\n",
       "      <th>8946</th>\n",
       "      <td>C19187</td>\n",
       "      <td>19.183215</td>\n",
       "      <td>1.000000</td>\n",
       "      <td>300.00</td>\n",
       "      <td>0.00</td>\n",
       "      <td>300.00</td>\n",
       "      <td>0.000000</td>\n",
       "      <td>1.000000</td>\n",
       "      <td>0.000000</td>\n",
       "      <td>0.833333</td>\n",
       "      <td>0.000000</td>\n",
       "      <td>0</td>\n",
       "      <td>6</td>\n",
       "      <td>1000.0</td>\n",
       "      <td>275.861322</td>\n",
       "      <td>NaN</td>\n",
       "      <td>0.000000</td>\n",
       "      <td>6</td>\n",
       "    </tr>\n",
       "    <tr>\n",
       "      <th>8947</th>\n",
       "      <td>C19188</td>\n",
       "      <td>23.398673</td>\n",
       "      <td>0.833333</td>\n",
       "      <td>144.40</td>\n",
       "      <td>0.00</td>\n",
       "      <td>144.40</td>\n",
       "      <td>0.000000</td>\n",
       "      <td>0.833333</td>\n",
       "      <td>0.000000</td>\n",
       "      <td>0.666667</td>\n",
       "      <td>0.000000</td>\n",
       "      <td>0</td>\n",
       "      <td>5</td>\n",
       "      <td>1000.0</td>\n",
       "      <td>81.270775</td>\n",
       "      <td>82.418369</td>\n",
       "      <td>0.250000</td>\n",
       "      <td>6</td>\n",
       "    </tr>\n",
       "    <tr>\n",
       "      <th>8948</th>\n",
       "      <td>C19189</td>\n",
       "      <td>13.457564</td>\n",
       "      <td>0.833333</td>\n",
       "      <td>0.00</td>\n",
       "      <td>0.00</td>\n",
       "      <td>0.00</td>\n",
       "      <td>36.558778</td>\n",
       "      <td>0.000000</td>\n",
       "      <td>0.000000</td>\n",
       "      <td>0.000000</td>\n",
       "      <td>0.166667</td>\n",
       "      <td>2</td>\n",
       "      <td>0</td>\n",
       "      <td>500.0</td>\n",
       "      <td>52.549959</td>\n",
       "      <td>55.755628</td>\n",
       "      <td>0.250000</td>\n",
       "      <td>6</td>\n",
       "    </tr>\n",
       "    <tr>\n",
       "      <th>8949</th>\n",
       "      <td>C19190</td>\n",
       "      <td>372.708075</td>\n",
       "      <td>0.666667</td>\n",
       "      <td>1093.25</td>\n",
       "      <td>1093.25</td>\n",
       "      <td>0.00</td>\n",
       "      <td>127.040008</td>\n",
       "      <td>0.666667</td>\n",
       "      <td>0.666667</td>\n",
       "      <td>0.000000</td>\n",
       "      <td>0.333333</td>\n",
       "      <td>2</td>\n",
       "      <td>23</td>\n",
       "      <td>1200.0</td>\n",
       "      <td>63.165404</td>\n",
       "      <td>88.288956</td>\n",
       "      <td>0.000000</td>\n",
       "      <td>6</td>\n",
       "    </tr>\n",
       "  </tbody>\n",
       "</table>\n",
       "<p>8950 rows × 18 columns</p>\n",
       "</div>"
      ],
      "text/plain": [
       "     CUST_ID      BALANCE  BALANCE_FREQUENCY  PURCHASES  ONEOFF_PURCHASES  \\\n",
       "0     C10001    40.900749           0.818182      95.40              0.00   \n",
       "1     C10002  3202.467416           0.909091       0.00              0.00   \n",
       "2     C10003  2495.148862           1.000000     773.17            773.17   \n",
       "3     C10004  1666.670542           0.636364    1499.00           1499.00   \n",
       "4     C10005   817.714335           1.000000      16.00             16.00   \n",
       "...      ...          ...                ...        ...               ...   \n",
       "8945  C19186    28.493517           1.000000     291.12              0.00   \n",
       "8946  C19187    19.183215           1.000000     300.00              0.00   \n",
       "8947  C19188    23.398673           0.833333     144.40              0.00   \n",
       "8948  C19189    13.457564           0.833333       0.00              0.00   \n",
       "8949  C19190   372.708075           0.666667    1093.25           1093.25   \n",
       "\n",
       "      INSTALLMENTS_PURCHASES  CASH_ADVANCE  PURCHASES_FREQUENCY  \\\n",
       "0                      95.40      0.000000             0.166667   \n",
       "1                       0.00   6442.945483             0.000000   \n",
       "2                       0.00      0.000000             1.000000   \n",
       "3                       0.00    205.788017             0.083333   \n",
       "4                       0.00      0.000000             0.083333   \n",
       "...                      ...           ...                  ...   \n",
       "8945                  291.12      0.000000             1.000000   \n",
       "8946                  300.00      0.000000             1.000000   \n",
       "8947                  144.40      0.000000             0.833333   \n",
       "8948                    0.00     36.558778             0.000000   \n",
       "8949                    0.00    127.040008             0.666667   \n",
       "\n",
       "      ONEOFF_PURCHASES_FREQUENCY  PURCHASES_INSTALLMENTS_FREQUENCY  \\\n",
       "0                       0.000000                          0.083333   \n",
       "1                       0.000000                          0.000000   \n",
       "2                       1.000000                          0.000000   \n",
       "3                       0.083333                          0.000000   \n",
       "4                       0.083333                          0.000000   \n",
       "...                          ...                               ...   \n",
       "8945                    0.000000                          0.833333   \n",
       "8946                    0.000000                          0.833333   \n",
       "8947                    0.000000                          0.666667   \n",
       "8948                    0.000000                          0.000000   \n",
       "8949                    0.666667                          0.000000   \n",
       "\n",
       "      CASH_ADVANCE_FREQUENCY  CASH_ADVANCE_TRX  PURCHASES_TRX  CREDIT_LIMIT  \\\n",
       "0                   0.000000                 0              2        1000.0   \n",
       "1                   0.250000                 4              0        7000.0   \n",
       "2                   0.000000                 0             12        7500.0   \n",
       "3                   0.083333                 1              1        7500.0   \n",
       "4                   0.000000                 0              1        1200.0   \n",
       "...                      ...               ...            ...           ...   \n",
       "8945                0.000000                 0              6        1000.0   \n",
       "8946                0.000000                 0              6        1000.0   \n",
       "8947                0.000000                 0              5        1000.0   \n",
       "8948                0.166667                 2              0         500.0   \n",
       "8949                0.333333                 2             23        1200.0   \n",
       "\n",
       "         PAYMENTS  MINIMUM_PAYMENTS  PRC_FULL_PAYMENT  TENURE  \n",
       "0      201.802084        139.509787          0.000000      12  \n",
       "1     4103.032597       1072.340217          0.222222      12  \n",
       "2      622.066742        627.284787          0.000000      12  \n",
       "3        0.000000               NaN          0.000000      12  \n",
       "4      678.334763        244.791237          0.000000      12  \n",
       "...           ...               ...               ...     ...  \n",
       "8945   325.594462         48.886365          0.500000       6  \n",
       "8946   275.861322               NaN          0.000000       6  \n",
       "8947    81.270775         82.418369          0.250000       6  \n",
       "8948    52.549959         55.755628          0.250000       6  \n",
       "8949    63.165404         88.288956          0.000000       6  \n",
       "\n",
       "[8950 rows x 18 columns]"
      ]
     },
     "execution_count": 11,
     "metadata": {},
     "output_type": "execute_result"
    }
   ],
   "source": [
    "df = pd.read_csv(r\"C:\\Users\\alejo\\Documents\\Analitica_2\\Bases\\credit_card_clients.csv\")\n",
    "df"
   ]
  },
  {
   "cell_type": "markdown",
   "metadata": {},
   "source": [
    "Se eliminará la primer columna debido a que es un id y no tiene información relevante para el trabajo"
   ]
  },
  {
   "cell_type": "code",
   "execution_count": 12,
   "metadata": {},
   "outputs": [],
   "source": [
    "df = df.drop(\"CUST_ID\", axis=1)"
   ]
  },
  {
   "cell_type": "code",
   "execution_count": 13,
   "metadata": {},
   "outputs": [
    {
     "name": "stdout",
     "output_type": "stream",
     "text": [
      "<class 'pandas.core.frame.DataFrame'>\n",
      "RangeIndex: 8950 entries, 0 to 8949\n",
      "Data columns (total 17 columns):\n",
      " #   Column                            Non-Null Count  Dtype  \n",
      "---  ------                            --------------  -----  \n",
      " 0   BALANCE                           8950 non-null   float64\n",
      " 1   BALANCE_FREQUENCY                 8950 non-null   float64\n",
      " 2   PURCHASES                         8950 non-null   float64\n",
      " 3   ONEOFF_PURCHASES                  8950 non-null   float64\n",
      " 4   INSTALLMENTS_PURCHASES            8950 non-null   float64\n",
      " 5   CASH_ADVANCE                      8950 non-null   float64\n",
      " 6   PURCHASES_FREQUENCY               8950 non-null   float64\n",
      " 7   ONEOFF_PURCHASES_FREQUENCY        8950 non-null   float64\n",
      " 8   PURCHASES_INSTALLMENTS_FREQUENCY  8950 non-null   float64\n",
      " 9   CASH_ADVANCE_FREQUENCY            8950 non-null   float64\n",
      " 10  CASH_ADVANCE_TRX                  8950 non-null   int64  \n",
      " 11  PURCHASES_TRX                     8950 non-null   int64  \n",
      " 12  CREDIT_LIMIT                      8949 non-null   float64\n",
      " 13  PAYMENTS                          8950 non-null   float64\n",
      " 14  MINIMUM_PAYMENTS                  8637 non-null   float64\n",
      " 15  PRC_FULL_PAYMENT                  8950 non-null   float64\n",
      " 16  TENURE                            8950 non-null   int64  \n",
      "dtypes: float64(14), int64(3)\n",
      "memory usage: 1.2 MB\n"
     ]
    }
   ],
   "source": [
    "df.info()"
   ]
  },
  {
   "cell_type": "markdown",
   "metadata": {},
   "source": [
    "Se identifican ciertos valores nulos en el dataset, con el fin de no dejar dichos valores de esta forma, se decide reemplazar los valores nulos por la meida. Esto se presenta sólo en 2 columnas, donde una de ella sólo tiene un valor nulo."
   ]
  },
  {
   "cell_type": "code",
   "execution_count": 18,
   "metadata": {},
   "outputs": [],
   "source": [
    "df[\"MINIMUM_PAYMENTS\"]=df[\"MINIMUM_PAYMENTS\"].fillna(df[\"MINIMUM_PAYMENTS\"].mean())\n",
    "df[\"CREDIT_LIMIT\"]=df[\"CREDIT_LIMIT\"].fillna(df[\"CREDIT_LIMIT\"].mean())"
   ]
  },
  {
   "cell_type": "markdown",
   "metadata": {},
   "source": [
    "Se escalan las variables para que todas puedan tener el mismo perso para el modelo."
   ]
  },
  {
   "cell_type": "code",
   "execution_count": 19,
   "metadata": {},
   "outputs": [],
   "source": [
    "feat_sc=StandardScaler().fit_transform(df)"
   ]
  },
  {
   "cell_type": "markdown",
   "metadata": {},
   "source": [
    "Se realizará reducción de dimensionalidad por el método PCA. El número de componentes inicial será 17 (el peor caso posible), y se irá afinando para definir cuál será el mejor número de componentes posibles."
   ]
  },
  {
   "cell_type": "code",
   "execution_count": 119,
   "metadata": {},
   "outputs": [
    {
     "data": {
      "text/plain": [
       "PCA(n_components=17)"
      ]
     },
     "execution_count": 119,
     "metadata": {},
     "output_type": "execute_result"
    }
   ],
   "source": [
    "pca=PCA(n_components=17)\n",
    "pca.fit(feat_sc)"
   ]
  },
  {
   "cell_type": "code",
   "execution_count": 120,
   "metadata": {},
   "outputs": [
    {
     "data": {
      "text/plain": [
       "array([[ 1.01077495e-01,  1.20043419e-01,  4.11641555e-01,\n",
       "         3.46407027e-01,  3.36814315e-01, -2.33432386e-02,\n",
       "         3.21492845e-01,  2.94633202e-01,  2.74709742e-01,\n",
       "        -8.91390280e-02, -4.86539449e-02,  3.90695242e-01,\n",
       "         2.11662921e-01,  2.66248975e-01,  6.03512816e-02,\n",
       "         1.32112309e-01,  8.10205017e-02],\n",
       "       [ 4.03957216e-01,  1.30537052e-01,  4.10378642e-02,\n",
       "         6.28718737e-02, -1.85327951e-02,  4.39241530e-01,\n",
       "        -1.90780251e-01, -1.79238154e-02, -1.78600911e-01,\n",
       "         4.34082323e-01,  4.19733864e-01, -1.93940823e-02,\n",
       "         2.38677935e-01,  2.57476073e-01,  1.66969516e-01,\n",
       "        -1.90025512e-01, -4.32647646e-03],\n",
       "       [-1.60075041e-01, -4.20629874e-01,  2.57902734e-01,\n",
       "         3.92114887e-01, -1.10488391e-01, -2.73454003e-02,\n",
       "        -3.74691466e-01,  1.15130725e-01, -4.73409191e-01,\n",
       "        -1.09072169e-01, -1.15540504e-01, -7.73306395e-02,\n",
       "         1.00483443e-01,  2.76236518e-01, -2.21634615e-01,\n",
       "         1.24773556e-01, -6.43260207e-02],\n",
       "       [ 2.83453583e-01,  1.49742162e-01,  3.91113668e-02,\n",
       "         7.81546720e-02, -5.11302809e-02, -2.54585773e-01,\n",
       "        -1.88974864e-01,  2.74645771e-02, -2.15001830e-01,\n",
       "        -2.64227522e-01, -3.26923776e-01, -1.81091729e-02,\n",
       "         1.31651271e-01, -1.14767061e-01,  4.02909113e-01,\n",
       "        -4.24426332e-01,  4.35285433e-01],\n",
       "       [ 4.76034353e-02, -4.84562815e-01,  3.12867112e-02,\n",
       "        -1.55846078e-01,  3.60266264e-01,  9.66769906e-02,\n",
       "        -9.24353857e-02, -5.31552907e-01,  1.80202693e-01,\n",
       "        -1.37405128e-01, -7.83097705e-02, -3.02785097e-02,\n",
       "         7.33035995e-02,  1.93768067e-01,  4.31342491e-01,\n",
       "         1.36173696e-01, -3.89028077e-02],\n",
       "       [ 3.98973086e-02,  3.53170635e-02,  1.76295005e-01,\n",
       "         1.84609505e-01,  7.76742565e-02, -1.46755481e-01,\n",
       "        -3.72260882e-02,  2.47543742e-02, -5.23841513e-02,\n",
       "         6.59445549e-02, -5.77877041e-02,  1.03758308e-01,\n",
       "        -3.21057716e-01, -1.26917032e-01,  2.76397231e-01,\n",
       "        -3.57246707e-01, -7.47011829e-01],\n",
       "       [-2.52375978e-01,  1.04750930e-01,  2.03289840e-01,\n",
       "         1.21705893e-01,  2.57153472e-01, -5.00415319e-02,\n",
       "        -1.56065901e-01, -2.90681809e-01,  3.63125430e-02,\n",
       "         1.41515300e-01,  1.93867506e-01,  1.06832058e-01,\n",
       "        -5.58932255e-01,  1.60002796e-01, -1.95378136e-01,\n",
       "        -2.96505585e-01,  3.96576304e-01],\n",
       "       [-1.69446496e-01,  2.58930344e-01,  1.97936476e-02,\n",
       "         1.25738194e-01, -1.84235690e-01, -2.10785027e-02,\n",
       "        -3.38547835e-02,  1.03502933e-01, -1.55530112e-01,\n",
       "         5.06600128e-02,  1.13869393e-01, -9.22382835e-02,\n",
       "        -3.46615689e-01,  7.68928124e-02,  5.84956335e-01,\n",
       "         5.60212758e-01,  1.07226873e-01],\n",
       "       [ 1.30322065e-01,  6.21380527e-01,  1.05111259e-01,\n",
       "         1.80853087e-02,  2.15312776e-01, -5.14068309e-02,\n",
       "        -2.21766184e-01, -4.00015156e-01, -7.50556013e-02,\n",
       "        -9.09589268e-02, -2.56687456e-01, -2.03287595e-01,\n",
       "         1.44410480e-01,  9.37028031e-02, -2.52724490e-01,\n",
       "         2.60760914e-01, -2.11448896e-01],\n",
       "       [ 3.09089167e-02, -8.13799523e-02,  5.12077852e-02,\n",
       "        -1.75633869e-01,  4.43681561e-01, -3.59176988e-01,\n",
       "        -2.50863397e-01,  1.09508757e-01, -2.52409197e-01,\n",
       "         2.86012339e-01,  2.18514243e-01,  2.48553208e-01,\n",
       "         1.58968349e-01, -4.65970350e-01, -5.98785854e-03,\n",
       "         2.40473945e-01,  5.35060011e-02],\n",
       "       [ 1.46699238e-01, -1.18715001e-01,  2.00909459e-01,\n",
       "         4.47872196e-01, -3.47682857e-01, -3.54579339e-01,\n",
       "         1.17562385e-01, -3.75306645e-01,  2.87439737e-01,\n",
       "         2.16778859e-01,  2.04768038e-01, -2.11352910e-01,\n",
       "         1.59647455e-01, -2.66176450e-01, -2.26617047e-02,\n",
       "         7.09593628e-02,  6.36036425e-02],\n",
       "       [-4.80160664e-01,  9.60740983e-02,  7.54232443e-02,\n",
       "        -5.25964795e-02,  2.74850841e-01, -1.81522209e-01,\n",
       "         1.58873125e-01,  1.60922234e-01, -1.86686658e-02,\n",
       "         3.89699985e-02,  2.05152306e-01, -5.87286819e-01,\n",
       "         3.19909160e-01,  1.28892070e-01,  1.57279451e-01,\n",
       "        -2.41863066e-01, -3.28702893e-02],\n",
       "       [ 5.26335052e-01, -1.88736686e-01,  1.13344186e-01,\n",
       "        -8.89235836e-03,  2.84079661e-01,  2.10808898e-02,\n",
       "         1.92262535e-01,  2.50040737e-01, -4.34896088e-02,\n",
       "         3.94591737e-02, -9.28978600e-02, -5.38540625e-01,\n",
       "        -3.88805627e-01, -5.32861202e-02, -1.36874397e-01,\n",
       "         1.13365915e-01,  7.80572907e-02],\n",
       "       [ 1.72280304e-01, -4.12417002e-02, -2.25617754e-01,\n",
       "        -2.25414699e-01, -1.19259541e-01, -6.10559381e-01,\n",
       "         1.17675394e-02,  4.74187059e-02,  3.74312495e-02,\n",
       "         3.08966312e-01, -8.62647204e-02,  8.33988310e-02,\n",
       "        -3.78822879e-02,  6.00798402e-01, -3.14568641e-02,\n",
       "         1.02197804e-02, -5.25817816e-02],\n",
       "       [ 2.18214084e-01,  4.03003263e-02, -5.10290656e-02,\n",
       "        -5.56389918e-02, -1.84532021e-02, -2.08624076e-01,\n",
       "        -2.30902827e-02, -1.78873722e-02, -6.68063434e-02,\n",
       "        -6.62441648e-01,  6.53670593e-01,  3.36937656e-02,\n",
       "        -5.40724898e-02,  1.04468044e-01, -7.16464472e-02,\n",
       "         9.43687743e-03, -9.78211442e-02],\n",
       "       [-5.26444333e-03, -1.11750958e-02,  2.19134366e-03,\n",
       "        -4.63021422e-03,  1.45663699e-02, -7.03256437e-03,\n",
       "         6.78156653e-01, -3.41535305e-01, -6.33639856e-01,\n",
       "         4.07125822e-02, -1.39149267e-02,  1.35175857e-01,\n",
       "         1.78962095e-02,  9.41879333e-03, -1.44808113e-02,\n",
       "        -2.01453189e-02,  1.92114498e-02],\n",
       "       [ 4.15610696e-05,  8.54716251e-06, -7.48974857e-01,\n",
       "         5.81943081e-01,  3.16826179e-01,  2.21759677e-05,\n",
       "        -1.58680774e-04,  1.42508066e-04,  1.72574150e-04,\n",
       "        -1.48500865e-05,  1.13482699e-05, -8.32316936e-05,\n",
       "        -7.98263242e-06, -1.78889657e-05,  3.00134845e-05,\n",
       "         1.49265490e-05, -3.26447979e-06]])"
      ]
     },
     "execution_count": 120,
     "metadata": {},
     "output_type": "execute_result"
    }
   ],
   "source": [
    "pca.components_ ## lambdas, vectores propios pesos de observadas sobre latentes\n"
   ]
  },
  {
   "cell_type": "code",
   "execution_count": 21,
   "metadata": {},
   "outputs": [
    {
     "data": {
      "text/plain": [
       "array([2.72900372e-01, 2.03019913e-01, 8.79197945e-02, 7.47997502e-02,\n",
       "       6.26279204e-02, 5.75021129e-02, 4.88723464e-02, 4.25748554e-02,\n",
       "       3.82880445e-02, 3.08000623e-02, 2.37189739e-02, 1.77363237e-02,\n",
       "       1.42649185e-02, 1.21736915e-02, 1.01298988e-02, 2.67033632e-03,\n",
       "       6.85223491e-07])"
      ]
     },
     "execution_count": 21,
     "metadata": {},
     "output_type": "execute_result"
    }
   ],
   "source": [
    "ve=pca.explained_variance_ratio_  ### procentaje de variable explicada por cada componente\n",
    "ve"
   ]
  },
  {
   "cell_type": "code",
   "execution_count": 126,
   "metadata": {},
   "outputs": [
    {
     "data": {
      "text/plain": [
       "array([ 0.1010775 ,  0.12004342,  0.41164155,  0.34640703,  0.33681432,\n",
       "       -0.02334324,  0.32149284,  0.2946332 ,  0.27470974, -0.08913903,\n",
       "       -0.04865394,  0.39069524,  0.21166292,  0.26624897,  0.06035128,\n",
       "        0.13211231,  0.0810205 ])"
      ]
     },
     "execution_count": 126,
     "metadata": {},
     "output_type": "execute_result"
    }
   ],
   "source": [
    "componentes_principales = pca.components_\n",
    "componentes_principales[0]\n"
   ]
  },
  {
   "cell_type": "code",
   "execution_count": 127,
   "metadata": {},
   "outputs": [
    {
     "data": {
      "text/plain": [
       "array([ 0.40395722,  0.13053705,  0.04103786,  0.06287187, -0.0185328 ,\n",
       "        0.43924153, -0.19078025, -0.01792382, -0.17860091,  0.43408232,\n",
       "        0.41973386, -0.01939408,  0.23867794,  0.25747607,  0.16696952,\n",
       "       -0.19002551, -0.00432648])"
      ]
     },
     "execution_count": 127,
     "metadata": {},
     "output_type": "execute_result"
    }
   ],
   "source": [
    "componentes_principales[1]"
   ]
  },
  {
   "cell_type": "markdown",
   "metadata": {},
   "source": [
    "**RESPUESTA PREGUNTA 1**\n",
    "\n",
    "Según el porcentaje de varianza explicada, las variables latentes más importantes son la 1 y la 2, dentro de éstas las variables observadas más importantes serían para la variable latente 1 \"PURCHASES\", con un peso de 0.41164155. Por otro lado, para la variable latente 2, \"CASH-ADVANCE\" sería la variable observada más importante, con un peso de 0.43924153."
   ]
  },
  {
   "cell_type": "markdown",
   "metadata": {},
   "source": [
    "Se sacan las variables latentes"
   ]
  },
  {
   "cell_type": "code",
   "execution_count": 23,
   "metadata": {},
   "outputs": [],
   "source": [
    "l = pca.transform(feat_sc) ## variables latentes"
   ]
  },
  {
   "cell_type": "markdown",
   "metadata": {},
   "source": [
    "Se realiza la técnica del codo para identificar cuál es el mejor número de dimensiones para el modelo"
   ]
  },
  {
   "cell_type": "code",
   "execution_count": 24,
   "metadata": {},
   "outputs": [
    {
     "data": {
      "text/plain": [
       "<matplotlib.axes._subplots.AxesSubplot at 0x17bbe299490>"
      ]
     },
     "execution_count": 24,
     "metadata": {},
     "output_type": "execute_result"
    },
    {
     "data": {
      "image/png": "[encoded data removed]",
      "text/plain": [
       "<Figure size 432x288 with 1 Axes>"
      ]
     },
     "metadata": {
      "needs_background": "light"
     },
     "output_type": "display_data"
    }
   ],
   "source": [
    "sns.lineplot(x=np.arange(1,18), y=np.cumsum(ve), palette=\"viridis\")"
   ]
  },
  {
   "cell_type": "markdown",
   "metadata": {},
   "source": [
    "**RESPUESTA 2**\n",
    "\n",
    "Teniendo en cuenta la técnica del codo, y asumiendo que se eligieron 2 componentes (variables latentes) para el trabajo, el porcentaje de varianza que se va a explicar es de apróximadamente un 0.5, es decir un 50%. \n",
    "En este caso, se eligieron 2 componentes debido a que para aumentar el porcentaje de varianza explicada de forma significativa, se tendrían que aumentar mucho el número de componentes, y teniendo en cuenta el costo computacional y la complejidad que podría tomar el modelo con un número de componentes altos, se considera que no vale la pena."
   ]
  },
  {
   "cell_type": "code",
   "execution_count": 54,
   "metadata": {},
   "outputs": [
    {
     "data": {
      "text/plain": [
       "array([[-1.68222026, -1.07645061],\n",
       "       [-1.1382949 ,  2.50647666],\n",
       "       [ 0.96968401, -0.3835203 ],\n",
       "       ...,\n",
       "       [-0.92620364, -1.8107856 ],\n",
       "       [-2.33655167, -0.65796601],\n",
       "       [-0.55642216, -0.40046712]])"
      ]
     },
     "execution_count": 54,
     "metadata": {},
     "output_type": "execute_result"
    }
   ],
   "source": [
    "l_sel=l[:,0:2]\n",
    "l_sel"
   ]
  },
  {
   "cell_type": "code",
   "execution_count": 57,
   "metadata": {},
   "outputs": [
    {
     "data": {
      "text/plain": [
       "PCA(n_components=2)"
      ]
     },
     "execution_count": 57,
     "metadata": {},
     "output_type": "execute_result"
    }
   ],
   "source": [
    "pca=PCA(n_components=2)\n",
    "pca.fit(l_sel)"
   ]
  },
  {
   "cell_type": "code",
   "execution_count": 59,
   "metadata": {},
   "outputs": [
    {
     "data": {
      "text/plain": [
       "array([[1., 0.],\n",
       "       [0., 1.]])"
      ]
     },
     "execution_count": 59,
     "metadata": {},
     "output_type": "execute_result"
    }
   ],
   "source": [
    "pca.components_"
   ]
  },
  {
   "cell_type": "code",
   "execution_count": 60,
   "metadata": {},
   "outputs": [
    {
     "data": {
      "text/plain": [
       "array([4.63982474, 3.45172419])"
      ]
     },
     "execution_count": 60,
     "metadata": {},
     "output_type": "execute_result"
    }
   ],
   "source": [
    "pca.explained_variance_"
   ]
  },
  {
   "cell_type": "markdown",
   "metadata": {},
   "source": [
    "Así es como se vería la distribución de nuestros nuevos datos graficada"
   ]
  },
  {
   "cell_type": "code",
   "execution_count": 34,
   "metadata": {},
   "outputs": [
    {
     "data": {
      "text/plain": [
       "<matplotlib.axes._subplots.AxesSubplot at 0x17bc667abb0>"
      ]
     },
     "execution_count": 34,
     "metadata": {},
     "output_type": "execute_result"
    },
    {
     "data": {
      "image/png": "[encoded data removed]",
      "text/plain": [
       "<Figure size 432x288 with 1 Axes>"
      ]
     },
     "metadata": {
      "needs_background": "light"
     },
     "output_type": "display_data"
    }
   ],
   "source": [
    "g1 =sns.scatterplot(x=l_sel[:,0], y=l_sel[:,1])\n",
    "g1"
   ]
  },
  {
   "cell_type": "markdown",
   "metadata": {},
   "source": [
    "Teniendo en cuenta como los datos están distribuidos, se procede a realizar una segmentación de los clientes a través del algoritmo de K-Means, ya que se considera que sería el más apropiado para este caso."
   ]
  },
  {
   "cell_type": "markdown",
   "metadata": {},
   "source": [
    "Se realiza un nuevo dataframe con los 2 componentes sacados recientemente"
   ]
  },
  {
   "cell_type": "code",
   "execution_count": 38,
   "metadata": {},
   "outputs": [
    {
     "data": {
      "text/html": [
       "<div>\n",
       "<style scoped>\n",
       "    .dataframe tbody tr th:only-of-type {\n",
       "        vertical-align: middle;\n",
       "    }\n",
       "\n",
       "    .dataframe tbody tr th {\n",
       "        vertical-align: top;\n",
       "    }\n",
       "\n",
       "    .dataframe thead th {\n",
       "        text-align: right;\n",
       "    }\n",
       "</style>\n",
       "<table border=\"1\" class=\"dataframe\">\n",
       "  <thead>\n",
       "    <tr style=\"text-align: right;\">\n",
       "      <th></th>\n",
       "      <th>0</th>\n",
       "      <th>1</th>\n",
       "    </tr>\n",
       "  </thead>\n",
       "  <tbody>\n",
       "    <tr>\n",
       "      <th>0</th>\n",
       "      <td>-1.682220</td>\n",
       "      <td>-1.076451</td>\n",
       "    </tr>\n",
       "    <tr>\n",
       "      <th>1</th>\n",
       "      <td>-1.138295</td>\n",
       "      <td>2.506477</td>\n",
       "    </tr>\n",
       "    <tr>\n",
       "      <th>2</th>\n",
       "      <td>0.969684</td>\n",
       "      <td>-0.383520</td>\n",
       "    </tr>\n",
       "    <tr>\n",
       "      <th>3</th>\n",
       "      <td>-0.873628</td>\n",
       "      <td>0.043166</td>\n",
       "    </tr>\n",
       "    <tr>\n",
       "      <th>4</th>\n",
       "      <td>-1.599434</td>\n",
       "      <td>-0.688581</td>\n",
       "    </tr>\n",
       "    <tr>\n",
       "      <th>...</th>\n",
       "      <td>...</td>\n",
       "      <td>...</td>\n",
       "    </tr>\n",
       "    <tr>\n",
       "      <th>8945</th>\n",
       "      <td>-0.359629</td>\n",
       "      <td>-2.016145</td>\n",
       "    </tr>\n",
       "    <tr>\n",
       "      <th>8946</th>\n",
       "      <td>-0.564369</td>\n",
       "      <td>-1.639123</td>\n",
       "    </tr>\n",
       "    <tr>\n",
       "      <th>8947</th>\n",
       "      <td>-0.926204</td>\n",
       "      <td>-1.810786</td>\n",
       "    </tr>\n",
       "    <tr>\n",
       "      <th>8948</th>\n",
       "      <td>-2.336552</td>\n",
       "      <td>-0.657966</td>\n",
       "    </tr>\n",
       "    <tr>\n",
       "      <th>8949</th>\n",
       "      <td>-0.556422</td>\n",
       "      <td>-0.400467</td>\n",
       "    </tr>\n",
       "  </tbody>\n",
       "</table>\n",
       "<p>8950 rows × 2 columns</p>\n",
       "</div>"
      ],
      "text/plain": [
       "             0         1\n",
       "0    -1.682220 -1.076451\n",
       "1    -1.138295  2.506477\n",
       "2     0.969684 -0.383520\n",
       "3    -0.873628  0.043166\n",
       "4    -1.599434 -0.688581\n",
       "...        ...       ...\n",
       "8945 -0.359629 -2.016145\n",
       "8946 -0.564369 -1.639123\n",
       "8947 -0.926204 -1.810786\n",
       "8948 -2.336552 -0.657966\n",
       "8949 -0.556422 -0.400467\n",
       "\n",
       "[8950 rows x 2 columns]"
      ]
     },
     "execution_count": 38,
     "metadata": {},
     "output_type": "execute_result"
    }
   ],
   "source": [
    "Data = pd.DataFrame(l_sel)\n",
    "Data"
   ]
  },
  {
   "cell_type": "markdown",
   "metadata": {},
   "source": [
    "Inicialmente, se realizará el modelo con un número de 3 clusters, y luego de esto se realizzará un ajuste de hiperparametros para identificar cuál sería la mejor opción"
   ]
  },
  {
   "cell_type": "code",
   "execution_count": 39,
   "metadata": {},
   "outputs": [],
   "source": [
    "k= 3"
   ]
  },
  {
   "cell_type": "code",
   "execution_count": 40,
   "metadata": {},
   "outputs": [],
   "source": [
    "kmedias = cluster.KMeans(n_clusters=k) "
   ]
  },
  {
   "cell_type": "code",
   "execution_count": 42,
   "metadata": {},
   "outputs": [
    {
     "data": {
      "text/plain": [
       "KMeans(n_clusters=3)"
      ]
     },
     "execution_count": 42,
     "metadata": {},
     "output_type": "execute_result"
    }
   ],
   "source": [
    "kmedias.fit(Data) ##Se ajusta el modelo de Kmeans a los datos"
   ]
  },
  {
   "cell_type": "markdown",
   "metadata": {},
   "source": [
    "Se le asigna una etiqueta a cada una de las observaciones de nuestro dataframe"
   ]
  },
  {
   "cell_type": "code",
   "execution_count": 43,
   "metadata": {},
   "outputs": [],
   "source": [
    "cluster_label = kmedias.labels_"
   ]
  },
  {
   "cell_type": "code",
   "execution_count": 48,
   "metadata": {},
   "outputs": [
    {
     "data": {
      "text/html": [
       "<div>\n",
       "<style scoped>\n",
       "    .dataframe tbody tr th:only-of-type {\n",
       "        vertical-align: middle;\n",
       "    }\n",
       "\n",
       "    .dataframe tbody tr th {\n",
       "        vertical-align: top;\n",
       "    }\n",
       "\n",
       "    .dataframe thead th {\n",
       "        text-align: right;\n",
       "    }\n",
       "</style>\n",
       "<table border=\"1\" class=\"dataframe\">\n",
       "  <thead>\n",
       "    <tr style=\"text-align: right;\">\n",
       "      <th></th>\n",
       "      <th>0</th>\n",
       "      <th>1</th>\n",
       "      <th>cluster</th>\n",
       "    </tr>\n",
       "  </thead>\n",
       "  <tbody>\n",
       "    <tr>\n",
       "      <th>0</th>\n",
       "      <td>-1.682220</td>\n",
       "      <td>-1.076451</td>\n",
       "      <td>2</td>\n",
       "    </tr>\n",
       "    <tr>\n",
       "      <th>1</th>\n",
       "      <td>-1.138295</td>\n",
       "      <td>2.506477</td>\n",
       "      <td>0</td>\n",
       "    </tr>\n",
       "    <tr>\n",
       "      <th>2</th>\n",
       "      <td>0.969684</td>\n",
       "      <td>-0.383520</td>\n",
       "      <td>2</td>\n",
       "    </tr>\n",
       "    <tr>\n",
       "      <th>3</th>\n",
       "      <td>-0.873628</td>\n",
       "      <td>0.043166</td>\n",
       "      <td>2</td>\n",
       "    </tr>\n",
       "    <tr>\n",
       "      <th>4</th>\n",
       "      <td>-1.599434</td>\n",
       "      <td>-0.688581</td>\n",
       "      <td>2</td>\n",
       "    </tr>\n",
       "    <tr>\n",
       "      <th>...</th>\n",
       "      <td>...</td>\n",
       "      <td>...</td>\n",
       "      <td>...</td>\n",
       "    </tr>\n",
       "    <tr>\n",
       "      <th>8945</th>\n",
       "      <td>-0.359629</td>\n",
       "      <td>-2.016145</td>\n",
       "      <td>2</td>\n",
       "    </tr>\n",
       "    <tr>\n",
       "      <th>8946</th>\n",
       "      <td>-0.564369</td>\n",
       "      <td>-1.639123</td>\n",
       "      <td>2</td>\n",
       "    </tr>\n",
       "    <tr>\n",
       "      <th>8947</th>\n",
       "      <td>-0.926204</td>\n",
       "      <td>-1.810786</td>\n",
       "      <td>2</td>\n",
       "    </tr>\n",
       "    <tr>\n",
       "      <th>8948</th>\n",
       "      <td>-2.336552</td>\n",
       "      <td>-0.657966</td>\n",
       "      <td>2</td>\n",
       "    </tr>\n",
       "    <tr>\n",
       "      <th>8949</th>\n",
       "      <td>-0.556422</td>\n",
       "      <td>-0.400467</td>\n",
       "      <td>2</td>\n",
       "    </tr>\n",
       "  </tbody>\n",
       "</table>\n",
       "<p>8950 rows × 3 columns</p>\n",
       "</div>"
      ],
      "text/plain": [
       "             0         1  cluster\n",
       "0    -1.682220 -1.076451        2\n",
       "1    -1.138295  2.506477        0\n",
       "2     0.969684 -0.383520        2\n",
       "3    -0.873628  0.043166        2\n",
       "4    -1.599434 -0.688581        2\n",
       "...        ...       ...      ...\n",
       "8945 -0.359629 -2.016145        2\n",
       "8946 -0.564369 -1.639123        2\n",
       "8947 -0.926204 -1.810786        2\n",
       "8948 -2.336552 -0.657966        2\n",
       "8949 -0.556422 -0.400467        2\n",
       "\n",
       "[8950 rows x 3 columns]"
      ]
     },
     "execution_count": 48,
     "metadata": {},
     "output_type": "execute_result"
    }
   ],
   "source": [
    "Data[\"cluster\"] = cluster_label\n",
    "Data"
   ]
  },
  {
   "cell_type": "markdown",
   "metadata": {},
   "source": [
    "Se sacan las coordenadas de los centroides para poder graficar y ver cómo se vería nuestro modelo"
   ]
  },
  {
   "cell_type": "code",
   "execution_count": 46,
   "metadata": {},
   "outputs": [],
   "source": [
    "centroides = kmedias.cluster_centers_"
   ]
  },
  {
   "cell_type": "code",
   "execution_count": 47,
   "metadata": {},
   "outputs": [
    {
     "data": {
      "text/plain": [
       "array([[-0.81244355,  2.9164185 ],\n",
       "       [ 3.97280145, -0.11039721],\n",
       "       [-0.55996007, -0.76080171]])"
      ]
     },
     "execution_count": 47,
     "metadata": {},
     "output_type": "execute_result"
    }
   ],
   "source": [
    "centroides"
   ]
  },
  {
   "cell_type": "markdown",
   "metadata": {},
   "source": [
    "Se saca la gráfica del modelo"
   ]
  },
  {
   "cell_type": "code",
   "execution_count": 49,
   "metadata": {},
   "outputs": [
    {
     "data": {
      "image/png": "[encoded data removed]",
      "text/plain": [
       "<Figure size 432x288 with 1 Axes>"
      ]
     },
     "metadata": {
      "needs_background": "light"
     },
     "output_type": "display_data"
    }
   ],
   "source": [
    "sns.scatterplot(x=0, y =1, data = Data, hue =\"cluster\", palette= \"coolwarm\")\n",
    "plt.scatter(x= centroides[:,0], y = centroides[:,1], marker = \"o\", s=200)\n",
    "plt.show()"
   ]
  },
  {
   "cell_type": "markdown",
   "metadata": {},
   "source": [
    "Como se puede ver en la gráfica a pesar de los datos atípicos, y a pesar de que todos los datos están realmente muy poco dispersos (reunidos en un punto), la clusterización se puede ver efectiva, teniendo presente que está agrupando los datos en 3 categorías de una forma relativamente coherente."
   ]
  },
  {
   "cell_type": "code",
   "execution_count": 52,
   "metadata": {},
   "outputs": [],
   "source": [
    "X_s = Data[[0, 1]] "
   ]
  },
  {
   "cell_type": "code",
   "execution_count": 53,
   "metadata": {},
   "outputs": [],
   "source": [
    "WCSS= []\n",
    "sil = []"
   ]
  },
  {
   "cell_type": "code",
   "execution_count": 62,
   "metadata": {},
   "outputs": [],
   "source": [
    "for k in range(2,15):\n",
    "    km = cluster.KMeans(n_clusters=k, n_init=10)\n",
    "    km = km.fit(X_s)\n",
    "    WCSS.append(km.inertia_)\n",
    "    label = km.labels_\n",
    "    if k>1:\n",
    "        sil_avg = silhouette_score(X_s,label)\n",
    "        sil.append(sil_avg)"
   ]
  },
  {
   "cell_type": "code",
   "execution_count": 63,
   "metadata": {},
   "outputs": [
    {
     "data": {
      "text/plain": [
       "[49658.64107950833,\n",
       " 33017.49824645222,\n",
       " 24524.29957421126,\n",
       " 19453.720447475494,\n",
       " 16215.998462353688,\n",
       " 13801.197179222823,\n",
       " 12308.055649839269,\n",
       " 10911.508150442021,\n",
       " 9883.83605025634,\n",
       " 8961.456923770394,\n",
       " 8116.122634996976,\n",
       " 7592.785644143641,\n",
       " 7089.322770676826]"
      ]
     },
     "execution_count": 63,
     "metadata": {},
     "output_type": "execute_result"
    }
   ],
   "source": [
    "WCSS"
   ]
  },
  {
   "cell_type": "code",
   "execution_count": 64,
   "metadata": {},
   "outputs": [
    {
     "data": {
      "text/plain": [
       "13"
      ]
     },
     "execution_count": 64,
     "metadata": {},
     "output_type": "execute_result"
    }
   ],
   "source": [
    "len(WCSS)"
   ]
  },
  {
   "cell_type": "code",
   "execution_count": 65,
   "metadata": {},
   "outputs": [
    {
     "data": {
      "image/png": "[encoded data removed]",
      "text/plain": [
       "<Figure size 432x288 with 1 Axes>"
      ]
     },
     "metadata": {
      "needs_background": "light"
     },
     "output_type": "display_data"
    }
   ],
   "source": [
    "sns.lineplot(x=np.arange(1,14), y= WCSS, marker=\"o\", palette=\"coolwarm\")\n",
    "plt.show()"
   ]
  },
  {
   "cell_type": "code",
   "execution_count": 66,
   "metadata": {},
   "outputs": [
    {
     "data": {
      "image/png": "[encoded data removed]",
      "text/plain": [
       "<Figure size 432x288 with 1 Axes>"
      ]
     },
     "metadata": {
      "needs_background": "light"
     },
     "output_type": "display_data"
    }
   ],
   "source": [
    "sns.lineplot(x=np.arange(1,14), y= sil, marker=\"o\", palette=\"coolwarm\")\n",
    "plt.show()"
   ]
  },
  {
   "cell_type": "code",
   "execution_count": 67,
   "metadata": {},
   "outputs": [],
   "source": [
    "kl = KneeLocator(x=np.arange(1,14), y= WCSS, curve=\"convex\", direction=\"decreasing\")"
   ]
  },
  {
   "cell_type": "code",
   "execution_count": 68,
   "metadata": {},
   "outputs": [
    {
     "data": {
      "text/plain": [
       "4"
      ]
     },
     "execution_count": 68,
     "metadata": {},
     "output_type": "execute_result"
    }
   ],
   "source": [
    "kl.elbow"
   ]
  },
  {
   "cell_type": "code",
   "execution_count": 111,
   "metadata": {},
   "outputs": [],
   "source": [
    "kmedias2 = cluster.KMeans(n_clusters=4)"
   ]
  },
  {
   "cell_type": "code",
   "execution_count": 112,
   "metadata": {},
   "outputs": [
    {
     "data": {
      "text/plain": [
       "KMeans(n_clusters=4)"
      ]
     },
     "execution_count": 112,
     "metadata": {},
     "output_type": "execute_result"
    }
   ],
   "source": [
    "kmedias2.fit(X_s)"
   ]
  },
  {
   "cell_type": "code",
   "execution_count": 113,
   "metadata": {},
   "outputs": [],
   "source": [
    "cluster_label2 = kmedias2.labels_"
   ]
  },
  {
   "cell_type": "code",
   "execution_count": 114,
   "metadata": {},
   "outputs": [],
   "source": [
    "Data[\"cluster\"] = cluster_label2"
   ]
  },
  {
   "cell_type": "code",
   "execution_count": 128,
   "metadata": {},
   "outputs": [],
   "source": [
    "df[\"cluster\"] = cluster_label2"
   ]
  },
  {
   "cell_type": "code",
   "execution_count": 115,
   "metadata": {},
   "outputs": [
    {
     "data": {
      "text/html": [
       "<div>\n",
       "<style scoped>\n",
       "    .dataframe tbody tr th:only-of-type {\n",
       "        vertical-align: middle;\n",
       "    }\n",
       "\n",
       "    .dataframe tbody tr th {\n",
       "        vertical-align: top;\n",
       "    }\n",
       "\n",
       "    .dataframe thead th {\n",
       "        text-align: right;\n",
       "    }\n",
       "</style>\n",
       "<table border=\"1\" class=\"dataframe\">\n",
       "  <thead>\n",
       "    <tr style=\"text-align: right;\">\n",
       "      <th></th>\n",
       "      <th>0</th>\n",
       "      <th>1</th>\n",
       "      <th>cluster</th>\n",
       "    </tr>\n",
       "  </thead>\n",
       "  <tbody>\n",
       "    <tr>\n",
       "      <th>0</th>\n",
       "      <td>-1.682220</td>\n",
       "      <td>-1.076451</td>\n",
       "      <td>1</td>\n",
       "    </tr>\n",
       "    <tr>\n",
       "      <th>1</th>\n",
       "      <td>-1.138295</td>\n",
       "      <td>2.506477</td>\n",
       "      <td>0</td>\n",
       "    </tr>\n",
       "    <tr>\n",
       "      <th>2</th>\n",
       "      <td>0.969684</td>\n",
       "      <td>-0.383520</td>\n",
       "      <td>2</td>\n",
       "    </tr>\n",
       "    <tr>\n",
       "      <th>3</th>\n",
       "      <td>-0.873628</td>\n",
       "      <td>0.043166</td>\n",
       "      <td>1</td>\n",
       "    </tr>\n",
       "    <tr>\n",
       "      <th>4</th>\n",
       "      <td>-1.599434</td>\n",
       "      <td>-0.688581</td>\n",
       "      <td>1</td>\n",
       "    </tr>\n",
       "    <tr>\n",
       "      <th>...</th>\n",
       "      <td>...</td>\n",
       "      <td>...</td>\n",
       "      <td>...</td>\n",
       "    </tr>\n",
       "    <tr>\n",
       "      <th>8945</th>\n",
       "      <td>-0.359629</td>\n",
       "      <td>-2.016145</td>\n",
       "      <td>2</td>\n",
       "    </tr>\n",
       "    <tr>\n",
       "      <th>8946</th>\n",
       "      <td>-0.564369</td>\n",
       "      <td>-1.639123</td>\n",
       "      <td>2</td>\n",
       "    </tr>\n",
       "    <tr>\n",
       "      <th>8947</th>\n",
       "      <td>-0.926204</td>\n",
       "      <td>-1.810786</td>\n",
       "      <td>1</td>\n",
       "    </tr>\n",
       "    <tr>\n",
       "      <th>8948</th>\n",
       "      <td>-2.336552</td>\n",
       "      <td>-0.657966</td>\n",
       "      <td>1</td>\n",
       "    </tr>\n",
       "    <tr>\n",
       "      <th>8949</th>\n",
       "      <td>-0.556422</td>\n",
       "      <td>-0.400467</td>\n",
       "      <td>1</td>\n",
       "    </tr>\n",
       "  </tbody>\n",
       "</table>\n",
       "<p>8950 rows × 3 columns</p>\n",
       "</div>"
      ],
      "text/plain": [
       "             0         1  cluster\n",
       "0    -1.682220 -1.076451        1\n",
       "1    -1.138295  2.506477        0\n",
       "2     0.969684 -0.383520        2\n",
       "3    -0.873628  0.043166        1\n",
       "4    -1.599434 -0.688581        1\n",
       "...        ...       ...      ...\n",
       "8945 -0.359629 -2.016145        2\n",
       "8946 -0.564369 -1.639123        2\n",
       "8947 -0.926204 -1.810786        1\n",
       "8948 -2.336552 -0.657966        1\n",
       "8949 -0.556422 -0.400467        1\n",
       "\n",
       "[8950 rows x 3 columns]"
      ]
     },
     "execution_count": 115,
     "metadata": {},
     "output_type": "execute_result"
    }
   ],
   "source": [
    "Data"
   ]
  },
  {
   "cell_type": "code",
   "execution_count": 116,
   "metadata": {},
   "outputs": [],
   "source": [
    "centroides2 = kmedias2.cluster_centers_"
   ]
  },
  {
   "cell_type": "code",
   "execution_count": 117,
   "metadata": {},
   "outputs": [
    {
     "data": {
      "text/plain": [
       "array([[-0.53629451,  3.4199967 ],\n",
       "       [-1.36268326, -0.1974753 ],\n",
       "       [ 0.91494507, -1.16688652],\n",
       "       [ 6.0065483 ,  0.69126502]])"
      ]
     },
     "execution_count": 117,
     "metadata": {},
     "output_type": "execute_result"
    }
   ],
   "source": [
    "centroides2"
   ]
  },
  {
   "cell_type": "code",
   "execution_count": 118,
   "metadata": {},
   "outputs": [
    {
     "data": {
      "image/png": "[encoded data removed]",
      "text/plain": [
       "<Figure size 432x288 with 1 Axes>"
      ]
     },
     "metadata": {
      "needs_background": "light"
     },
     "output_type": "display_data"
    }
   ],
   "source": [
    "sns.scatterplot(x=0, y =1, data = Data, hue =\"cluster\", palette= \"coolwarm\")\n",
    "plt.scatter(x= centroides2[:,0], y = centroides2[:,1], marker = \"o\", s=200)\n",
    "plt.show()"
   ]
  },
  {
   "cell_type": "markdown",
   "metadata": {},
   "source": [
    "**RESPUESTA 3**\n",
    "\n",
    "Las principales diferencias serían que el cluster 1 y 2 son en tamaño, mucho más pequeños que el cluster 0 y 3. Esto se puede deber a que los datos están más juntos en el 1 y 2, además los cluster 0 y 3 se pueden ver afectados por la cantidad de datos atípicos que se encuentran en el dataframe.\n",
    "Otra diferencia es la posición de los centroides, teniendo en cuenta los datos atípicos y la aglomeración de los datos, se puede apreciar como realmente los centroides no se ubican en el centro del cluster, sino en una posición estratégica para poder segmentar los datos de una forma coherente."
   ]
  },
  {
   "cell_type": "code",
   "execution_count": 138,
   "metadata": {},
   "outputs": [],
   "source": [
    "cero = df[df[\"cluster\"] ==0]\n",
    "Uno = df[df[\"cluster\"] ==1]\n",
    "Dos = df[df[\"cluster\"] ==2]\n",
    "Tres = df[df[\"cluster\"] ==3]\n",
    "\n"
   ]
  },
  {
   "cell_type": "code",
   "execution_count": 140,
   "metadata": {},
   "outputs": [
    {
     "data": {
      "text/html": [
       "<div>\n",
       "<style scoped>\n",
       "    .dataframe tbody tr th:only-of-type {\n",
       "        vertical-align: middle;\n",
       "    }\n",
       "\n",
       "    .dataframe tbody tr th {\n",
       "        vertical-align: top;\n",
       "    }\n",
       "\n",
       "    .dataframe thead th {\n",
       "        text-align: right;\n",
       "    }\n",
       "</style>\n",
       "<table border=\"1\" class=\"dataframe\">\n",
       "  <thead>\n",
       "    <tr style=\"text-align: right;\">\n",
       "      <th></th>\n",
       "      <th>BALANCE</th>\n",
       "      <th>BALANCE_FREQUENCY</th>\n",
       "      <th>PURCHASES</th>\n",
       "      <th>ONEOFF_PURCHASES</th>\n",
       "      <th>INSTALLMENTS_PURCHASES</th>\n",
       "      <th>CASH_ADVANCE</th>\n",
       "      <th>PURCHASES_FREQUENCY</th>\n",
       "      <th>ONEOFF_PURCHASES_FREQUENCY</th>\n",
       "      <th>PURCHASES_INSTALLMENTS_FREQUENCY</th>\n",
       "      <th>CASH_ADVANCE_FREQUENCY</th>\n",
       "      <th>CASH_ADVANCE_TRX</th>\n",
       "      <th>PURCHASES_TRX</th>\n",
       "      <th>CREDIT_LIMIT</th>\n",
       "      <th>PAYMENTS</th>\n",
       "      <th>MINIMUM_PAYMENTS</th>\n",
       "      <th>PRC_FULL_PAYMENT</th>\n",
       "      <th>TENURE</th>\n",
       "      <th>cluster</th>\n",
       "    </tr>\n",
       "  </thead>\n",
       "  <tbody>\n",
       "    <tr>\n",
       "      <th>count</th>\n",
       "      <td>1245.000000</td>\n",
       "      <td>1245.000000</td>\n",
       "      <td>1245.000000</td>\n",
       "      <td>1245.000000</td>\n",
       "      <td>1245.000000</td>\n",
       "      <td>1245.000000</td>\n",
       "      <td>1245.000000</td>\n",
       "      <td>1245.000000</td>\n",
       "      <td>1245.000000</td>\n",
       "      <td>1245.000000</td>\n",
       "      <td>1245.000000</td>\n",
       "      <td>1245.000000</td>\n",
       "      <td>1245.000000</td>\n",
       "      <td>1245.000000</td>\n",
       "      <td>1245.000000</td>\n",
       "      <td>1245.000000</td>\n",
       "      <td>1245.000000</td>\n",
       "      <td>1245.0</td>\n",
       "    </tr>\n",
       "    <tr>\n",
       "      <th>mean</th>\n",
       "      <td>4510.612798</td>\n",
       "      <td>0.963486</td>\n",
       "      <td>462.647357</td>\n",
       "      <td>300.127390</td>\n",
       "      <td>162.619301</td>\n",
       "      <td>4401.478579</td>\n",
       "      <td>0.266258</td>\n",
       "      <td>0.129829</td>\n",
       "      <td>0.166187</td>\n",
       "      <td>0.470904</td>\n",
       "      <td>13.771084</td>\n",
       "      <td>6.703614</td>\n",
       "      <td>7458.798832</td>\n",
       "      <td>3542.319312</td>\n",
       "      <td>2059.693604</td>\n",
       "      <td>0.034947</td>\n",
       "      <td>11.439357</td>\n",
       "      <td>0.0</td>\n",
       "    </tr>\n",
       "    <tr>\n",
       "      <th>std</th>\n",
       "      <td>2723.982121</td>\n",
       "      <td>0.107602</td>\n",
       "      <td>801.070727</td>\n",
       "      <td>618.223133</td>\n",
       "      <td>393.696010</td>\n",
       "      <td>3589.270500</td>\n",
       "      <td>0.344001</td>\n",
       "      <td>0.218409</td>\n",
       "      <td>0.297207</td>\n",
       "      <td>0.231374</td>\n",
       "      <td>12.209906</td>\n",
       "      <td>12.016924</td>\n",
       "      <td>3701.982476</td>\n",
       "      <td>4371.342204</td>\n",
       "      <td>4026.886727</td>\n",
       "      <td>0.104338</td>\n",
       "      <td>1.397825</td>\n",
       "      <td>0.0</td>\n",
       "    </tr>\n",
       "    <tr>\n",
       "      <th>min</th>\n",
       "      <td>4.382924</td>\n",
       "      <td>0.090909</td>\n",
       "      <td>0.000000</td>\n",
       "      <td>0.000000</td>\n",
       "      <td>0.000000</td>\n",
       "      <td>0.000000</td>\n",
       "      <td>0.000000</td>\n",
       "      <td>0.000000</td>\n",
       "      <td>0.000000</td>\n",
       "      <td>0.000000</td>\n",
       "      <td>0.000000</td>\n",
       "      <td>0.000000</td>\n",
       "      <td>50.000000</td>\n",
       "      <td>0.000000</td>\n",
       "      <td>16.950090</td>\n",
       "      <td>0.000000</td>\n",
       "      <td>6.000000</td>\n",
       "      <td>0.0</td>\n",
       "    </tr>\n",
       "    <tr>\n",
       "      <th>25%</th>\n",
       "      <td>2437.750644</td>\n",
       "      <td>1.000000</td>\n",
       "      <td>0.000000</td>\n",
       "      <td>0.000000</td>\n",
       "      <td>0.000000</td>\n",
       "      <td>2236.145259</td>\n",
       "      <td>0.000000</td>\n",
       "      <td>0.000000</td>\n",
       "      <td>0.000000</td>\n",
       "      <td>0.300000</td>\n",
       "      <td>7.000000</td>\n",
       "      <td>0.000000</td>\n",
       "      <td>5000.000000</td>\n",
       "      <td>1194.040750</td>\n",
       "      <td>753.530747</td>\n",
       "      <td>0.000000</td>\n",
       "      <td>12.000000</td>\n",
       "      <td>0.0</td>\n",
       "    </tr>\n",
       "    <tr>\n",
       "      <th>50%</th>\n",
       "      <td>4175.826879</td>\n",
       "      <td>1.000000</td>\n",
       "      <td>61.990000</td>\n",
       "      <td>0.000000</td>\n",
       "      <td>0.000000</td>\n",
       "      <td>3553.203852</td>\n",
       "      <td>0.083333</td>\n",
       "      <td>0.000000</td>\n",
       "      <td>0.000000</td>\n",
       "      <td>0.416667</td>\n",
       "      <td>11.000000</td>\n",
       "      <td>1.000000</td>\n",
       "      <td>7000.000000</td>\n",
       "      <td>1962.972636</td>\n",
       "      <td>1296.586971</td>\n",
       "      <td>0.000000</td>\n",
       "      <td>12.000000</td>\n",
       "      <td>0.0</td>\n",
       "    </tr>\n",
       "    <tr>\n",
       "      <th>75%</th>\n",
       "      <td>6045.192228</td>\n",
       "      <td>1.000000</td>\n",
       "      <td>598.500000</td>\n",
       "      <td>307.800000</td>\n",
       "      <td>114.000000</td>\n",
       "      <td>5465.141893</td>\n",
       "      <td>0.500000</td>\n",
       "      <td>0.166667</td>\n",
       "      <td>0.250000</td>\n",
       "      <td>0.636364</td>\n",
       "      <td>17.000000</td>\n",
       "      <td>9.000000</td>\n",
       "      <td>9500.000000</td>\n",
       "      <td>4114.602852</td>\n",
       "      <td>2012.365718</td>\n",
       "      <td>0.000000</td>\n",
       "      <td>12.000000</td>\n",
       "      <td>0.0</td>\n",
       "    </tr>\n",
       "    <tr>\n",
       "      <th>max</th>\n",
       "      <td>16304.889250</td>\n",
       "      <td>1.000000</td>\n",
       "      <td>5197.220000</td>\n",
       "      <td>4139.560000</td>\n",
       "      <td>4059.930000</td>\n",
       "      <td>47137.211760</td>\n",
       "      <td>1.000000</td>\n",
       "      <td>1.000000</td>\n",
       "      <td>1.000000</td>\n",
       "      <td>1.500000</td>\n",
       "      <td>123.000000</td>\n",
       "      <td>91.000000</td>\n",
       "      <td>21500.000000</td>\n",
       "      <td>39048.597620</td>\n",
       "      <td>61031.618600</td>\n",
       "      <td>1.000000</td>\n",
       "      <td>12.000000</td>\n",
       "      <td>0.0</td>\n",
       "    </tr>\n",
       "  </tbody>\n",
       "</table>\n",
       "</div>"
      ],
      "text/plain": [
       "            BALANCE  BALANCE_FREQUENCY    PURCHASES  ONEOFF_PURCHASES  \\\n",
       "count   1245.000000        1245.000000  1245.000000       1245.000000   \n",
       "mean    4510.612798           0.963486   462.647357        300.127390   \n",
       "std     2723.982121           0.107602   801.070727        618.223133   \n",
       "min        4.382924           0.090909     0.000000          0.000000   \n",
       "25%     2437.750644           1.000000     0.000000          0.000000   \n",
       "50%     4175.826879           1.000000    61.990000          0.000000   \n",
       "75%     6045.192228           1.000000   598.500000        307.800000   \n",
       "max    16304.889250           1.000000  5197.220000       4139.560000   \n",
       "\n",
       "       INSTALLMENTS_PURCHASES  CASH_ADVANCE  PURCHASES_FREQUENCY  \\\n",
       "count             1245.000000   1245.000000          1245.000000   \n",
       "mean               162.619301   4401.478579             0.266258   \n",
       "std                393.696010   3589.270500             0.344001   \n",
       "min                  0.000000      0.000000             0.000000   \n",
       "25%                  0.000000   2236.145259             0.000000   \n",
       "50%                  0.000000   3553.203852             0.083333   \n",
       "75%                114.000000   5465.141893             0.500000   \n",
       "max               4059.930000  47137.211760             1.000000   \n",
       "\n",
       "       ONEOFF_PURCHASES_FREQUENCY  PURCHASES_INSTALLMENTS_FREQUENCY  \\\n",
       "count                 1245.000000                       1245.000000   \n",
       "mean                     0.129829                          0.166187   \n",
       "std                      0.218409                          0.297207   \n",
       "min                      0.000000                          0.000000   \n",
       "25%                      0.000000                          0.000000   \n",
       "50%                      0.000000                          0.000000   \n",
       "75%                      0.166667                          0.250000   \n",
       "max                      1.000000                          1.000000   \n",
       "\n",
       "       CASH_ADVANCE_FREQUENCY  CASH_ADVANCE_TRX  PURCHASES_TRX  CREDIT_LIMIT  \\\n",
       "count             1245.000000       1245.000000    1245.000000   1245.000000   \n",
       "mean                 0.470904         13.771084       6.703614   7458.798832   \n",
       "std                  0.231374         12.209906      12.016924   3701.982476   \n",
       "min                  0.000000          0.000000       0.000000     50.000000   \n",
       "25%                  0.300000          7.000000       0.000000   5000.000000   \n",
       "50%                  0.416667         11.000000       1.000000   7000.000000   \n",
       "75%                  0.636364         17.000000       9.000000   9500.000000   \n",
       "max                  1.500000        123.000000      91.000000  21500.000000   \n",
       "\n",
       "           PAYMENTS  MINIMUM_PAYMENTS  PRC_FULL_PAYMENT       TENURE  cluster  \n",
       "count   1245.000000       1245.000000       1245.000000  1245.000000   1245.0  \n",
       "mean    3542.319312       2059.693604          0.034947    11.439357      0.0  \n",
       "std     4371.342204       4026.886727          0.104338     1.397825      0.0  \n",
       "min        0.000000         16.950090          0.000000     6.000000      0.0  \n",
       "25%     1194.040750        753.530747          0.000000    12.000000      0.0  \n",
       "50%     1962.972636       1296.586971          0.000000    12.000000      0.0  \n",
       "75%     4114.602852       2012.365718          0.000000    12.000000      0.0  \n",
       "max    39048.597620      61031.618600          1.000000    12.000000      0.0  "
      ]
     },
     "execution_count": 140,
     "metadata": {},
     "output_type": "execute_result"
    }
   ],
   "source": [
    "cero.describe()"
   ]
  },
  {
   "cell_type": "code",
   "execution_count": 142,
   "metadata": {},
   "outputs": [
    {
     "data": {
      "text/html": [
       "<div>\n",
       "<style scoped>\n",
       "    .dataframe tbody tr th:only-of-type {\n",
       "        vertical-align: middle;\n",
       "    }\n",
       "\n",
       "    .dataframe tbody tr th {\n",
       "        vertical-align: top;\n",
       "    }\n",
       "\n",
       "    .dataframe thead th {\n",
       "        text-align: right;\n",
       "    }\n",
       "</style>\n",
       "<table border=\"1\" class=\"dataframe\">\n",
       "  <thead>\n",
       "    <tr style=\"text-align: right;\">\n",
       "      <th></th>\n",
       "      <th>BALANCE</th>\n",
       "      <th>BALANCE_FREQUENCY</th>\n",
       "      <th>PURCHASES</th>\n",
       "      <th>ONEOFF_PURCHASES</th>\n",
       "      <th>INSTALLMENTS_PURCHASES</th>\n",
       "      <th>CASH_ADVANCE</th>\n",
       "      <th>PURCHASES_FREQUENCY</th>\n",
       "      <th>ONEOFF_PURCHASES_FREQUENCY</th>\n",
       "      <th>PURCHASES_INSTALLMENTS_FREQUENCY</th>\n",
       "      <th>CASH_ADVANCE_FREQUENCY</th>\n",
       "      <th>CASH_ADVANCE_TRX</th>\n",
       "      <th>PURCHASES_TRX</th>\n",
       "      <th>CREDIT_LIMIT</th>\n",
       "      <th>PAYMENTS</th>\n",
       "      <th>MINIMUM_PAYMENTS</th>\n",
       "      <th>PRC_FULL_PAYMENT</th>\n",
       "      <th>TENURE</th>\n",
       "      <th>cluster</th>\n",
       "    </tr>\n",
       "  </thead>\n",
       "  <tbody>\n",
       "    <tr>\n",
       "      <th>count</th>\n",
       "      <td>502.000000</td>\n",
       "      <td>502.000000</td>\n",
       "      <td>502.000000</td>\n",
       "      <td>502.000000</td>\n",
       "      <td>502.000000</td>\n",
       "      <td>502.000000</td>\n",
       "      <td>502.000000</td>\n",
       "      <td>502.000000</td>\n",
       "      <td>502.000000</td>\n",
       "      <td>502.000000</td>\n",
       "      <td>502.000000</td>\n",
       "      <td>502.000000</td>\n",
       "      <td>502.000000</td>\n",
       "      <td>502.000000</td>\n",
       "      <td>502.000000</td>\n",
       "      <td>502.000000</td>\n",
       "      <td>502.000000</td>\n",
       "      <td>502.0</td>\n",
       "    </tr>\n",
       "    <tr>\n",
       "      <th>mean</th>\n",
       "      <td>3407.930310</td>\n",
       "      <td>0.988404</td>\n",
       "      <td>6901.170916</td>\n",
       "      <td>4516.913486</td>\n",
       "      <td>2385.452649</td>\n",
       "      <td>774.694615</td>\n",
       "      <td>0.954352</td>\n",
       "      <td>0.726123</td>\n",
       "      <td>0.808566</td>\n",
       "      <td>0.084975</td>\n",
       "      <td>2.368526</td>\n",
       "      <td>82.980080</td>\n",
       "      <td>9548.705179</td>\n",
       "      <td>6730.862051</td>\n",
       "      <td>1834.510601</td>\n",
       "      <td>0.286595</td>\n",
       "      <td>11.960159</td>\n",
       "      <td>3.0</td>\n",
       "    </tr>\n",
       "    <tr>\n",
       "      <th>std</th>\n",
       "      <td>3243.569668</td>\n",
       "      <td>0.055035</td>\n",
       "      <td>5650.878331</td>\n",
       "      <td>5025.284702</td>\n",
       "      <td>2525.965622</td>\n",
       "      <td>1971.849519</td>\n",
       "      <td>0.122269</td>\n",
       "      <td>0.293037</td>\n",
       "      <td>0.293432</td>\n",
       "      <td>0.164585</td>\n",
       "      <td>6.239854</td>\n",
       "      <td>53.573458</td>\n",
       "      <td>4696.047019</td>\n",
       "      <td>6423.449833</td>\n",
       "      <td>4730.508626</td>\n",
       "      <td>0.392343</td>\n",
       "      <td>0.407522</td>\n",
       "      <td>0.0</td>\n",
       "    </tr>\n",
       "    <tr>\n",
       "      <th>min</th>\n",
       "      <td>21.311946</td>\n",
       "      <td>0.272727</td>\n",
       "      <td>900.870000</td>\n",
       "      <td>0.000000</td>\n",
       "      <td>0.000000</td>\n",
       "      <td>0.000000</td>\n",
       "      <td>0.166667</td>\n",
       "      <td>0.000000</td>\n",
       "      <td>0.000000</td>\n",
       "      <td>0.000000</td>\n",
       "      <td>0.000000</td>\n",
       "      <td>3.000000</td>\n",
       "      <td>1000.000000</td>\n",
       "      <td>0.000000</td>\n",
       "      <td>53.628070</td>\n",
       "      <td>0.000000</td>\n",
       "      <td>6.000000</td>\n",
       "      <td>3.0</td>\n",
       "    </tr>\n",
       "    <tr>\n",
       "      <th>25%</th>\n",
       "      <td>819.078818</td>\n",
       "      <td>1.000000</td>\n",
       "      <td>4020.217500</td>\n",
       "      <td>1937.545000</td>\n",
       "      <td>840.787500</td>\n",
       "      <td>0.000000</td>\n",
       "      <td>1.000000</td>\n",
       "      <td>0.583333</td>\n",
       "      <td>0.750000</td>\n",
       "      <td>0.000000</td>\n",
       "      <td>0.000000</td>\n",
       "      <td>48.250000</td>\n",
       "      <td>6000.000000</td>\n",
       "      <td>3366.276695</td>\n",
       "      <td>237.210920</td>\n",
       "      <td>0.000000</td>\n",
       "      <td>12.000000</td>\n",
       "      <td>3.0</td>\n",
       "    </tr>\n",
       "    <tr>\n",
       "      <th>50%</th>\n",
       "      <td>2424.074005</td>\n",
       "      <td>1.000000</td>\n",
       "      <td>5265.415000</td>\n",
       "      <td>3162.200000</td>\n",
       "      <td>1690.050000</td>\n",
       "      <td>0.000000</td>\n",
       "      <td>1.000000</td>\n",
       "      <td>0.833333</td>\n",
       "      <td>1.000000</td>\n",
       "      <td>0.000000</td>\n",
       "      <td>0.000000</td>\n",
       "      <td>71.000000</td>\n",
       "      <td>9000.000000</td>\n",
       "      <td>4830.216631</td>\n",
       "      <td>705.335747</td>\n",
       "      <td>0.000000</td>\n",
       "      <td>12.000000</td>\n",
       "      <td>3.0</td>\n",
       "    </tr>\n",
       "    <tr>\n",
       "      <th>75%</th>\n",
       "      <td>5056.493876</td>\n",
       "      <td>1.000000</td>\n",
       "      <td>7673.762500</td>\n",
       "      <td>5256.555000</td>\n",
       "      <td>2973.847500</td>\n",
       "      <td>470.286557</td>\n",
       "      <td>1.000000</td>\n",
       "      <td>1.000000</td>\n",
       "      <td>1.000000</td>\n",
       "      <td>0.083333</td>\n",
       "      <td>2.000000</td>\n",
       "      <td>102.750000</td>\n",
       "      <td>12000.000000</td>\n",
       "      <td>7932.688199</td>\n",
       "      <td>1799.116472</td>\n",
       "      <td>0.666667</td>\n",
       "      <td>12.000000</td>\n",
       "      <td>3.0</td>\n",
       "    </tr>\n",
       "    <tr>\n",
       "      <th>max</th>\n",
       "      <td>19043.138560</td>\n",
       "      <td>1.000000</td>\n",
       "      <td>49039.570000</td>\n",
       "      <td>40761.250000</td>\n",
       "      <td>22500.000000</td>\n",
       "      <td>19513.474830</td>\n",
       "      <td>1.000000</td>\n",
       "      <td>1.000000</td>\n",
       "      <td>1.000000</td>\n",
       "      <td>1.000000</td>\n",
       "      <td>62.000000</td>\n",
       "      <td>358.000000</td>\n",
       "      <td>30000.000000</td>\n",
       "      <td>50721.483360</td>\n",
       "      <td>76406.207520</td>\n",
       "      <td>1.000000</td>\n",
       "      <td>12.000000</td>\n",
       "      <td>3.0</td>\n",
       "    </tr>\n",
       "  </tbody>\n",
       "</table>\n",
       "</div>"
      ],
      "text/plain": [
       "            BALANCE  BALANCE_FREQUENCY     PURCHASES  ONEOFF_PURCHASES  \\\n",
       "count    502.000000         502.000000    502.000000        502.000000   \n",
       "mean    3407.930310           0.988404   6901.170916       4516.913486   \n",
       "std     3243.569668           0.055035   5650.878331       5025.284702   \n",
       "min       21.311946           0.272727    900.870000          0.000000   \n",
       "25%      819.078818           1.000000   4020.217500       1937.545000   \n",
       "50%     2424.074005           1.000000   5265.415000       3162.200000   \n",
       "75%     5056.493876           1.000000   7673.762500       5256.555000   \n",
       "max    19043.138560           1.000000  49039.570000      40761.250000   \n",
       "\n",
       "       INSTALLMENTS_PURCHASES  CASH_ADVANCE  PURCHASES_FREQUENCY  \\\n",
       "count              502.000000    502.000000           502.000000   \n",
       "mean              2385.452649    774.694615             0.954352   \n",
       "std               2525.965622   1971.849519             0.122269   \n",
       "min                  0.000000      0.000000             0.166667   \n",
       "25%                840.787500      0.000000             1.000000   \n",
       "50%               1690.050000      0.000000             1.000000   \n",
       "75%               2973.847500    470.286557             1.000000   \n",
       "max              22500.000000  19513.474830             1.000000   \n",
       "\n",
       "       ONEOFF_PURCHASES_FREQUENCY  PURCHASES_INSTALLMENTS_FREQUENCY  \\\n",
       "count                  502.000000                        502.000000   \n",
       "mean                     0.726123                          0.808566   \n",
       "std                      0.293037                          0.293432   \n",
       "min                      0.000000                          0.000000   \n",
       "25%                      0.583333                          0.750000   \n",
       "50%                      0.833333                          1.000000   \n",
       "75%                      1.000000                          1.000000   \n",
       "max                      1.000000                          1.000000   \n",
       "\n",
       "       CASH_ADVANCE_FREQUENCY  CASH_ADVANCE_TRX  PURCHASES_TRX  CREDIT_LIMIT  \\\n",
       "count              502.000000        502.000000     502.000000    502.000000   \n",
       "mean                 0.084975          2.368526      82.980080   9548.705179   \n",
       "std                  0.164585          6.239854      53.573458   4696.047019   \n",
       "min                  0.000000          0.000000       3.000000   1000.000000   \n",
       "25%                  0.000000          0.000000      48.250000   6000.000000   \n",
       "50%                  0.000000          0.000000      71.000000   9000.000000   \n",
       "75%                  0.083333          2.000000     102.750000  12000.000000   \n",
       "max                  1.000000         62.000000     358.000000  30000.000000   \n",
       "\n",
       "           PAYMENTS  MINIMUM_PAYMENTS  PRC_FULL_PAYMENT      TENURE  cluster  \n",
       "count    502.000000        502.000000        502.000000  502.000000    502.0  \n",
       "mean    6730.862051       1834.510601          0.286595   11.960159      3.0  \n",
       "std     6423.449833       4730.508626          0.392343    0.407522      0.0  \n",
       "min        0.000000         53.628070          0.000000    6.000000      3.0  \n",
       "25%     3366.276695        237.210920          0.000000   12.000000      3.0  \n",
       "50%     4830.216631        705.335747          0.000000   12.000000      3.0  \n",
       "75%     7932.688199       1799.116472          0.666667   12.000000      3.0  \n",
       "max    50721.483360      76406.207520          1.000000   12.000000      3.0  "
      ]
     },
     "execution_count": 142,
     "metadata": {},
     "output_type": "execute_result"
    }
   ],
   "source": [
    "Tres.describe()"
   ]
  },
  {
   "cell_type": "markdown",
   "metadata": {},
   "source": [
    "**Respuesta 4**\n",
    "\n",
    "Desde el PCA sabemos que las variables más importantes son los avances que se hacen en efectivo y las compras realizadas con la tarjeta, por lo que podemos dirigir estrategias a ese tipo de transacciones para aumentar la fidelización y también la motivación de uso de la tarjeta.\n",
    "\n",
    "Inicialmente se puede proponer que a partir de cierto dinero superado en compras o a partir de cierto número de transacciones realizadas con la tarjeta, la cuota de manejo que se paga por dicha tarjeta se puede eliminar. Otro aspecto a proponer sería la reducción de tasa de intereses teniendo en cuenta las mismas variables."
   ]
  }
 ],
 "metadata": {
  "kernelspec": {
   "display_name": "base",
   "language": "python",
   "name": "python3"
  },
  "language_info": {
   "codemirror_mode": {
    "name": "ipython",
    "version": 3
   },
   "file_extension": ".py",
   "mimetype": "text/x-python",
   "name": "python",
   "nbconvert_exporter": "python",
   "pygments_lexer": "ipython3",
   "version": "3.8.3"
  }
 },
 "nbformat": 4,
 "nbformat_minor": 2
}
