{
  "nbformat": 4,
  "nbformat_minor": 0,
  "metadata": {
    "colab": {
      "provenance": []
    },
    "kernelspec": {
      "name": "python3",
      "display_name": "Python 3"
    },
    "language_info": {
      "name": "python"
    }
  },
  "cells": [
    {
      "cell_type": "markdown",
      "source": [
        "#TRABAJO FINAL ANALITICA <br>\n",
        "##Por: AURA LUZ MORENO DÍAZ\n"
      ],
      "metadata": {
        "id": "PdjmwImrnU4T"
      }
    },
    {
      "cell_type": "markdown",
      "source": [
        "# Datos\n",
        "Los datos que se utilizará contiene el comportamiento de uso de aproximadamente 9.000 usuarios de tarjetas de crédito en dos periodos de tiempos diferentes.\n",
        "descripción campos: credit_card_clientes_dictionary.txt\n",
        "carpeta: https://github.com/juancamiloespana/LEA2/tree/master/_data\n",
        "\n",
        "Dataset 1: credit_card_clients.csv\n",
        "\n",
        "La variable ‘PURCHASES’ fue calculada de Ene-Jun de 2023\n",
        "El resto de las variables fueron calculadas seis meses antes Jul-Dic 2022\n",
        "\n",
        "Dataset 2: credit_card_clients2.csv\n",
        "\n",
        "Todas las variables fueron calculadas en el periodo Ene-Jun 2023\n"
      ],
      "metadata": {
        "id": "B-_1sdytnJun"
      }
    },
    {
      "cell_type": "markdown",
      "source": [
        "Trabajo a desarrollar:\n",
        "\n",
        "La empresa quiere predecir cuántos será el monto de compras de cada cliente “PURCHASES” en el periodo de Jul-Dic 20223. Esta variable es fundamental para la empresa porque las compras del cliente son proporcionales a los ingresos que genera a la empresa. Con estas predicciones se quieren definir estrategias de fidelización, en el caso de los clientes que mayores compras vayan a tener, y estrategias para mejorar el uso de las tarjetas en los clientes que van a tener menor cantidad de compras.\n",
        "\n",
        "Dentro de sus análisis tenga en cuenta analizar (como mínimo) los siguientes puntos:\n",
        "\n",
        "1. Utilizando redes neuronales, entrene el mejor modelo posible que le permita predecir las compras “PURCHASES” que va a tener un cliente en los próximos 6 meses, utilizando la información de 6 meses atrás.\n",
        "2. Analice el desempeño del modelo entrenado y saque algunas conclusiones.\n",
        "3. Realice la predicción de las compras “PURCHASES” de los clientes en el periodo Jul-Dic 2023 e identifique el top 10 de clientes que más compras van a tener y top 10 de los clientes que menos compras van a tener.\n",
        "4. Defina que estrategias implementaría para fidelizar clientes con muchas compras y qué estrategias implementaría para activar clientes que están usando muy poco las tarjetas.\n",
        "\n"
      ],
      "metadata": {
        "id": "7-dfcWd_nPE-"
      }
    },
    {
      "cell_type": "code",
      "source": [
        "!pip install keras_tuner\n",
        "\n",
        "import pandas as pd\n",
        "import numpy as np\n",
        "import seaborn as sns\n",
        "import matplotlib.pyplot as plt\n",
        "\n",
        "from sklearn.model_selection import train_test_split\n",
        "from sklearn.preprocessing import StandardScaler\n",
        "\n",
        "import tensorflow as tf\n",
        "from tensorflow import keras\n",
        "import keras_tuner as kt"
      ],
      "metadata": {
        "colab": {
          "base_uri": "https://localhost:8080/"
        },
        "id": "1neEpd3qhPG1",
        "outputId": "602a96b9-f58c-45a3-84a2-20c1e49ea50d"
      },
      "execution_count": 171,
      "outputs": [
        {
          "output_type": "stream",
          "name": "stdout",
          "text": [
            "Requirement already satisfied: keras_tuner in /usr/local/lib/python3.10/dist-packages (1.4.6)\n",
            "Requirement already satisfied: keras in /usr/local/lib/python3.10/dist-packages (from keras_tuner) (2.14.0)\n",
            "Requirement already satisfied: packaging in /usr/local/lib/python3.10/dist-packages (from keras_tuner) (23.2)\n",
            "Requirement already satisfied: requests in /usr/local/lib/python3.10/dist-packages (from keras_tuner) (2.31.0)\n",
            "Requirement already satisfied: kt-legacy in /usr/local/lib/python3.10/dist-packages (from keras_tuner) (1.0.5)\n",
            "Requirement already satisfied: charset-normalizer<4,>=2 in /usr/local/lib/python3.10/dist-packages (from requests->keras_tuner) (3.3.2)\n",
            "Requirement already satisfied: idna<4,>=2.5 in /usr/local/lib/python3.10/dist-packages (from requests->keras_tuner) (3.4)\n",
            "Requirement already satisfied: urllib3<3,>=1.21.1 in /usr/local/lib/python3.10/dist-packages (from requests->keras_tuner) (2.0.7)\n",
            "Requirement already satisfied: certifi>=2017.4.17 in /usr/local/lib/python3.10/dist-packages (from requests->keras_tuner) (2023.7.22)\n"
          ]
        }
      ]
    },
    {
      "cell_type": "code",
      "source": [
        "url=\"https://raw.githubusercontent.com/juancamiloespana/LEA2/master/_data/credit_card_clients.csv\"\n",
        "credit_card_data = pd.read_csv(url)"
      ],
      "metadata": {
        "id": "J0UH1tNDhR6n"
      },
      "execution_count": 172,
      "outputs": []
    },
    {
      "cell_type": "code",
      "source": [
        "credit_card_data.dropna(inplace=True)"
      ],
      "metadata": {
        "id": "_wR9RImv9qKv"
      },
      "execution_count": 173,
      "outputs": []
    },
    {
      "cell_type": "code",
      "source": [
        "credit_card_data.info()"
      ],
      "metadata": {
        "colab": {
          "base_uri": "https://localhost:8080/"
        },
        "id": "g8GBkzcOhdvF",
        "outputId": "fedd2995-805b-4b06-d8e0-386d65e0a9c8"
      },
      "execution_count": 174,
      "outputs": [
        {
          "output_type": "stream",
          "name": "stdout",
          "text": [
            "<class 'pandas.core.frame.DataFrame'>\n",
            "Int64Index: 8636 entries, 0 to 8949\n",
            "Data columns (total 18 columns):\n",
            " #   Column                            Non-Null Count  Dtype  \n",
            "---  ------                            --------------  -----  \n",
            " 0   CUST_ID                           8636 non-null   object \n",
            " 1   BALANCE                           8636 non-null   float64\n",
            " 2   BALANCE_FREQUENCY                 8636 non-null   float64\n",
            " 3   PURCHASES                         8636 non-null   float64\n",
            " 4   ONEOFF_PURCHASES                  8636 non-null   float64\n",
            " 5   INSTALLMENTS_PURCHASES            8636 non-null   float64\n",
            " 6   CASH_ADVANCE                      8636 non-null   float64\n",
            " 7   PURCHASES_FREQUENCY               8636 non-null   float64\n",
            " 8   ONEOFF_PURCHASES_FREQUENCY        8636 non-null   float64\n",
            " 9   PURCHASES_INSTALLMENTS_FREQUENCY  8636 non-null   float64\n",
            " 10  CASH_ADVANCE_FREQUENCY            8636 non-null   float64\n",
            " 11  CASH_ADVANCE_TRX                  8636 non-null   int64  \n",
            " 12  PURCHASES_TRX                     8636 non-null   int64  \n",
            " 13  CREDIT_LIMIT                      8636 non-null   float64\n",
            " 14  PAYMENTS                          8636 non-null   float64\n",
            " 15  MINIMUM_PAYMENTS                  8636 non-null   float64\n",
            " 16  PRC_FULL_PAYMENT                  8636 non-null   float64\n",
            " 17  TENURE                            8636 non-null   int64  \n",
            "dtypes: float64(14), int64(3), object(1)\n",
            "memory usage: 1.3+ MB\n"
          ]
        }
      ]
    },
    {
      "cell_type": "code",
      "source": [
        "credit_card_data_subset = credit_card_data.sample(n=200)\n",
        "credit_card_data_subset.to_csv('credit_card_data_subset.csv', index=False)\n",
        "credit_card_data_subset.info()"
      ],
      "metadata": {
        "colab": {
          "base_uri": "https://localhost:8080/"
        },
        "id": "ED__Oj5z9mAe",
        "outputId": "e68f6eb5-4eab-4d9a-a9ad-6ab4c7ff5895"
      },
      "execution_count": 175,
      "outputs": [
        {
          "output_type": "stream",
          "name": "stdout",
          "text": [
            "<class 'pandas.core.frame.DataFrame'>\n",
            "Int64Index: 200 entries, 7972 to 2127\n",
            "Data columns (total 18 columns):\n",
            " #   Column                            Non-Null Count  Dtype  \n",
            "---  ------                            --------------  -----  \n",
            " 0   CUST_ID                           200 non-null    object \n",
            " 1   BALANCE                           200 non-null    float64\n",
            " 2   BALANCE_FREQUENCY                 200 non-null    float64\n",
            " 3   PURCHASES                         200 non-null    float64\n",
            " 4   ONEOFF_PURCHASES                  200 non-null    float64\n",
            " 5   INSTALLMENTS_PURCHASES            200 non-null    float64\n",
            " 6   CASH_ADVANCE                      200 non-null    float64\n",
            " 7   PURCHASES_FREQUENCY               200 non-null    float64\n",
            " 8   ONEOFF_PURCHASES_FREQUENCY        200 non-null    float64\n",
            " 9   PURCHASES_INSTALLMENTS_FREQUENCY  200 non-null    float64\n",
            " 10  CASH_ADVANCE_FREQUENCY            200 non-null    float64\n",
            " 11  CASH_ADVANCE_TRX                  200 non-null    int64  \n",
            " 12  PURCHASES_TRX                     200 non-null    int64  \n",
            " 13  CREDIT_LIMIT                      200 non-null    float64\n",
            " 14  PAYMENTS                          200 non-null    float64\n",
            " 15  MINIMUM_PAYMENTS                  200 non-null    float64\n",
            " 16  PRC_FULL_PAYMENT                  200 non-null    float64\n",
            " 17  TENURE                            200 non-null    int64  \n",
            "dtypes: float64(14), int64(3), object(1)\n",
            "memory usage: 29.7+ KB\n"
          ]
        }
      ]
    },
    {
      "cell_type": "code",
      "source": [
        "y_credit = credit_card_data['PURCHASES']\n",
        "X_credit = credit_card_data.drop('PURCHASES', axis=1)"
      ],
      "metadata": {
        "id": "XRCVk3cshkQi"
      },
      "execution_count": 176,
      "outputs": []
    },
    {
      "cell_type": "code",
      "source": [
        "numeric_columns = X_credit.select_dtypes(include=[np.number]).columns\n",
        "X_credit = X_credit[numeric_columns]"
      ],
      "metadata": {
        "id": "gSOrGWa898-x"
      },
      "execution_count": 177,
      "outputs": []
    },
    {
      "cell_type": "code",
      "source": [
        "scaler = StandardScaler().fit(X_credit)\n",
        "X_credit_scaled = scaler.transform(X_credit)"
      ],
      "metadata": {
        "id": "pFzjzcH_hmRY"
      },
      "execution_count": 178,
      "outputs": []
    },
    {
      "cell_type": "code",
      "source": [
        "#Exportar el escalador\n",
        "import joblib\n",
        "\n",
        "joblib.dump(scaler, \"/content/drive/MyDrive/Colab Notebooks/ANALITICA 2/TFINAL/sc.joblib\")"
      ],
      "metadata": {
        "id": "CrJ_n6Z7jyCW",
        "colab": {
          "base_uri": "https://localhost:8080/"
        },
        "outputId": "d9cffaf6-c313-45ce-e095-f19f2502f3b2"
      },
      "execution_count": 179,
      "outputs": [
        {
          "output_type": "execute_result",
          "data": {
            "text/plain": [
              "['/content/drive/MyDrive/Colab Notebooks/ANALITICA 2/TFINAL/sc.joblib']"
            ]
          },
          "metadata": {},
          "execution_count": 179
        }
      ]
    },
    {
      "cell_type": "code",
      "source": [
        "# Dividir los datos en conjuntos de entrenamiento y prueba\n",
        "X_credit_train, X_credit_test, y_credit_train, y_credit_test = train_test_split(\n",
        "    X_credit_scaled, y_credit, test_size=0.2, random_state=42\n",
        ")"
      ],
      "metadata": {
        "id": "FwLg7Kiyhoe1"
      },
      "execution_count": 180,
      "outputs": []
    },
    {
      "cell_type": "markdown",
      "source": [
        "Las redes neuronales están compuestas de varias capas de neuronas. En la capa cero generalmente tenemos los parámetros de entrada y el escalado de las variables<br>\n",
        "En las capas intermedias u ocultas tenemos funciones de activación para cada una. Los interceptos o BIAS se definen para cada neurona.\n",
        "\n",
        "En este caso tenemos un problema de **REGRESIÓN** porque estamos tratando de predecir un valor (que es mayor a cero) donde se predicen las **compras**"
      ],
      "metadata": {
        "id": "U6g5b7rA_Anz"
      }
    },
    {
      "cell_type": "code",
      "source": [
        "# Definir la arquitectura del modelo de red neuronal\n",
        "def build_credit_model(hp):\n",
        "    dor = hp.Float('DOR', min_value=0.1, max_value=0.6, step=0.1)\n",
        "    opt = hp.Choice('opt', ['adam', 'sgd'])\n",
        "\n",
        "    model = keras.models.Sequential([\n",
        "        keras.layers.Input(shape=(X_credit.shape[1],)),\n",
        "        keras.layers.Dense(128, activation='relu', kernel_regularizer=keras.regularizers.l2(0.1)),\n",
        "        keras.layers.Dropout(dor),\n",
        "        keras.layers.Dense(64, activation='relu'),\n",
        "        keras.layers.Dense(32, activation=\"relu\"),\n",
        "        keras.layers.Dense(1, activation=\"linear\")  # Cambiado a 'linear' para problemas de regresión\n",
        "    ])\n",
        "\n",
        "    if opt == 'adam':\n",
        "        optimizer = keras.optimizers.Adam(learning_rate=0.001)\n",
        "    else:\n",
        "        optimizer = keras.optimizers.SGD(learning_rate=0.001)\n",
        "\n",
        "    model.compile(optimizer=optimizer, loss=keras.losses.MeanSquaredError(), metrics=[keras.metrics.MeanAbsoluteError()])\n",
        "    return model"
      ],
      "metadata": {
        "id": "YkMhw6rIiWun"
      },
      "execution_count": 181,
      "outputs": []
    },
    {
      "cell_type": "markdown",
      "source": [
        "Aquí estableceremos los parámetros, es decir:\n",
        "\n",
        "\n",
        "*   Weights o pesos\n",
        "*   BIAS o Interceptos\n",
        "\n",
        "Además de esto, Definimos los hiperparámetros de optimización: función de pérdida y la métrica.\n",
        "\n",
        "También tenemos un learning rate que ajustamos en 0.01 como es la recomendación general.\n",
        "\n",
        "Y los EPOCH que deben estar entre 5 y 10, para este caso elegimos 10"
      ],
      "metadata": {
        "id": "qmIm-QzV_Dr4"
      }
    },
    {
      "cell_type": "markdown",
      "source": [
        "Entre las métricas tenemos para regresión: RMSE, MAPE y MAE<br>\n",
        "En este caso, se usa MSE o error cuadrático medio que es muy eficiente para problemas de REGRESIÓN como es el caso de nosotros."
      ],
      "metadata": {
        "id": "100t_8oL_G6I"
      }
    },
    {
      "cell_type": "code",
      "source": [
        "hyperparameters = kt.HyperParameters()\n",
        "loss = keras.losses.MeanSquaredError()\n",
        "metric_name = \"mean_absolute_error\"\n",
        "metric = keras.metrics.MeanAbsoluteError(name=metric_name)\n",
        "\n",
        "tuner = kt.RandomSearch(\n",
        "    hypermodel=build_credit_model,\n",
        "    hyperparameters=hyperparameters,\n",
        "    objective=kt.Objective(metric_name, direction=\"min\"),\n",
        "    max_trials=20,\n",
        "    overwrite=True,\n",
        "    project_name=\"credit_card_results\"\n",
        ")"
      ],
      "metadata": {
        "id": "aunx7Va8iYS3"
      },
      "execution_count": 182,
      "outputs": []
    },
    {
      "cell_type": "code",
      "source": [
        "# Realizar la búsqueda de hiperparámetros\n",
        "tuner.search(X_credit_train, y_credit_train, epochs=10, validation_data=(X_credit_test, y_credit_test))\n",
        "tuner.results_summary()"
      ],
      "metadata": {
        "id": "Er1vUOSUiaR3",
        "colab": {
          "base_uri": "https://localhost:8080/"
        },
        "outputId": "2aca5d71-3ad1-4e12-c08e-fcb6588e750e"
      },
      "execution_count": 183,
      "outputs": [
        {
          "output_type": "stream",
          "name": "stdout",
          "text": [
            "Trial 10 Complete [00h 00m 07s]\n",
            "mean_absolute_error: nan\n",
            "\n",
            "Best mean_absolute_error So Far: 308.2114562988281\n",
            "Total elapsed time: 00h 01m 44s\n",
            "Results summary\n",
            "Results in ./credit_card_results\n",
            "Showing 10 best trials\n",
            "Objective(name=\"mean_absolute_error\", direction=\"min\")\n",
            "\n",
            "Trial 07 summary\n",
            "Hyperparameters:\n",
            "DOR: 0.1\n",
            "opt: adam\n",
            "Score: 308.2114562988281\n",
            "\n",
            "Trial 05 summary\n",
            "Hyperparameters:\n",
            "DOR: 0.30000000000000004\n",
            "opt: adam\n",
            "Score: 326.2607727050781\n",
            "\n",
            "Trial 00 summary\n",
            "Hyperparameters:\n",
            "DOR: 0.2\n",
            "opt: adam\n",
            "Score: 331.348876953125\n",
            "\n",
            "Trial 08 summary\n",
            "Hyperparameters:\n",
            "DOR: 0.4\n",
            "opt: adam\n",
            "Score: 334.2038879394531\n",
            "\n",
            "Trial 02 summary\n",
            "Hyperparameters:\n",
            "DOR: 0.5\n",
            "opt: adam\n",
            "Score: 347.2281799316406\n",
            "\n",
            "Trial 01 summary\n",
            "Hyperparameters:\n",
            "DOR: 0.5\n",
            "opt: sgd\n",
            "Score: nan\n",
            "\n",
            "Trial 03 summary\n",
            "Hyperparameters:\n",
            "DOR: 0.2\n",
            "opt: sgd\n",
            "Score: nan\n",
            "\n",
            "Trial 04 summary\n",
            "Hyperparameters:\n",
            "DOR: 0.1\n",
            "opt: sgd\n",
            "Score: nan\n",
            "\n",
            "Trial 06 summary\n",
            "Hyperparameters:\n",
            "DOR: 0.30000000000000004\n",
            "opt: sgd\n",
            "Score: nan\n",
            "\n",
            "Trial 09 summary\n",
            "Hyperparameters:\n",
            "DOR: 0.4\n",
            "opt: sgd\n",
            "Score: nan\n"
          ]
        }
      ]
    },
    {
      "cell_type": "code",
      "source": [
        "# Obtener el mejor modelo\n",
        "best_credit_model = tuner.get_best_models(num_models=1)[0]\n",
        "best_credit_hps = tuner.get_best_hyperparameters(1)[0]"
      ],
      "metadata": {
        "id": "azYpRp44icF8"
      },
      "execution_count": 184,
      "outputs": []
    },
    {
      "cell_type": "code",
      "source": [
        "# Mostrar detalles del mejor modelo\n",
        "best_credit_model.build()\n",
        "best_credit_model.summary()"
      ],
      "metadata": {
        "id": "kM0oVslfjJGJ",
        "colab": {
          "base_uri": "https://localhost:8080/"
        },
        "outputId": "55beff43-ce85-473a-c13c-9d170d6df383"
      },
      "execution_count": 185,
      "outputs": [
        {
          "output_type": "stream",
          "name": "stdout",
          "text": [
            "Model: \"sequential\"\n",
            "_________________________________________________________________\n",
            " Layer (type)                Output Shape              Param #   \n",
            "=================================================================\n",
            " dense (Dense)               (None, 128)               2176      \n",
            "                                                                 \n",
            " dropout (Dropout)           (None, 128)               0         \n",
            "                                                                 \n",
            " dense_1 (Dense)             (None, 64)                8256      \n",
            "                                                                 \n",
            " dense_2 (Dense)             (None, 32)                2080      \n",
            "                                                                 \n",
            " dense_3 (Dense)             (None, 1)                 33        \n",
            "                                                                 \n",
            "=================================================================\n",
            "Total params: 12545 (49.00 KB)\n",
            "Trainable params: 12545 (49.00 KB)\n",
            "Non-trainable params: 0 (0.00 Byte)\n",
            "_________________________________________________________________\n"
          ]
        }
      ]
    },
    {
      "cell_type": "code",
      "source": [
        "# Evaluar el modelo en el conjunto de prueba\n",
        "y_credit_pred = best_credit_model.predict(X_credit_test)\n",
        "y_credit_actual = np.array(y_credit_test)\n",
        "y_credit_pred = np.array(y_credit_pred)[:, 0]"
      ],
      "metadata": {
        "id": "HFP_VF_djKAZ",
        "colab": {
          "base_uri": "https://localhost:8080/"
        },
        "outputId": "c1ea4ced-53af-4170-bada-dbf0ce4a41ef"
      },
      "execution_count": 186,
      "outputs": [
        {
          "output_type": "stream",
          "name": "stdout",
          "text": [
            "54/54 [==============================] - 0s 2ms/step\n"
          ]
        }
      ]
    },
    {
      "cell_type": "code",
      "source": [
        "# Mostrar gráficos de evaluación\n",
        "import sklearn.metrics as metrics\n",
        "metrics.PredictionErrorDisplay.from_predictions(y_true=y_credit_actual, y_pred=y_credit_pred, kind=\"actual_vs_predicted\")\n",
        "metrics.PredictionErrorDisplay.from_predictions(y_true=y_credit_actual, y_pred=y_credit_pred, kind=\"residual_vs_predicted\")"
      ],
      "metadata": {
        "id": "xbzR4_ZSjLLU",
        "colab": {
          "base_uri": "https://localhost:8080/",
          "height": 898
        },
        "outputId": "9f10bbef-4f24-4638-dd1d-305236768c4c"
      },
      "execution_count": 187,
      "outputs": [
        {
          "output_type": "execute_result",
          "data": {
            "text/plain": [
              "<sklearn.metrics._plot.regression.PredictionErrorDisplay at 0x7e9e358769e0>"
            ]
          },
          "metadata": {},
          "execution_count": 187
        },
        {
          "output_type": "display_data",
          "data": {
            "text/plain": [
              "<Figure size 640x480 with 1 Axes>"
            ],
            "image/png": "[encoded data removed]"
          },
          "metadata": {}
        },
        {
          "output_type": "display_data",
          "data": {
            "text/plain": [
              "<Figure size 640x480 with 1 Axes>"
            ],
            "image/png": "[encoded data removed]"
          },
          "metadata": {}
        }
      ]
    },
    {
      "cell_type": "code",
      "source": [
        "# Cargar nuevos datos y hacer predicciones\n",
        "credit_card_data_new = pd.read_csv(\"winmodel\")\n",
        "X_new_scaled = scaler.transform(credit_card_data_new)\n",
        "pred_new_credit = best_credit_model.predict(X_new_scaled)\n",
        "credit_card_data_new[\"pred_PURCHASES\"] = pred_new_credit"
      ],
      "metadata": {
        "id": "CIy35No7jNbt",
        "colab": {
          "base_uri": "https://localhost:8080/",
          "height": 390
        },
        "outputId": "a2508b3c-3286-4e2a-ff6b-3e7d8b81cbd5"
      },
      "execution_count": 188,
      "outputs": [
        {
          "output_type": "error",
          "ename": "FileNotFoundError",
          "evalue": "ignored",
          "traceback": [
            "\u001b[0;31m---------------------------------------------------------------------------\u001b[0m",
            "\u001b[0;31mFileNotFoundError\u001b[0m                         Traceback (most recent call last)",
            "\u001b[0;32m<ipython-input-188-a7572cba403e>\u001b[0m in \u001b[0;36m<cell line: 2>\u001b[0;34m()\u001b[0m\n\u001b[1;32m      1\u001b[0m \u001b[0;31m# Cargar nuevos datos y hacer predicciones\u001b[0m\u001b[0;34m\u001b[0m\u001b[0;34m\u001b[0m\u001b[0m\n\u001b[0;32m----> 2\u001b[0;31m \u001b[0mcredit_card_data_new\u001b[0m \u001b[0;34m=\u001b[0m \u001b[0mpd\u001b[0m\u001b[0;34m.\u001b[0m\u001b[0mread_csv\u001b[0m\u001b[0;34m(\u001b[0m\u001b[0;34m\"winmodel\"\u001b[0m\u001b[0;34m)\u001b[0m\u001b[0;34m\u001b[0m\u001b[0;34m\u001b[0m\u001b[0m\n\u001b[0m\u001b[1;32m      3\u001b[0m \u001b[0mX_new_scaled\u001b[0m \u001b[0;34m=\u001b[0m \u001b[0mscaler\u001b[0m\u001b[0;34m.\u001b[0m\u001b[0mtransform\u001b[0m\u001b[0;34m(\u001b[0m\u001b[0mcredit_card_data_new\u001b[0m\u001b[0;34m)\u001b[0m\u001b[0;34m\u001b[0m\u001b[0;34m\u001b[0m\u001b[0m\n\u001b[1;32m      4\u001b[0m \u001b[0mpred_new_credit\u001b[0m \u001b[0;34m=\u001b[0m \u001b[0mbest_credit_model\u001b[0m\u001b[0;34m.\u001b[0m\u001b[0mpredict\u001b[0m\u001b[0;34m(\u001b[0m\u001b[0mX_new_scaled\u001b[0m\u001b[0;34m)\u001b[0m\u001b[0;34m\u001b[0m\u001b[0;34m\u001b[0m\u001b[0m\n\u001b[1;32m      5\u001b[0m \u001b[0mcredit_card_data_new\u001b[0m\u001b[0;34m[\u001b[0m\u001b[0;34m\"pred_PURCHASES\"\u001b[0m\u001b[0;34m]\u001b[0m \u001b[0;34m=\u001b[0m \u001b[0mpred_new_credit\u001b[0m\u001b[0;34m\u001b[0m\u001b[0;34m\u001b[0m\u001b[0m\n",
            "\u001b[0;32m/usr/local/lib/python3.10/dist-packages/pandas/util/_decorators.py\u001b[0m in \u001b[0;36mwrapper\u001b[0;34m(*args, **kwargs)\u001b[0m\n\u001b[1;32m    209\u001b[0m                 \u001b[0;32melse\u001b[0m\u001b[0;34m:\u001b[0m\u001b[0;34m\u001b[0m\u001b[0;34m\u001b[0m\u001b[0m\n\u001b[1;32m    210\u001b[0m                     \u001b[0mkwargs\u001b[0m\u001b[0;34m[\u001b[0m\u001b[0mnew_arg_name\u001b[0m\u001b[0;34m]\u001b[0m \u001b[0;34m=\u001b[0m \u001b[0mnew_arg_value\u001b[0m\u001b[0;34m\u001b[0m\u001b[0;34m\u001b[0m\u001b[0m\n\u001b[0;32m--> 211\u001b[0;31m             \u001b[0;32mreturn\u001b[0m \u001b[0mfunc\u001b[0m\u001b[0;34m(\u001b[0m\u001b[0;34m*\u001b[0m\u001b[0margs\u001b[0m\u001b[0;34m,\u001b[0m \u001b[0;34m**\u001b[0m\u001b[0mkwargs\u001b[0m\u001b[0;34m)\u001b[0m\u001b[0;34m\u001b[0m\u001b[0;34m\u001b[0m\u001b[0m\n\u001b[0m\u001b[1;32m    212\u001b[0m \u001b[0;34m\u001b[0m\u001b[0m\n\u001b[1;32m    213\u001b[0m         \u001b[0;32mreturn\u001b[0m \u001b[0mcast\u001b[0m\u001b[0;34m(\u001b[0m\u001b[0mF\u001b[0m\u001b[0;34m,\u001b[0m \u001b[0mwrapper\u001b[0m\u001b[0;34m)\u001b[0m\u001b[0;34m\u001b[0m\u001b[0;34m\u001b[0m\u001b[0m\n",
            "\u001b[0;32m/usr/local/lib/python3.10/dist-packages/pandas/util/_decorators.py\u001b[0m in \u001b[0;36mwrapper\u001b[0;34m(*args, **kwargs)\u001b[0m\n\u001b[1;32m    329\u001b[0m                     \u001b[0mstacklevel\u001b[0m\u001b[0;34m=\u001b[0m\u001b[0mfind_stack_level\u001b[0m\u001b[0;34m(\u001b[0m\u001b[0;34m)\u001b[0m\u001b[0;34m,\u001b[0m\u001b[0;34m\u001b[0m\u001b[0;34m\u001b[0m\u001b[0m\n\u001b[1;32m    330\u001b[0m                 )\n\u001b[0;32m--> 331\u001b[0;31m             \u001b[0;32mreturn\u001b[0m \u001b[0mfunc\u001b[0m\u001b[0;34m(\u001b[0m\u001b[0;34m*\u001b[0m\u001b[0margs\u001b[0m\u001b[0;34m,\u001b[0m \u001b[0;34m**\u001b[0m\u001b[0mkwargs\u001b[0m\u001b[0;34m)\u001b[0m\u001b[0;34m\u001b[0m\u001b[0;34m\u001b[0m\u001b[0m\n\u001b[0m\u001b[1;32m    332\u001b[0m \u001b[0;34m\u001b[0m\u001b[0m\n\u001b[1;32m    333\u001b[0m         \u001b[0;31m# error: \"Callable[[VarArg(Any), KwArg(Any)], Any]\" has no\u001b[0m\u001b[0;34m\u001b[0m\u001b[0;34m\u001b[0m\u001b[0m\n",
            "\u001b[0;32m/usr/local/lib/python3.10/dist-packages/pandas/io/parsers/readers.py\u001b[0m in \u001b[0;36mread_csv\u001b[0;34m(filepath_or_buffer, sep, delimiter, header, names, index_col, usecols, squeeze, prefix, mangle_dupe_cols, dtype, engine, converters, true_values, false_values, skipinitialspace, skiprows, skipfooter, nrows, na_values, keep_default_na, na_filter, verbose, skip_blank_lines, parse_dates, infer_datetime_format, keep_date_col, date_parser, dayfirst, cache_dates, iterator, chunksize, compression, thousands, decimal, lineterminator, quotechar, quoting, doublequote, escapechar, comment, encoding, encoding_errors, dialect, error_bad_lines, warn_bad_lines, on_bad_lines, delim_whitespace, low_memory, memory_map, float_precision, storage_options)\u001b[0m\n\u001b[1;32m    948\u001b[0m     \u001b[0mkwds\u001b[0m\u001b[0;34m.\u001b[0m\u001b[0mupdate\u001b[0m\u001b[0;34m(\u001b[0m\u001b[0mkwds_defaults\u001b[0m\u001b[0;34m)\u001b[0m\u001b[0;34m\u001b[0m\u001b[0;34m\u001b[0m\u001b[0m\n\u001b[1;32m    949\u001b[0m \u001b[0;34m\u001b[0m\u001b[0m\n\u001b[0;32m--> 950\u001b[0;31m     \u001b[0;32mreturn\u001b[0m \u001b[0m_read\u001b[0m\u001b[0;34m(\u001b[0m\u001b[0mfilepath_or_buffer\u001b[0m\u001b[0;34m,\u001b[0m \u001b[0mkwds\u001b[0m\u001b[0;34m)\u001b[0m\u001b[0;34m\u001b[0m\u001b[0;34m\u001b[0m\u001b[0m\n\u001b[0m\u001b[1;32m    951\u001b[0m \u001b[0;34m\u001b[0m\u001b[0m\n\u001b[1;32m    952\u001b[0m \u001b[0;34m\u001b[0m\u001b[0m\n",
            "\u001b[0;32m/usr/local/lib/python3.10/dist-packages/pandas/io/parsers/readers.py\u001b[0m in \u001b[0;36m_read\u001b[0;34m(filepath_or_buffer, kwds)\u001b[0m\n\u001b[1;32m    603\u001b[0m \u001b[0;34m\u001b[0m\u001b[0m\n\u001b[1;32m    604\u001b[0m     \u001b[0;31m# Create the parser.\u001b[0m\u001b[0;34m\u001b[0m\u001b[0;34m\u001b[0m\u001b[0m\n\u001b[0;32m--> 605\u001b[0;31m     \u001b[0mparser\u001b[0m \u001b[0;34m=\u001b[0m \u001b[0mTextFileReader\u001b[0m\u001b[0;34m(\u001b[0m\u001b[0mfilepath_or_buffer\u001b[0m\u001b[0;34m,\u001b[0m \u001b[0;34m**\u001b[0m\u001b[0mkwds\u001b[0m\u001b[0;34m)\u001b[0m\u001b[0;34m\u001b[0m\u001b[0;34m\u001b[0m\u001b[0m\n\u001b[0m\u001b[1;32m    606\u001b[0m \u001b[0;34m\u001b[0m\u001b[0m\n\u001b[1;32m    607\u001b[0m     \u001b[0;32mif\u001b[0m \u001b[0mchunksize\u001b[0m \u001b[0;32mor\u001b[0m \u001b[0miterator\u001b[0m\u001b[0;34m:\u001b[0m\u001b[0;34m\u001b[0m\u001b[0;34m\u001b[0m\u001b[0m\n",
            "\u001b[0;32m/usr/local/lib/python3.10/dist-packages/pandas/io/parsers/readers.py\u001b[0m in \u001b[0;36m__init__\u001b[0;34m(self, f, engine, **kwds)\u001b[0m\n\u001b[1;32m   1440\u001b[0m \u001b[0;34m\u001b[0m\u001b[0m\n\u001b[1;32m   1441\u001b[0m         \u001b[0mself\u001b[0m\u001b[0;34m.\u001b[0m\u001b[0mhandles\u001b[0m\u001b[0;34m:\u001b[0m \u001b[0mIOHandles\u001b[0m \u001b[0;34m|\u001b[0m \u001b[0;32mNone\u001b[0m \u001b[0;34m=\u001b[0m \u001b[0;32mNone\u001b[0m\u001b[0;34m\u001b[0m\u001b[0;34m\u001b[0m\u001b[0m\n\u001b[0;32m-> 1442\u001b[0;31m         \u001b[0mself\u001b[0m\u001b[0;34m.\u001b[0m\u001b[0m_engine\u001b[0m \u001b[0;34m=\u001b[0m \u001b[0mself\u001b[0m\u001b[0;34m.\u001b[0m\u001b[0m_make_engine\u001b[0m\u001b[0;34m(\u001b[0m\u001b[0mf\u001b[0m\u001b[0;34m,\u001b[0m \u001b[0mself\u001b[0m\u001b[0;34m.\u001b[0m\u001b[0mengine\u001b[0m\u001b[0;34m)\u001b[0m\u001b[0;34m\u001b[0m\u001b[0;34m\u001b[0m\u001b[0m\n\u001b[0m\u001b[1;32m   1443\u001b[0m \u001b[0;34m\u001b[0m\u001b[0m\n\u001b[1;32m   1444\u001b[0m     \u001b[0;32mdef\u001b[0m \u001b[0mclose\u001b[0m\u001b[0;34m(\u001b[0m\u001b[0mself\u001b[0m\u001b[0;34m)\u001b[0m \u001b[0;34m->\u001b[0m \u001b[0;32mNone\u001b[0m\u001b[0;34m:\u001b[0m\u001b[0;34m\u001b[0m\u001b[0;34m\u001b[0m\u001b[0m\n",
            "\u001b[0;32m/usr/local/lib/python3.10/dist-packages/pandas/io/parsers/readers.py\u001b[0m in \u001b[0;36m_make_engine\u001b[0;34m(self, f, engine)\u001b[0m\n\u001b[1;32m   1733\u001b[0m                 \u001b[0;32mif\u001b[0m \u001b[0;34m\"b\"\u001b[0m \u001b[0;32mnot\u001b[0m \u001b[0;32min\u001b[0m \u001b[0mmode\u001b[0m\u001b[0;34m:\u001b[0m\u001b[0;34m\u001b[0m\u001b[0;34m\u001b[0m\u001b[0m\n\u001b[1;32m   1734\u001b[0m                     \u001b[0mmode\u001b[0m \u001b[0;34m+=\u001b[0m \u001b[0;34m\"b\"\u001b[0m\u001b[0;34m\u001b[0m\u001b[0;34m\u001b[0m\u001b[0m\n\u001b[0;32m-> 1735\u001b[0;31m             self.handles = get_handle(\n\u001b[0m\u001b[1;32m   1736\u001b[0m                 \u001b[0mf\u001b[0m\u001b[0;34m,\u001b[0m\u001b[0;34m\u001b[0m\u001b[0;34m\u001b[0m\u001b[0m\n\u001b[1;32m   1737\u001b[0m                 \u001b[0mmode\u001b[0m\u001b[0;34m,\u001b[0m\u001b[0;34m\u001b[0m\u001b[0;34m\u001b[0m\u001b[0m\n",
            "\u001b[0;32m/usr/local/lib/python3.10/dist-packages/pandas/io/common.py\u001b[0m in \u001b[0;36mget_handle\u001b[0;34m(path_or_buf, mode, encoding, compression, memory_map, is_text, errors, storage_options)\u001b[0m\n\u001b[1;32m    854\u001b[0m         \u001b[0;32mif\u001b[0m \u001b[0mioargs\u001b[0m\u001b[0;34m.\u001b[0m\u001b[0mencoding\u001b[0m \u001b[0;32mand\u001b[0m \u001b[0;34m\"b\"\u001b[0m \u001b[0;32mnot\u001b[0m \u001b[0;32min\u001b[0m \u001b[0mioargs\u001b[0m\u001b[0;34m.\u001b[0m\u001b[0mmode\u001b[0m\u001b[0;34m:\u001b[0m\u001b[0;34m\u001b[0m\u001b[0;34m\u001b[0m\u001b[0m\n\u001b[1;32m    855\u001b[0m             \u001b[0;31m# Encoding\u001b[0m\u001b[0;34m\u001b[0m\u001b[0;34m\u001b[0m\u001b[0m\n\u001b[0;32m--> 856\u001b[0;31m             handle = open(\n\u001b[0m\u001b[1;32m    857\u001b[0m                 \u001b[0mhandle\u001b[0m\u001b[0;34m,\u001b[0m\u001b[0;34m\u001b[0m\u001b[0;34m\u001b[0m\u001b[0m\n\u001b[1;32m    858\u001b[0m                 \u001b[0mioargs\u001b[0m\u001b[0;34m.\u001b[0m\u001b[0mmode\u001b[0m\u001b[0;34m,\u001b[0m\u001b[0;34m\u001b[0m\u001b[0;34m\u001b[0m\u001b[0m\n",
            "\u001b[0;31mFileNotFoundError\u001b[0m: [Errno 2] No such file or directory: 'winmodel'"
          ]
        }
      ]
    },
    {
      "cell_type": "code",
      "execution_count": null,
      "metadata": {
        "id": "37kD-lp-hNt0"
      },
      "outputs": [],
      "source": [
        "# Mostrar los resultados ordenados por predicciones\n",
        "credit_card_data_new.sort_values('pred_PURCHASES', ascending=False)\n"
      ]
    }
  ]
}